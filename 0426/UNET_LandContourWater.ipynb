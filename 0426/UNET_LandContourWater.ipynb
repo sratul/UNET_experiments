{
 "cells": [
  {
   "cell_type": "code",
   "execution_count": 1,
   "metadata": {},
   "outputs": [],
   "source": [
    "train_dir_LandSAT = r\"C:\\Users\\HPCL\\OneDrive - University of New Orleans\\Documents\\Research\\Year 1\\Pytorch\\Year1_Research\\New Experimets\\Data\\Landsat 30m Resolution\"\n",
    "train_dir_Sentinel = r\"C:\\Users\\HPCL\\OneDrive - University of New Orleans\\Documents\\Research\\Year 1\\Pytorch\\Year1_Research\\New Experimets\\Data\\Sentinel uint16 Data 0%water and 0%land exclude\"\n",
    "save_last = r\"C:\\Saiful_Results\\UNET_MC_2_Base_Full\"\n"
   ]
  },
  {
   "cell_type": "code",
   "execution_count": 2,
   "metadata": {},
   "outputs": [
    {
     "name": "stdout",
     "output_type": "stream",
     "text": [
      "Wed-Apr-26-09-55-55-2023\n",
      "C:\\Saiful_Results\\UNET_MC_2_Base_Full\\Wed-Apr-26-09-55-55-2023\n"
     ]
    }
   ],
   "source": [
    "import time\n",
    "\n",
    "today=str(time.ctime().replace(\":\",\"-\").replace(\" \",\"-\"))\n",
    "print(today)\n",
    "\n",
    "save_last = save_last+\"\\\\\"+today\n",
    "    \n",
    "print(save_last)"
   ]
  },
  {
   "cell_type": "code",
   "execution_count": 3,
   "metadata": {},
   "outputs": [],
   "source": [
    "import os\n",
    "\n",
    "\n",
    "\n",
    "if not os.path.exists(save_last):\n",
    "    os.makedirs(save_last) \n",
    "    \n",
    "    \n",
    "    "
   ]
  },
  {
   "cell_type": "code",
   "execution_count": 4,
   "metadata": {},
   "outputs": [],
   "source": [
    "import numpy as np\n",
    "import matplotlib.pyplot as plt\n",
    "# import os\n",
    "import copy\n",
    "import sys\n",
    "import random\n",
    "import albumentations as A\n",
    "from albumentations.pytorch import ToTensorV2\n",
    "import cv2\n",
    "from PIL import Image\n",
    "from collections import OrderedDict\n",
    "import pandas as pd\n",
    "from tqdm import tqdm\n",
    "import random\n",
    "from collections import defaultdict \n",
    "import tifffile as tiff\n",
    "import imageio as io\n",
    "import torch\n",
    "import torch.nn as nn\n",
    "import torch.nn.functional as F\n",
    "import torch.optim as optim\n",
    "import torchvision\n",
    "\n",
    "import segmentation_models_pytorch as smp\n",
    "from skimage.morphology import binary_dilation, binary_erosion\n",
    "from torchsummary import summary\n",
    "from torch.utils.data import Dataset, DataLoader, ConcatDataset\n",
    "from sklearn.metrics import average_precision_score"
   ]
  },
  {
   "cell_type": "code",
   "execution_count": 5,
   "metadata": {
    "scrolled": true
   },
   "outputs": [
    {
     "name": "stdout",
     "output_type": "stream",
     "text": [
      "cuda:0\n"
     ]
    }
   ],
   "source": [
    "device = torch.device('cuda:0' if torch.cuda.is_available() else 'cpu')\n",
    "print(device)"
   ]
  },
  {
   "cell_type": "markdown",
   "metadata": {},
   "source": [
    "# Loss Functions"
   ]
  },
  {
   "cell_type": "code",
   "execution_count": 6,
   "metadata": {},
   "outputs": [],
   "source": [
    "def weighted_bce_loss(output,y,weight):\n",
    "    epsilon= 1e-7\n",
    "    output = torch.clamp(output, epsilon, 1.-epsilon)\n",
    "    logit_output = torch.log(output/(1.-output))\n",
    "    \n",
    "    loss = (1.-y)*logit_output + (1.+(weight-1.)*y) * (torch.log(1.+torch.exp(-torch.abs(logit_output))) + torch.maximum(-logit_output,torch.tensor(0.).cuda()))\n",
    "    return torch.sum(loss)/torch.sum(weight)\n",
    "\n",
    "def weighted_dice_loss(output,y,weight):\n",
    "    smooth = 1.\n",
    "    w,m1,m2 = weight*weight, y, output\n",
    "    intersection = (m1*m2)\n",
    "    score = (2.*torch.sum(w*intersection)+smooth)/(torch.sum(w*m1)+torch.sum(w*m2)+smooth)\n",
    "    loss  = 1.-torch.sum(score)\n",
    "    return loss\n",
    "\n",
    "def iou_loss(y_pred, y_true, weight):\n",
    "    weight = weight*weight\n",
    "    intersection = y_true * y_pred\n",
    "    not_true     = 1 - y_true\n",
    "    union        = y_true + (not_true * y_pred)\n",
    "    iou          = (torch.sum(intersection * weight)) / (torch.sum(union * weight))\n",
    "\n",
    "    loss = 1-iou\n",
    "    return loss\n",
    "    \n",
    "\n",
    "def border_loss(output,y,pool_size=(9,9), pad=(4,4)):\n",
    "    y      = y.type(torch.float32)\n",
    "    \n",
    "    output = output.type(torch.float32)\n",
    "    \n",
    "    averaged_mask = F.avg_pool2d(y,kernel_size=pool_size,stride=(1,1), padding=pad)\n",
    "    border = (averaged_mask>0.005).type(torch.float32) * (averaged_mask<0.995).type(torch.float32)\n",
    "    weight = torch.ones_like(averaged_mask)\n",
    "    w0     = torch.sum(weight)\n",
    "    weight+= border*2\n",
    "    w1     = torch.sum(weight)\n",
    "    weight*= (w0/w1)\n",
    "    loss   = weighted_bce_loss(output,y,weight) + weighted_dice_loss(output,y,weight) + iou_loss(output,y,weight)\n",
    "    return loss"
   ]
  },
  {
   "cell_type": "markdown",
   "metadata": {},
   "source": [
    "# Functions"
   ]
  },
  {
   "cell_type": "code",
   "execution_count": 7,
   "metadata": {},
   "outputs": [],
   "source": [
    "################ Metrics #######################\n",
    "def IoU_pr_rec_f1(y_true, y_pred):\n",
    "    \n",
    "    y_true = y_true.reshape(-1)\n",
    "    y_pred = y_pred.reshape(-1)\n",
    "    y_pred = ((y_pred)*1.).type(torch.float32)\n",
    "    \n",
    "    tp = torch.sum(y_true*(y_pred))\n",
    "    tn = torch.sum((1-y_true)*((1-y_pred)))\n",
    "    fp = torch.sum((1-y_true)*(y_pred))\n",
    "    fn = torch.sum((y_true)*((1-y_pred)))\n",
    "    \n",
    "    pr  = (tp/(tp+fp))\n",
    "    rec = (tp/(tp+fn))\n",
    "    f1  = ((2*pr*rec)/(pr+rec))\n",
    "    tnr = (tn/(tn+fp))\n",
    "    fpr = (fp/(fp+tn))\n",
    "    \n",
    "    intersection = y_true*y_pred\n",
    "    not_true     = 1 - y_true\n",
    "    union        = y_true + (not_true * y_pred)\n",
    "    iou         = (torch.sum(intersection)) / (torch.sum(union))\n",
    "    \n",
    "    return iou, pr, rec, f1, tnr, fpr\n",
    "\n",
    "# Saving Metrics\n",
    "def metrics():\n",
    "    x = np.arange(0,1,0.05)\n",
    "    IoU_      = []\n",
    "    threshold = []\n",
    "    precision = []\n",
    "    recall    = []\n",
    "    F_score   = []\n",
    "    mF_score  = []\n",
    "    TNR       = []\n",
    "    FPR       = []\n",
    "    name_list = []\n",
    "\n",
    "    dict_1 = {'Threshold': threshold,\n",
    "              'Name':name_list,\n",
    "              'IoU':IoU_,\n",
    "              'Precision':precision,\n",
    "              'Recall':recall,\n",
    "              'F-Score':F_score,\n",
    "              'mF-Score':mF_score,\n",
    "              'True Negative Rate':TNR,\n",
    "              'False Positive Rate':FPR}\n",
    "    return dict_1\n",
    "\n",
    "def best_f_score(name, test_masks, predictions) :\n",
    "    dict_1 = metrics()\n",
    "    y = 0\n",
    "    outer = 0\n",
    "    check = 0\n",
    "    x = 0 \n",
    "    y = 1\n",
    "    while outer<3:    \n",
    "        if y>1:\n",
    "            m = y-1\n",
    "            y-= m\n",
    "        z = np.linspace(x, y, 21)\n",
    "        for i in z:\n",
    "#             print(i)\n",
    "            y_true = torch.from_numpy(test_masks)\n",
    "            y_pred = torch.from_numpy((predictions>i)*1)\n",
    "\n",
    "            tp = torch.sum(y_true*(y_pred),dim=[1,2,3])\n",
    "            tn = torch.sum((1-y_true)*((1-y_pred)),dim=[1,2,3])\n",
    "            fp = torch.sum((1-y_true)*(y_pred),dim=[1,2,3])\n",
    "            fn = torch.sum((y_true)*((1-y_pred)),dim=[1,2,3])\n",
    "\n",
    "            pr  = (tp/(tp+fp))\n",
    "            rec = (tp/(tp+fn))\n",
    "            score  = ((2*pr*rec)/(pr+rec))\n",
    "            idx    = torch.isnan(score)\n",
    "            score[idx] = 0\n",
    "            score  = torch.sum(score)/len(X_test)\n",
    "            \n",
    "            a,b,c,d,e,f = IoU_pr_rec_f1(torch.from_numpy(test_masks), torch.from_numpy(predictions>i))\n",
    "            dict_1['IoU'].append(a.numpy())\n",
    "            dict_1['Threshold'].append(i)\n",
    "            dict_1['Precision'].append(b.numpy())\n",
    "            dict_1['Recall'].append(c.numpy())\n",
    "            dict_1['F-Score'].append(d.numpy())\n",
    "            dict_1['mF-Score'].append(score.cpu().detach().numpy())\n",
    "            dict_1['True Negative Rate'].append(e.numpy())\n",
    "            dict_1['False Positive Rate'].append(f.numpy())\n",
    "            dict_1['Name'].append(name)\n",
    "            if d>check:\n",
    "                check = d\n",
    "                x = i\n",
    "            else:\n",
    "                pass\n",
    "        if outer == 0:\n",
    "            y = x+0.1\n",
    "        elif outer==1:\n",
    "            y = x+0.01\n",
    "        outer+=1\n",
    "    \n",
    "    df = pd.DataFrame(dict_1)\n",
    "    df = df.sort_values(by=['F-Score'], ascending=False)\n",
    "    df = df.iloc[0:1]\n",
    "    \n",
    "    AP = average_precision_score(test_masks.reshape(-1), predictions.reshape(-1))\n",
    "    df['AP'] = AP\n",
    "        \n",
    "    return df\n",
    "\n",
    "dict_1 = metrics()"
   ]
  },
  {
   "cell_type": "markdown",
   "metadata": {},
   "source": [
    "# Load Labeled Data"
   ]
  },
  {
   "cell_type": "code",
   "execution_count": 8,
   "metadata": {},
   "outputs": [
    {
     "name": "stderr",
     "output_type": "stream",
     "text": [
      "C:\\Users\\HPCL\\AppData\\Local\\Temp\\ipykernel_22048\\3036067045.py:5: RuntimeWarning: invalid value encountered in true_divide\n",
      "  Y_train_LandSAT = (X_train_LandSAT[...,1]-X_train_LandSAT[...,3])/(X_train_LandSAT[...,1]+X_train_LandSAT[...,3])\n",
      "C:\\Users\\HPCL\\AppData\\Local\\Temp\\ipykernel_22048\\3036067045.py:7: RuntimeWarning: invalid value encountered in true_divide\n",
      "  Y_test_LandSAT  = (X_test_LandSAT[...,1]-X_test_LandSAT[...,3])/(X_test_LandSAT[...,1]+X_test_LandSAT[...,3])\n"
     ]
    }
   ],
   "source": [
    "X_train_LandSAT = np.load(r\"{}\\X_train_4500_30m_res.npy\".format(train_dir_LandSAT))\n",
    "X_val_LandSAT   = np.load(r\"{}\\X_val_500_30m_res.npy\".format(train_dir_LandSAT))\n",
    "X_test_LandSAT  = np.load(r\"{}\\X_test_2000_30m_res.npy\".format(train_dir_LandSAT))\n",
    "\n",
    "Y_train_LandSAT = (X_train_LandSAT[...,1]-X_train_LandSAT[...,3])/(X_train_LandSAT[...,1]+X_train_LandSAT[...,3])\n",
    "Y_val_LandSAT   = (X_val_LandSAT[...,1]-X_val_LandSAT[...,3])/(X_val_LandSAT[...,1]+X_val_LandSAT[...,3])\n",
    "Y_test_LandSAT  = (X_test_LandSAT[...,1]-X_test_LandSAT[...,3])/(X_test_LandSAT[...,1]+X_test_LandSAT[...,3])\n",
    "\n",
    "Y_train_LandSAT = ((Y_train_LandSAT<1.)*1).astype('float32')\n",
    "Y_val_LandSAT   = ((Y_val_LandSAT<1.)*1).astype('float32')\n",
    "Y_test_LandSAT  = ((Y_test_LandSAT<1.)*1).astype('float32')\n",
    "\n",
    "X_train_LandSAT = X_train_LandSAT[...,2::-1].copy()\n",
    "X_val_LandSAT   = X_val_LandSAT[...,2::-1].copy()\n",
    "X_test_LandSAT  = X_test_LandSAT[...,2::-1].copy()\n",
    "\n",
    "X_train_LandSAT = X_train_LandSAT - X_train_LandSAT.min(axis=(1,2), keepdims=True) \n",
    "X_val_LandSAT   = X_val_LandSAT  - X_val_LandSAT.min(axis=(1,2), keepdims=True)\n",
    "X_test_LandSAT  = X_test_LandSAT - X_test_LandSAT.min(axis=(1,2), keepdims=True) \n",
    "\n",
    "X_train_LandSAT = X_train_LandSAT / X_train_LandSAT.max(axis=(1,2), keepdims=True) \n",
    "X_val_LandSAT   = X_val_LandSAT  / X_val_LandSAT.max(axis=(1,2), keepdims=True)\n",
    "X_test_LandSAT  = X_test_LandSAT / X_test_LandSAT.max(axis=(1,2), keepdims=True) "
   ]
  },
  {
   "cell_type": "code",
   "execution_count": 9,
   "metadata": {},
   "outputs": [],
   "source": [
    "## SENTINEL DATA"
   ]
  },
  {
   "cell_type": "code",
   "execution_count": 10,
   "metadata": {},
   "outputs": [
    {
     "data": {
      "text/plain": [
       "(4608, 513)"
      ]
     },
     "execution_count": 10,
     "metadata": {},
     "output_type": "execute_result"
    }
   ],
   "source": [
    "np.random.seed(49)\n",
    "pop = np.arange(5121)\n",
    "sample_train = np.random.choice(pop, 4608, replace=False)\n",
    "sample_val  = np.delete(pop, sample_train)\n",
    "len(sample_train), len(sample_val)"
   ]
  },
  {
   "cell_type": "code",
   "execution_count": 11,
   "metadata": {},
   "outputs": [
    {
     "data": {
      "text/plain": [
       "(4608, 128, 128)"
      ]
     },
     "execution_count": 11,
     "metadata": {},
     "output_type": "execute_result"
    }
   ],
   "source": [
    "X_sen      = np.load(r\"{}\\X_train_sentinel_6_channles_5121.npy\".format(train_dir_Sentinel))\n",
    "X_test_sen = np.load(r\"{}\\X_test_sentinel_6_channles_2053.npy\".format(train_dir_Sentinel))\n",
    "X_train_sen= X_sen[sample_train]\n",
    "X_val_sen  = X_sen[sample_val]\n",
    "\n",
    "Y_train_sen         = (X_train_sen[...,1]-X_train_sen[...,3])/(X_train_sen[...,1]+X_train_sen[...,3])\n",
    "Y_val_sen           = (X_val_sen[...,1]-X_val_sen[...,3])/(X_val_sen[...,1]+X_val_sen[...,3])\n",
    "Y_test_sen         = (X_test_sen[...,1]-X_test_sen[...,3])/(X_test_sen[...,1]+X_test_sen[...,3])\n",
    "\n",
    "Y_train_sen         = ((Y_train_sen<1.)*1).astype('float32')\n",
    "Y_val_sen           = ((Y_val_sen<1.)*1).astype('float32')\n",
    "Y_test_sen          = ((Y_test_sen<1.)*1).astype('float32')\n",
    "\n",
    "X_train_sen         = X_train_sen[...,2::-1].copy()\n",
    "X_val_sen           = X_val_sen[...,2::-1].copy()\n",
    "X_test_sen          = X_test_sen[...,2::-1].copy()\n",
    "\n",
    "X_train_sen         = np.clip(X_train_sen, 0, 3558) \n",
    "X_val_sen           = np.clip(X_val_sen, 0, 3558)\n",
    "X_test_sen          = np.clip(X_test_sen, 0, 3558) \n",
    "\n",
    "X_train_sen         = (X_train_sen / 3558).astype(np.float32) \n",
    "X_val_sen           = (X_val_sen  / 3558).astype(np.float32)\n",
    "X_test_sen          = (X_test_sen / 3558).astype(np.float32) \n",
    "\n",
    "Y_train_sen.shape"
   ]
  },
  {
   "cell_type": "code",
   "execution_count": 12,
   "metadata": {},
   "outputs": [
    {
     "data": {
      "text/plain": [
       "(2053, 128, 128)"
      ]
     },
     "execution_count": 12,
     "metadata": {},
     "output_type": "execute_result"
    }
   ],
   "source": [
    "Y_test= Y_test_sen # np.concatenate((Y_test_LandSAT,Y_test_sen),axis = 0)\n",
    "Y_test.shape"
   ]
  },
  {
   "cell_type": "code",
   "execution_count": 13,
   "metadata": {},
   "outputs": [],
   "source": [
    "# Contours for Sentinel\n",
    "\n",
    "\n",
    "Y_train_sen_ndwi = np.array([mask for mask in Y_train_sen], dtype='float64')\n",
    "\n",
    "Y_val_sen_ndwi = np.array([mask for mask in Y_val_sen], dtype='float64')\n",
    "\n",
    "Y_test_sen_ndwi = np.array([mask for mask in Y_test_sen], dtype='float64')"
   ]
  },
  {
   "cell_type": "code",
   "execution_count": 14,
   "metadata": {},
   "outputs": [
    {
     "data": {
      "text/plain": [
       "(2053, 128, 128)"
      ]
     },
     "execution_count": 14,
     "metadata": {},
     "output_type": "execute_result"
    }
   ],
   "source": [
    "Y_test_sen_ndwi.shape\n"
   ]
  },
  {
   "cell_type": "markdown",
   "metadata": {},
   "source": [
    "b = np.zeros((yyyy.size, yyyy.max() + 1.0))\n",
    "b[np.arange(yyyy.size), yyyy] = 1.0\n"
   ]
  },
  {
   "cell_type": "code",
   "execution_count": null,
   "metadata": {},
   "outputs": [],
   "source": []
  },
  {
   "cell_type": "code",
   "execution_count": null,
   "metadata": {},
   "outputs": [],
   "source": []
  },
  {
   "cell_type": "code",
   "execution_count": 15,
   "metadata": {},
   "outputs": [],
   "source": [
    "Y_train_sen  = np.array([binary_dilation(binary_dilation(mask))-mask for mask in Y_train_sen], dtype='float64')\n",
    "Y_val_sen   = np.array([binary_dilation(binary_dilation(mask))-mask for mask in Y_val_sen], dtype='float64')\n",
    "Y_test_sen  = np.array([binary_dilation(binary_dilation(mask))-mask for mask in Y_test_sen], dtype='float64')"
   ]
  },
  {
   "cell_type": "code",
   "execution_count": 16,
   "metadata": {},
   "outputs": [],
   "source": [
    "Y_train_sen = Y_train_sen + 2*(Y_train_sen_ndwi)"
   ]
  },
  {
   "cell_type": "code",
   "execution_count": 17,
   "metadata": {},
   "outputs": [
    {
     "data": {
      "text/plain": [
       "array([0., 0., 0., ..., 0., 1., 1.])"
      ]
     },
     "execution_count": 17,
     "metadata": {},
     "output_type": "execute_result"
    }
   ],
   "source": [
    "Y_train_sen[Y_train_sen<2]"
   ]
  },
  {
   "cell_type": "code",
   "execution_count": 18,
   "metadata": {},
   "outputs": [
    {
     "data": {
      "text/plain": [
       "(4608, 128, 128)"
      ]
     },
     "execution_count": 18,
     "metadata": {},
     "output_type": "execute_result"
    }
   ],
   "source": [
    "Y_train_sen.shape"
   ]
  },
  {
   "cell_type": "code",
   "execution_count": 19,
   "metadata": {},
   "outputs": [],
   "source": [
    "def createOneHotKey(original,ndwi):\n",
    "    combined = original + 2 * ndwi\n",
    "    \n",
    "    land = np.where(combined == 0, 1.0, 0.0)\n",
    "    contour = np.where(combined==1,1.0,0.0)\n",
    "    water= np.where(combined==2,1.0,0.0)\n",
    "    \n",
    "    one_hot_label = np.concatenate((combined[...,np.newaxis], land[...,np.newaxis]), axis=3)\n",
    "    one_hot_label = np.concatenate((one_hot_label, contour[...,np.newaxis]), axis=3)\n",
    "    one_hot_label = np.concatenate((one_hot_label, water[...,np.newaxis]), axis=3)\n",
    "    one_hot_label = one_hot_label[...,1:4]\n",
    "    \n",
    "    print(one_hot_label.shape)\n",
    "    return one_hot_label"
   ]
  },
  {
   "cell_type": "code",
   "execution_count": 20,
   "metadata": {},
   "outputs": [
    {
     "name": "stdout",
     "output_type": "stream",
     "text": [
      "(4608, 128, 128, 3)\n",
      "(513, 128, 128, 3)\n",
      "(2053, 128, 128, 3)\n"
     ]
    }
   ],
   "source": [
    "Y_train_sen = createOneHotKey(Y_train_sen,Y_train_sen_ndwi)\n",
    "\n",
    "Y_val_sen = createOneHotKey(Y_val_sen,Y_val_sen_ndwi)\n",
    "\n",
    "Y_test_sen = createOneHotKey(Y_test_sen,Y_test_sen_ndwi)"
   ]
  },
  {
   "cell_type": "code",
   "execution_count": null,
   "metadata": {},
   "outputs": [],
   "source": []
  },
  {
   "cell_type": "code",
   "execution_count": null,
   "metadata": {},
   "outputs": [],
   "source": []
  },
  {
   "cell_type": "code",
   "execution_count": null,
   "metadata": {},
   "outputs": [],
   "source": []
  },
  {
   "cell_type": "code",
   "execution_count": null,
   "metadata": {},
   "outputs": [],
   "source": []
  },
  {
   "cell_type": "code",
   "execution_count": 21,
   "metadata": {},
   "outputs": [],
   "source": [
    "from sklearn.utils import shuffle\n",
    "X_sen, Y_sen = shuffle(X_train_sen, Y_train_sen, random_state=0)"
   ]
  },
  {
   "cell_type": "code",
   "execution_count": 22,
   "metadata": {},
   "outputs": [
    {
     "data": {
      "text/plain": [
       "<matplotlib.image.AxesImage at 0x1bfdd684250>"
      ]
     },
     "execution_count": 22,
     "metadata": {},
     "output_type": "execute_result"
    },
    {
     "data": {
      "image/png": "[encoded data removed]",
      "text/plain": [
       "<Figure size 432x288 with 1 Axes>"
      ]
     },
     "metadata": {
      "needs_background": "light"
     },
     "output_type": "display_data"
    }
   ],
   "source": [
    "plt.imshow(Y_sen[0])"
   ]
  },
  {
   "cell_type": "code",
   "execution_count": 23,
   "metadata": {},
   "outputs": [
    {
     "data": {
      "text/plain": [
       "<matplotlib.image.AxesImage at 0x1bfef2fda00>"
      ]
     },
     "execution_count": 23,
     "metadata": {},
     "output_type": "execute_result"
    },
    {
     "data": {
      "image/png": "[encoded data removed]",
      "text/plain": [
       "<Figure size 432x288 with 1 Axes>"
      ]
     },
     "metadata": {
      "needs_background": "light"
     },
     "output_type": "display_data"
    }
   ],
   "source": [
    "plt.imshow(X_sen[0])"
   ]
  },
  {
   "cell_type": "code",
   "execution_count": 24,
   "metadata": {},
   "outputs": [],
   "source": [
    "# Contours for LandSAT"
   ]
  },
  {
   "cell_type": "code",
   "execution_count": 25,
   "metadata": {},
   "outputs": [],
   "source": [
    "Y_train_LandSAT_ndwi  = np.array([mask for mask in Y_train_LandSAT], dtype='float64')\n",
    "Y_val_LandSAT_ndwi   = np.array([mask for mask in Y_val_LandSAT], dtype='float64')\n",
    "Y_test_LandSAT_ndwi  = np.array([mask for mask in Y_test_LandSAT], dtype='float64')"
   ]
  },
  {
   "cell_type": "code",
   "execution_count": null,
   "metadata": {},
   "outputs": [],
   "source": []
  },
  {
   "cell_type": "code",
   "execution_count": 26,
   "metadata": {},
   "outputs": [],
   "source": [
    "Y_train_LandSAT  = np.array([binary_dilation(mask)-mask for mask in Y_train_LandSAT], dtype='float64')\n",
    "Y_val_LandSAT   = np.array([binary_dilation(mask)-mask for mask in Y_val_LandSAT], dtype='float64')\n",
    "Y_test_LandSAT  = np.array([binary_dilation(mask)-mask for mask in Y_test_LandSAT], dtype='float64')"
   ]
  },
  {
   "cell_type": "code",
   "execution_count": null,
   "metadata": {},
   "outputs": [],
   "source": []
  },
  {
   "cell_type": "code",
   "execution_count": 27,
   "metadata": {},
   "outputs": [
    {
     "name": "stdout",
     "output_type": "stream",
     "text": [
      "(4500, 128, 128, 3)\n",
      "(500, 128, 128, 3)\n",
      "(2000, 128, 128, 3)\n"
     ]
    }
   ],
   "source": [
    "Y_train_LandSAT = createOneHotKey(Y_train_LandSAT,Y_train_LandSAT_ndwi)\n",
    "\n",
    "Y_val_LandSAT = createOneHotKey(Y_val_LandSAT,Y_val_LandSAT_ndwi)\n",
    "\n",
    "Y_test_LandSAT = createOneHotKey(Y_test_LandSAT,Y_test_LandSAT_ndwi)"
   ]
  },
  {
   "cell_type": "code",
   "execution_count": null,
   "metadata": {},
   "outputs": [],
   "source": []
  },
  {
   "cell_type": "code",
   "execution_count": null,
   "metadata": {},
   "outputs": [],
   "source": []
  },
  {
   "cell_type": "code",
   "execution_count": 28,
   "metadata": {},
   "outputs": [],
   "source": [
    "X_LS, Y_LS = shuffle(X_train_LandSAT, Y_train_LandSAT, random_state=0)"
   ]
  },
  {
   "cell_type": "code",
   "execution_count": 29,
   "metadata": {},
   "outputs": [
    {
     "name": "stderr",
     "output_type": "stream",
     "text": [
      "Clipping input data to the valid range for imshow with RGB data ([0..1] for floats or [0..255] for integers).\n"
     ]
    },
    {
     "data": {
      "text/plain": [
       "<matplotlib.image.AxesImage at 0x1bfef3d25b0>"
      ]
     },
     "execution_count": 29,
     "metadata": {},
     "output_type": "execute_result"
    },
    {
     "data": {
      "image/png": "[encoded data removed]",
      "text/plain": [
       "<Figure size 432x288 with 1 Axes>"
      ]
     },
     "metadata": {
      "needs_background": "light"
     },
     "output_type": "display_data"
    }
   ],
   "source": [
    "plt.imshow(X_LS[0]+Y_LS[0])"
   ]
  },
  {
   "cell_type": "code",
   "execution_count": 30,
   "metadata": {},
   "outputs": [],
   "source": [
    "# Concatenate the inputs and labels#"
   ]
  },
  {
   "cell_type": "code",
   "execution_count": 31,
   "metadata": {},
   "outputs": [
    {
     "name": "stdout",
     "output_type": "stream",
     "text": [
      "(9108, 128, 128, 3)\n",
      "(1013, 128, 128, 3)\n",
      "(4053, 128, 128, 3)\n"
     ]
    }
   ],
   "source": [
    "X_train = np.concatenate((X_LS,X_sen),axis = 0)\n",
    "print(X_train.shape)\n",
    "\n",
    "X_val = np.concatenate((X_val_LandSAT,X_val_sen),axis = 0)\n",
    "print(X_val.shape)\n",
    "\n",
    "X_test = np.concatenate((X_test_LandSAT,X_test_sen),axis = 0)\n",
    "print(X_test.shape)"
   ]
  },
  {
   "cell_type": "code",
   "execution_count": 32,
   "metadata": {},
   "outputs": [
    {
     "name": "stdout",
     "output_type": "stream",
     "text": [
      "(9108, 128, 128, 3)\n",
      "(1013, 128, 128, 3)\n",
      "(4053, 128, 128, 3)\n"
     ]
    }
   ],
   "source": [
    "Y_train=  np.concatenate((Y_LS,Y_sen),axis = 0)\n",
    "print(Y_train.shape)\n",
    "\n",
    "Y_val=  np.concatenate((Y_val_LandSAT,Y_val_sen),axis = 0)\n",
    "print(Y_val.shape)\n",
    "\n",
    "Y_test=  np.concatenate((Y_test_LandSAT,Y_test_sen),axis = 0)\n",
    "print(Y_test.shape)"
   ]
  },
  {
   "cell_type": "code",
   "execution_count": 33,
   "metadata": {},
   "outputs": [],
   "source": [
    "# shuffle the training data"
   ]
  },
  {
   "cell_type": "code",
   "execution_count": 34,
   "metadata": {},
   "outputs": [],
   "source": [
    "X, Y = shuffle(X_train, Y_train, random_state=0)"
   ]
  },
  {
   "cell_type": "code",
   "execution_count": 35,
   "metadata": {},
   "outputs": [
    {
     "name": "stderr",
     "output_type": "stream",
     "text": [
      "Clipping input data to the valid range for imshow with RGB data ([0..1] for floats or [0..255] for integers).\n"
     ]
    },
    {
     "data": {
      "text/plain": [
       "<matplotlib.image.AxesImage at 0x1c025f2f910>"
      ]
     },
     "execution_count": 35,
     "metadata": {},
     "output_type": "execute_result"
    },
    {
     "data": {
      "image/png": "[encoded data removed]",
      "text/plain": [
       "<Figure size 432x288 with 1 Axes>"
      ]
     },
     "metadata": {
      "needs_background": "light"
     },
     "output_type": "display_data"
    }
   ],
   "source": [
    "plt.imshow(X[0]+Y[0])"
   ]
  },
  {
   "cell_type": "code",
   "execution_count": 36,
   "metadata": {},
   "outputs": [
    {
     "name": "stderr",
     "output_type": "stream",
     "text": [
      "Clipping input data to the valid range for imshow with RGB data ([0..1] for floats or [0..255] for integers).\n"
     ]
    },
    {
     "data": {
      "text/plain": [
       "<matplotlib.image.AxesImage at 0x1c025f9a6d0>"
      ]
     },
     "execution_count": 36,
     "metadata": {},
     "output_type": "execute_result"
    },
    {
     "data": {
      "image/png": "[encoded data removed]",
      "text/plain": [
       "<Figure size 432x288 with 1 Axes>"
      ]
     },
     "metadata": {
      "needs_background": "light"
     },
     "output_type": "display_data"
    }
   ],
   "source": [
    "plt.imshow(X_val[1002]+Y_val[1002])"
   ]
  },
  {
   "cell_type": "code",
   "execution_count": 37,
   "metadata": {},
   "outputs": [
    {
     "name": "stderr",
     "output_type": "stream",
     "text": [
      "Clipping input data to the valid range for imshow with RGB data ([0..1] for floats or [0..255] for integers).\n"
     ]
    },
    {
     "data": {
      "text/plain": [
       "<matplotlib.image.AxesImage at 0x1c025ff8520>"
      ]
     },
     "execution_count": 37,
     "metadata": {},
     "output_type": "execute_result"
    },
    {
     "data": {
      "image/png": "[encoded data removed]",
      "text/plain": [
       "<Figure size 432x288 with 1 Axes>"
      ]
     },
     "metadata": {
      "needs_background": "light"
     },
     "output_type": "display_data"
    }
   ],
   "source": [
    "plt.imshow(X_test[4002]+Y_test[4002])"
   ]
  },
  {
   "cell_type": "code",
   "execution_count": null,
   "metadata": {},
   "outputs": [],
   "source": []
  },
  {
   "cell_type": "code",
   "execution_count": null,
   "metadata": {},
   "outputs": [],
   "source": []
  },
  {
   "cell_type": "markdown",
   "metadata": {},
   "source": [
    "# Pytorch DataLoaders"
   ]
  },
  {
   "cell_type": "code",
   "execution_count": 38,
   "metadata": {},
   "outputs": [],
   "source": [
    "class NDWIDataset_pseudo(Dataset):\n",
    "\n",
    "    def __init__(self, imgs, model_pred, threshold=None, transform=None, test_transform=None):\n",
    "        self.image   = imgs\n",
    "        self.model   = model_pred\n",
    "        self.transforms = transform\n",
    "        self.threshold  = threshold\n",
    "\n",
    "    def __len__(self):\n",
    "        return len(self.image)\n",
    "    \n",
    "    def __getitem__(self, idx):\n",
    "        image = self.image[idx].astype('float32')\n",
    "        model = self.model\n",
    "        image= image[...,2::-1].copy()\n",
    "        image= image - image.min(axis=(0,1))\n",
    "        image= image / image.max(axis=(0,1))\n",
    "        \n",
    "        if self.transforms:\n",
    "            augmentations = self.transforms(image=image)\n",
    "        \n",
    "        image = augmentations['image']\n",
    "        mask  = ((model(image[np.newaxis].cuda()).cpu().detach())>self.threshold)*1.\n",
    "        mask  = mask.squeeze()\n",
    "        mask  = mask[np.newaxis,:,:]\n",
    "        \n",
    "        return [image.type(torch.float32), \n",
    "                mask.type(torch.float32)]\n",
    "        "
   ]
  },
  {
   "cell_type": "code",
   "execution_count": 39,
   "metadata": {},
   "outputs": [],
   "source": [
    "class NDWIDataset_from_dir(Dataset):\n",
    "\n",
    "    def __init__(self, img_dir, model_pred, threshold=None, transform=None, test_transform=None):\n",
    "        self.dir     = img_dir\n",
    "        self.model   = model_pred\n",
    "        self.transforms = transform\n",
    "        self.threshold  = threshold\n",
    "\n",
    "    def __len__(self):\n",
    "        return len(self.dir)\n",
    "    \n",
    "    def __getitem__(self, idx):\n",
    "        path = self.dir[idx]\n",
    "        model = self.model\n",
    "        image= (tiff.imread(path)).astype('float32')\n",
    "        image= image[...,2::-1].copy()\n",
    "        image= image - image.min(axis=(0,1))\n",
    "        image= image / image.max(axis=(0,1))\n",
    "        \n",
    "        if self.transforms:\n",
    "            augmentations = self.transforms(image=image)\n",
    "        \n",
    "        image = augmentations['image']\n",
    "        mask  = ((model(image[np.newaxis].cuda()).cpu().detach())>self.threshold)*1.\n",
    "        mask  = mask.squeeze()\n",
    "        mask  = mask[np.newaxis,:,:]\n",
    "        \n",
    "        return [image.type(torch.float32), \n",
    "                mask.type(torch.float32)]"
   ]
  },
  {
   "cell_type": "code",
   "execution_count": 40,
   "metadata": {},
   "outputs": [],
   "source": [
    "class NDWIDataset_from_dir_reg(Dataset):\n",
    "\n",
    "    def __init__(self, img_dir, transform=None, test_transform=None):\n",
    "        self.dir     = img_dir\n",
    "        self.transforms = transform\n",
    "\n",
    "    def __len__(self):\n",
    "        return len(self.dir)\n",
    "    \n",
    "    def __getitem__(self, idx):\n",
    "        eps  = 1e-7\n",
    "        path = self.dir[idx]\n",
    "        image= (tiff.imread(path)).astype('float32')\n",
    "        mask = (((image[...,1]-image[...,3] +eps)/(image[...,1]+image[...,3] +eps))>0).astype('float32')\n",
    "        mask = binary_dilation(mask)-mask\n",
    "        \n",
    "        image= image[...,2::-1].copy()\n",
    "        image= (image) - (image.min(axis=(0,1)))\n",
    "        image= (image+eps) / (image.max(axis=(0,1))+eps)\n",
    "        \n",
    "        if self.transforms:\n",
    "            augmentations = self.transforms(image=image, mask=mask)\n",
    "        \n",
    "        image = augmentations['image']\n",
    "        mask = augmentations['mask']\n",
    "        mask = mask[np.newaxis,:,:]\n",
    "        \n",
    "        \n",
    "        return [image.type(torch.float32), \n",
    "                mask.type(torch.float32)]        "
   ]
  },
  {
   "cell_type": "code",
   "execution_count": 41,
   "metadata": {
    "code_folding": []
   },
   "outputs": [],
   "source": [
    "class NDWIDataset(Dataset):\n",
    "\n",
    "    def __init__(self, images, masks, transform=None, test_transform=None):\n",
    "        self.images     = images\n",
    "        self.masks      = masks\n",
    "        self.transforms = transform\n",
    "\n",
    "    def __len__(self):\n",
    "        return len(self.images)\n",
    "    \n",
    "    def __getitem__(self, idx):\n",
    "        \n",
    "        image = self.images[idx]\n",
    "        mask = self.masks[idx]\n",
    "\n",
    "        if self.transforms:\n",
    "            augmentations = self.transforms(image=image, mask=mask)\n",
    "        \n",
    "        image = augmentations['image']\n",
    "        mask  = augmentations['mask']\n",
    "#         mask  = mask[np.newaxis,:,:]\n",
    "        \n",
    "        return [image.type(torch.float32), \n",
    "                mask.type(torch.float32).permute(2,0,1)]\n",
    "        "
   ]
  },
  {
   "cell_type": "code",
   "execution_count": 42,
   "metadata": {},
   "outputs": [],
   "source": [
    "def data(trans, trans_test, X_train, Y_train, X_val, Y_val, X_test, Y_test, split=0.9, val=True, batch_size=16):\n",
    "    torch.manual_seed(49)\n",
    "    random.seed(49)\n",
    "    trainset= NDWIDataset(X_train, Y_train, transform=trans)\n",
    "\n",
    "    if val:\n",
    "        print(f'Training:{len(X_train)}, Validation:{len(X_val)}')\n",
    "        print(f'Testing: {len(X_test)}')\n",
    "        \n",
    "        valset  = NDWIDataset(X_val, Y_val, transform=trans_test)\n",
    "        testset = NDWIDataset(X_test, Y_test, transform=trans_test)\n",
    "        image_datasets = {'train': trainset, 'val': valset, 'test': testset}\n",
    "        batch_size = batch_size\n",
    "\n",
    "        dataloaders = {\n",
    "          'train': DataLoader(trainset, batch_size=batch_size, shuffle=True, pin_memory = True),#, num_workers=8),\n",
    "          'val': DataLoader(valset, batch_size=batch_size, shuffle=True, pin_memory = True),#, num_workers=8),\n",
    "          'test': DataLoader(testset, batch_size=batch_size, shuffle=False, pin_memory = True)#, num_workers=8)\n",
    "        }\n",
    "        \n",
    "    else:\n",
    "        print(f'Training:{len(X_train)}')\n",
    "        print(f'Testing: {len(X_test)}')\n",
    "        testset = NDWIDataset(X_test, Y_test, transform=trans_test)\n",
    "        image_datasets = {'train': trainset, 'test': testset}\n",
    "        batch_size = batch_size\n",
    "\n",
    "        dataloaders = {\n",
    "          'train': DataLoader(trainset, batch_size=batch_size, shuffle=True, pin_memory = True),#, num_workers=8),\n",
    "          'test': DataLoader(testset, batch_size=batch_size, shuffle=False, pin_memory = True)#, num_workers=8)\n",
    "        }\n",
    "        \n",
    "    \n",
    "    return dataloaders"
   ]
  },
  {
   "cell_type": "code",
   "execution_count": 43,
   "metadata": {},
   "outputs": [],
   "source": [
    "def data_from_dir_reg(trans, trans_test, list_train, list_val, list_test, split=0.9, factor=1, val=True, batch_size=16):\n",
    "    torch.manual_seed(49)\n",
    "    random.seed(49)\n",
    "    trainset = NDWIDataset_from_dir_reg(list_train, transform=trans)\n",
    "\n",
    "    if val:\n",
    "#         lengths = [int(len(dataset)*split), int(len(dataset)*(1-split))+factor]\n",
    "        \n",
    "        valset  = NDWIDataset_from_dir_reg(list_val, transform=trans)\n",
    "        testset = NDWIDataset_from_dir_reg(list_test, transform=trans_test)\n",
    "        print(f'Training:{len(list_train)}, Validation:{len(list_val)}')\n",
    "        print(f'Testing: {len(list_test)}')\n",
    "        image_datasets = {'train': trainset, 'val': valset, 'test': testset}\n",
    "        batch_size = batch_size\n",
    "\n",
    "        dataloaders = {\n",
    "          'train': DataLoader(trainset, batch_size=batch_size, shuffle=True, pin_memory = True),#, num_workers=8),\n",
    "          'val': DataLoader(valset, batch_size=batch_size, shuffle=True, pin_memory = True),#, num_workers=8),\n",
    "          'test': DataLoader(testset, batch_size=batch_size, shuffle=False, pin_memory = True)#, num_workers=8)\n",
    "        }\n",
    "        \n",
    "    else:\n",
    "        lengths = [int(len(dataset))]\n",
    "        print(f'Training:{len(list_train)}')\n",
    "        print(f'Testing: {len(list_test)}')\n",
    "        testset = NDWIDataset_from_dir_reg(list_test, transform=trans_test)\n",
    "        image_datasets = {'train': dataset, 'test': testset}\n",
    "        batch_size = batch_size\n",
    "\n",
    "        dataloaders = {\n",
    "          'train': DataLoader(dataset, batch_size=batch_size, shuffle=True, pin_memory = True),#, num_workers=8),\n",
    "          'test': DataLoader(testset, batch_size=batch_size, shuffle=False, pin_memory = True)#, num_workers=8)\n",
    "        }\n",
    "        \n",
    "    \n",
    "    return dataloaders"
   ]
  },
  {
   "cell_type": "code",
   "execution_count": 44,
   "metadata": {},
   "outputs": [],
   "source": [
    "def data_pseudo(trans, img_paths, model, batch_size=32, split=None):\n",
    "    torch.manual_seed(49)\n",
    "    random.seed(49)\n",
    "    if split==None:\n",
    "        dataset = NDWIDataset_from_dir(img_paths, model, transform=trans)\n",
    "        lengths = [int(len(dataset))]\n",
    "        print(f'Pseudo-Training:{lengths[0]}')\n",
    "        dataloader = DataLoader(dataset, batch_size=batch_size, shuffle=True, pin_memory = True)#, num_workers=8)\n",
    "    else:\n",
    "        dataset = NDWIDataset_from_dir(img_paths, model, transform=trans)\n",
    "        lengths = [int(len(dataset)*split), int(len(dataset)*(1-split))+1]\n",
    "        trainset, valset = torch.utils.data.random_split(dataset, lengths)\n",
    "        \n",
    "        print(f'Pseudo-Training, Train: {len(trainset)}, Validation: {len(valset)}')\n",
    "        dataloader = {'train':DataLoader(trainset, batch_size=batch_size, shuffle=True, pin_memory = True),\n",
    "                      'val'  :DataLoader(valset, batch_size=batch_size, shuffle=True, pin_memory = True)}\n",
    "\n",
    "    \n",
    "    return dataloader"
   ]
  },
  {
   "cell_type": "code",
   "execution_count": 45,
   "metadata": {},
   "outputs": [],
   "source": [
    "trans = A.Compose([\n",
    "#     A.RandomCrop(128,128),\n",
    "#     A.VerticalFlip(),\n",
    "#     A.HorizontalFlip(),\n",
    "    ToTensorV2()])\n",
    "trans_test = A.Compose([\n",
    "#              A.RandomCrop(128,128),\n",
    "             ToTensorV2()])"
   ]
  },
  {
   "cell_type": "code",
   "execution_count": 46,
   "metadata": {},
   "outputs": [],
   "source": [
    "def plot_rand(dataloader, set_='train'):\n",
    "    if set_==None:\n",
    "        for x,y in dataloader:\n",
    "            x,y = x.numpy().transpose([0,2,3,1]), y.numpy().squeeze()\n",
    "            break\n",
    "    else:\n",
    "        for x,y in dataloader[set_]:\n",
    "            x,y = x.numpy().transpose([0,2,3,1]), y.numpy().squeeze()\n",
    "            break\n",
    "    rand = np.random.randint(0,x.shape[0])\n",
    "    plt.subplot(121)\n",
    "    plt.imshow(x[rand])\n",
    "    plt.title('Image')\n",
    "    plt.axis('off')\n",
    "    plt.subplot(122)\n",
    "    plt.imshow(y[rand])\n",
    "    plt.title('Contour')\n",
    "    plt.axis('off')\n",
    "    plt.show()\n",
    "#     return x,y"
   ]
  },
  {
   "cell_type": "code",
   "execution_count": 47,
   "metadata": {},
   "outputs": [],
   "source": [
    "# dataloaders  = data_from_dir_reg(trans, trans_test, list_train, list_val, list_test, split=0.9)\n",
    "# # dataloader_p = data_pseudo(trans, list_paths, model_pred)"
   ]
  },
  {
   "cell_type": "markdown",
   "metadata": {},
   "source": [
    "# Evaluation Metrics"
   ]
  },
  {
   "cell_type": "code",
   "execution_count": 48,
   "metadata": {},
   "outputs": [],
   "source": [
    "def f1_score(y_pred, y_true, threshold=0.5):\n",
    "    \n",
    "#     y_true = y_true.view(-1)\n",
    "#     y_pred = y_pred.view(-1)\n",
    "    \n",
    "    y_true = y_true.reshape(-1)\n",
    "    y_pred = y_pred.reshape(-1)\n",
    "    \n",
    "    \n",
    "    y_pred = ((y_pred>threshold)*1.).type(torch.float32)\n",
    "    \n",
    "    tp = torch.sum(y_true*(y_pred))\n",
    "    tn = torch.sum((1-y_true)*((1-y_pred)))\n",
    "    fp = torch.sum((1-y_true)*(y_pred))\n",
    "    fn = torch.sum((y_true)*((1-y_pred)))\n",
    "    \n",
    "    pr  = ((tp+1.)/(tp+fp+1.))\n",
    "    rec = ((tp+1.)/(tp+fn+1.))\n",
    "    f1  = ((2*pr*rec)/(pr+rec))\n",
    "    return f1"
   ]
  },
  {
   "cell_type": "markdown",
   "metadata": {},
   "source": [
    " Exponential MA = $V_{t} = \\beta V_{t-1} + (1-\\beta)(current)$"
   ]
  },
  {
   "cell_type": "code",
   "execution_count": 49,
   "metadata": {
    "code_folding": []
   },
   "outputs": [],
   "source": [
    "class basic_block(nn.Module):\n",
    "#    def __init__(self,in_channels,out_channels, random_state=0):\n",
    "    def __init__(self,in_channels,out_chan, random_state=0):\n",
    "        super(basic_block,self).__init__()\n",
    "        \n",
    "        #out_channels = out_chan\n",
    "        out_channels = out_chan//2\n",
    "        \n",
    "        torch.manual_seed(random_state)\n",
    "        self.bn1         = nn.BatchNorm2d(in_channels)\n",
    "        \n",
    "        self.conv1x1_1_1 = nn.Conv2d(in_channels, out_channels, 1)\n",
    "        self.bn2         = nn.BatchNorm2d(out_channels)\n",
    "        \n",
    "        self.conv1x1_1_3 = nn.Conv2d(in_channels, out_channels, 1)\n",
    "        self.bn3         = nn.BatchNorm2d(out_channels)\n",
    "        \n",
    "        self.conv3x3_1   = nn.Conv2d(out_channels, out_channels, 3, padding=1)\n",
    "        self.bn4         = nn.BatchNorm2d(out_channels)\n",
    "        \n",
    "        self.conv1x1_1_5 = nn.Conv2d(in_channels, out_channels, 1)\n",
    "        self.bn5         = nn.BatchNorm2d(out_channels)\n",
    "        \n",
    "        self.conv5x5_1   = nn.Conv2d(out_channels,out_channels,5,padding=2)\n",
    "        self.bn6         = nn.BatchNorm2d(out_channels)\n",
    "        \n",
    "        self.conv1x1_1_7 = nn.Conv2d(in_channels, out_channels, 1)\n",
    "        self.bn7         = nn.BatchNorm2d(out_channels)\n",
    "        \n",
    "        self.conv7x7_1   = nn.Conv2d(out_channels,out_channels,7,padding=3)\n",
    "        self.bn8         = nn.BatchNorm2d(out_channels)\n",
    "        \n",
    "        self.bn9         = nn.BatchNorm2d(out_channels*4)\n",
    "        self.conv1x1_2_1 = nn.Conv2d(out_channels*4, out_channels, 1)\n",
    "        self.bn10        = nn.BatchNorm2d(out_channels)\n",
    "        self.conv1x1_2_3 = nn.Conv2d(out_channels*4, out_channels, 1)\n",
    "        self.bn11        = nn.BatchNorm2d(out_channels)\n",
    "        self.conv3x3_2   = nn.Conv2d(out_channels, out_channels, 3, padding=1)\n",
    "        self.bn12        = nn.BatchNorm2d(out_channels)\n",
    "        self.conv1x1_2_5 = nn.Conv2d(out_channels*4, out_channels, 1)\n",
    "        self.bn13        = nn.BatchNorm2d(out_channels)\n",
    "        self.conv5x5_2   = nn.Conv2d(out_channels,out_channels,5,padding=2)\n",
    "        self.bn14        = nn.BatchNorm2d(out_channels)\n",
    "        self.conv1x1_2_7 = nn.Conv2d(out_channels*4, out_channels, 1)\n",
    "        self.bn15        = nn.BatchNorm2d(out_channels)\n",
    "        self.conv7x7_2   = nn.Conv2d(out_channels,out_channels,7,padding=3)\n",
    "        self.bn16        = nn.BatchNorm2d(out_channels)\n",
    "        \n",
    "    def forward(self, x):\n",
    "        \n",
    "        bn1         = self.bn1(x)\n",
    "        conv1x1_1_3 = self.bn3(self.conv1x1_1_3(bn1))\n",
    "        conv1x1_1_5 = self.bn4(self.conv1x1_1_5(bn1))\n",
    "        conv1x1_1_7 = self.bn5(self.conv1x1_1_7(bn1))\n",
    "        conv1x1_1_1 = F.relu(self.bn2(self.conv1x1_1_1(bn1)))\n",
    "        conv3x3_1   = F.relu(self.bn6(self.conv3x3_1(conv1x1_1_3)))\n",
    "        conv5x5_1   = F.relu(self.bn7(self.conv5x5_1(conv1x1_1_5)))\n",
    "        conv7x7_1   = F.relu(self.bn8(self.conv7x7_1(conv1x1_1_7)))\n",
    "        cat1        = torch.cat([conv1x1_1_1,conv3x3_1,conv5x5_1,conv7x7_1],dim=1)\n",
    "        \n",
    "        bn9         = self.bn9(cat1)\n",
    "        conv1x1_2_3 = self.bn11(self.conv1x1_2_3(bn9))\n",
    "        conv1x1_2_5 = self.bn12(self.conv1x1_2_5(bn9))\n",
    "        conv1x1_2_7 = self.bn13(self.conv1x1_2_7(bn9))\n",
    "        conv1x1_2_1 = F.relu(self.bn10(self.conv1x1_2_1(bn9)))\n",
    "        conv3x3_2   = F.relu(self.bn14(self.conv3x3_2(conv1x1_2_3)))\n",
    "        conv5x5_2   = F.relu(self.bn15(self.conv5x5_2(conv1x1_2_5)))\n",
    "        conv7x7_2   = F.relu(self.bn16(self.conv7x7_2(conv1x1_2_7)))\n",
    "        cat2        = torch.cat([conv1x1_2_1,conv3x3_2,conv5x5_2,conv7x7_2],dim=1)\n",
    "\n",
    "  \n",
    "        return cat2\n",
    "        \n",
    "\n",
    "class UNET_multiscale2(nn.Module):\n",
    "###    def __init__(self, in_channels=3, out_channels= 1, init_features=16, random_state=0):\n",
    "    def __init__(self, in_channels=3, out_channels= 1, init_features=32, random_state=0):\n",
    "        super(UNET_multiscale2, self).__init__()\n",
    "        torch.manual_seed(random_state)\n",
    "        features = init_features\n",
    "        self.layer1 =  basic_block(3,features)\n",
    "        self.down1  = nn.Conv2d(features*2,features,2,stride=2)\n",
    "        \n",
    "        self.layer2 = basic_block(features,features) \n",
    "        self.down2  = nn.Conv2d(features*2,features*2,2,stride=2)\n",
    "\n",
    "        self.layer3 = basic_block(features*2,features*2) \n",
    "        self.down3  = nn.Conv2d(features*4,features*4,2,stride=2)\n",
    "\n",
    "        self.layer4 = basic_block(features*4,features*4)\n",
    "        self.down4  = nn.Conv2d(features*8,features*8,2,stride=2)\n",
    "        \n",
    "        self.bottleneck = basic_block(features*8,features*8)\n",
    "        self.bn6     = nn.BatchNorm2d(features*8*2)\n",
    "        self.up1     = nn.ConvTranspose2d(features*16, features*8, 2, stride=2)\n",
    "               \n",
    "        self.layer6  = basic_block(features*16,features*4)      \n",
    "        self.bn7     = nn.BatchNorm2d(features*4*2)\n",
    "        self.up2     = nn.ConvTranspose2d(features*8, features*4, 2, stride=2)\n",
    "\n",
    "        self.layer7  = basic_block(features*8,features*2) \n",
    "        self.bn8     = nn.BatchNorm2d(features*2*2)\n",
    "        self.up3     = nn.ConvTranspose2d(features*4, features*2, 2, stride=2)   \n",
    "        \n",
    "        self.layer8  = basic_block(features*4,features) \n",
    "        self.bn9     = nn.BatchNorm2d(features*2)\n",
    "        self.up4     = nn.ConvTranspose2d(features*2, features*2, 2, stride=2)\n",
    "        \n",
    "        self.layer9  = basic_block(features*4,features)\n",
    "        self.out     = nn.Conv2d(features*2, 3, 1)\n",
    "        \n",
    "    def forward(self, x):\n",
    "        \n",
    "        layer1 = self.layer1(x)\n",
    "        down1  = F.relu(self.down1(layer1))\n",
    "\n",
    "        layer2 = self.layer2(down1) \n",
    "        down2  = F.relu(self.down2(layer2))\n",
    "        \n",
    "        layer3 = self.layer3(down2) \n",
    "        down3  = F.relu(self.down3(layer3))\n",
    "        \n",
    "        layer4 = self.layer4(down3) \n",
    "        down4  = F.relu(self.down4(layer4))\n",
    "\n",
    "        \n",
    "        bottleneck = self.bottleneck(down4)\n",
    "        up1     = F.relu(self.up1(self.bn6(bottleneck), output_size=layer4.size()))\n",
    "\n",
    "        merge1  = torch.cat([up1, layer4], dim=1)      \n",
    "        layer6  = self.layer6(merge1)\n",
    "        up2        = F.relu(self.up2(self.bn7(layer6), output_size=layer3.size()))\n",
    "\n",
    "        merge2     = torch.cat([up2, layer3], dim=1)\n",
    "        layer7     = self.layer7(merge2)\n",
    "        up3        = F.relu(self.up3(self.bn8(layer7), output_size=layer2.size()))\n",
    "\n",
    "        merge3     = torch.cat([up3, layer2], dim=1)\n",
    "        layer8  = self.layer8(merge3)\n",
    "        up4        = F.relu(self.up4(self.bn9(layer8), output_size=layer1.size()))\n",
    "        \n",
    "        merge4     = torch.cat([up4, layer1], dim=1)\n",
    "        layer9  = self.layer9(merge4)               \n",
    "        \n",
    "        m = torch.nn.Softmax(dim=1)\n",
    "        \n",
    "        out        = m(self.out(layer9))\n",
    "                        \n",
    "        return out\n",
    "\n"
   ]
  },
  {
   "cell_type": "code",
   "execution_count": 87,
   "metadata": {},
   "outputs": [],
   "source": [
    "import time\n",
    "def train_round1(model, dataloaders, loss_fn, optimizer, acc_fn, random_state=49, epochs=1):\n",
    "    \n",
    "    \n",
    "    torch.manual_seed(random_state)\n",
    "    np.random.seed(random_state)\n",
    "    torch.backends.cudnn.benchmark = True\n",
    "    torch.use_deterministic_algorithms(False)\n",
    "    start = time.time()                                        #Initialize time to calculate time it takes to train model\n",
    "    model.to(device)                                               #Move model to GPU     \n",
    "\n",
    "    counter=0\n",
    "    train_loss, valid_loss = [], []                            #Running training and validation loss\n",
    "    val_epoch, f1_epoch = [0],[0]\n",
    "    loss_list = []\n",
    "    times     = []\n",
    "    \n",
    "    for epoch in range(epochs):\n",
    "        start_epoch = time.time()\n",
    "        print(f'Epoch {epoch}')\n",
    "        print(scheduler.get_last_lr())\n",
    "    \n",
    "\n",
    "    #########################################Begin Model Training######################################################\n",
    "    ###################################################################################################################\n",
    "        \n",
    "        for phase in ['train', 'val']:\n",
    "            if phase == 'train':\n",
    "                model.train()                             # Set training mode all the layers including batchnorm and dropout work in this\n",
    "                dataloader = dataloaders['train']         #get the training data\n",
    "            else:\n",
    "                model.eval()                              # Set model to evaluate mode deactivates the batchnorm and dropout layers\n",
    "                dataloader = dataloaders['val']           #get the validation data\n",
    "\n",
    "            running_loss = 0.0                            #running loss to be used for visualization later\n",
    "            step = 0                                      #Batch number\n",
    "            \n",
    "            if phase == 'train':  \n",
    "                f1 = []\n",
    "                AP = []\n",
    "                for inputs, labels in dataloader:\n",
    "                    x, y = inputs.to(device), labels.to(device)\n",
    "                    step += 1\n",
    "\n",
    "                    optimizer.zero_grad()                                   # zero the gradients\n",
    "                    outputs = model(x)                                      #get model output for a given input\n",
    "\n",
    "#                     print(\"outputs\",outputs[:,1:2,...].shape)\n",
    "                    #################Metrics###################\n",
    "                    f1.append(acc_fn(outputs[:,1:2,...], y[:,1:2,...]).cpu().detach().numpy())\n",
    "#                     AP.append(average_precision_score(y.reshape(-1).cpu().detach().numpy(),  outputs.reshape(-1).cpu().detach().numpy()))\n",
    "\n",
    "                    ############################################\n",
    "\n",
    "                    ##################Calculate Loss, backprop, and update###############\n",
    "#                     loss           = loss_fn(outputs, y)\n",
    "#                     print(\"x\",x.shape)\n",
    "#                     print(\"y\",y.shape)\n",
    "                    loss = F.cross_entropy(outputs, y)\n",
    "                    \n",
    "                    \n",
    "                    train_loss.append(loss.cpu().detach().numpy())\n",
    "                    loss.backward()\n",
    "                    optimizer.step()\n",
    "                    print(f'Current step: {step}, AllocMem (Mb): {torch.cuda.memory_allocated()/1024/1024:.3f}, Loss: {loss:.3f},  F1: {np.mean(f1):.3f},  AP: {np.mean(AP):.3f}', end='\\r') \n",
    "                    ######################################################################\n",
    "                    \n",
    "#                 print(\"outputs\",outputs[:,1:2,...].shape)\n",
    "#                 print(\"y\",y[:,1:2,...].shape)\n",
    "                print()\n",
    "            else:  \n",
    "                loss_val = []\n",
    "                f1=[]\n",
    "                AP = []\n",
    "                with torch.no_grad():\n",
    "                    for inputs, labels in dataloader:\n",
    "                        x, y = inputs.to(device), labels.to(device)\n",
    "                        optimizer.zero_grad()                                   # zero the gradients\n",
    "                        outputs = model(x)                                      #get model output for a given input\n",
    "\n",
    "                        #################Metrics###################\n",
    "                        f1.append(acc_fn(outputs[:,1:2,...], y[:,1:2,...]).cpu().detach().numpy())\n",
    "#                         AP.append(average_precision_score(y.reshape(-1).cpu().detach().numpy(),  outputs.reshape(-1).cpu().detach().numpy()))\n",
    "\n",
    "                    ############################################\n",
    "\n",
    "                        ##################Calculate Loss, backprop, and update###############\n",
    "        \n",
    "                        loss = F.cross_entropy(outputs, y)\n",
    "                        valid_loss.append(loss.cpu().detach().numpy())\n",
    "            \n",
    "                    \n",
    "                        loss_val.append(valid_loss[-1])\n",
    "                val_epoch.append(np.mean(loss_val))\n",
    "                f1_epoch.append(np.mean(f1))\n",
    "                print()\n",
    "                print()\n",
    "                print(f' Loss val: {val_epoch[-1]:.3f}, F-Score val:{f1_epoch[-1]:.3f} \\n') \n",
    "                ######################################################################\n",
    "                \n",
    "#                 , AP val:{AP[-1]:.3f}\n",
    "\n",
    "            print()\n",
    "            time_elapsed = time.time() - start_epoch\n",
    "            times.append(time_elapsed)\n",
    "            print('Training complete in {:.0f}m {:.0f}s'.format(time_elapsed // 60, time_elapsed % 60))    \n",
    "            print('-' * 10)      \n",
    "\n",
    "        scheduler.step()\n",
    "        torch.save(model, save_last+ '\\\\' + f'Epoch_{str(epoch).zfill(3)}'+ '.pth')\n",
    "        epoch+=1\n",
    "    #########################################End Model Training######################################################\n",
    "    ###################################################################################################################\n",
    "    \n",
    "    #Total training time including time to test\n",
    "    time_elapsed = time.time() - start\n",
    "    print('\\n Training complete in {:.0f}m {:.0f}s'.format(time_elapsed // 60, time_elapsed % 60))    \n",
    "    \n",
    "#     torch.save(model, save_last+ '\\\\' + f'Feature32_{str(1000)}_images'+ '.pth')\n",
    "    \n",
    "    return {'Train Loss':train_loss,\n",
    "            'Valid Loss':valid_loss,\n",
    "            'Times'     :times,\n",
    "            'f1_epoch':f1_epoch,\n",
    "            'Epochs': epoch}"
   ]
  },
  {
   "cell_type": "markdown",
   "metadata": {},
   "source": [
    "## Round1(Train Using Labeled Data Only)"
   ]
  },
  {
   "cell_type": "code",
   "execution_count": 88,
   "metadata": {},
   "outputs": [
    {
     "name": "stdout",
     "output_type": "stream",
     "text": [
      "(9108, 128, 128, 3)\n"
     ]
    }
   ],
   "source": [
    "X_train_labeled = X#[:1000]\n",
    "Y_train_labeled = Y#[:1000]\n",
    "\n",
    "print(X_train_labeled.shape)"
   ]
  },
  {
   "cell_type": "code",
   "execution_count": 89,
   "metadata": {},
   "outputs": [
    {
     "name": "stdout",
     "output_type": "stream",
     "text": [
      "Training:9108, Validation:1013\n",
      "Testing: 4053\n"
     ]
    }
   ],
   "source": [
    "trans = A.Compose([\n",
    "#    A.VerticalFlip(),\n",
    "#    A.HorizontalFlip(),    \n",
    "    ToTensorV2()])\n",
    "trans_test = A.Compose([\n",
    "                ToTensorV2()])\n",
    "\n",
    "batch_size = 32\n",
    "dataloaders = data(trans, trans_test, X_train_labeled, Y_train_labeled, X_val, Y_val, X_test, Y_test, batch_size=batch_size)"
   ]
  },
  {
   "cell_type": "code",
   "execution_count": 90,
   "metadata": {
    "scrolled": true
   },
   "outputs": [
    {
     "name": "stdout",
     "output_type": "stream",
     "text": [
      "----------------------------------------------------------------\n",
      "        Layer (type)               Output Shape         Param #\n",
      "================================================================\n",
      "       BatchNorm2d-1          [-1, 3, 128, 128]               6\n",
      "            Conv2d-2         [-1, 16, 128, 128]              64\n",
      "       BatchNorm2d-3         [-1, 16, 128, 128]              32\n",
      "            Conv2d-4         [-1, 16, 128, 128]              64\n",
      "       BatchNorm2d-5         [-1, 16, 128, 128]              32\n",
      "            Conv2d-6         [-1, 16, 128, 128]              64\n",
      "       BatchNorm2d-7         [-1, 16, 128, 128]              32\n",
      "            Conv2d-8         [-1, 16, 128, 128]              64\n",
      "       BatchNorm2d-9         [-1, 16, 128, 128]              32\n",
      "           Conv2d-10         [-1, 16, 128, 128]           2,320\n",
      "      BatchNorm2d-11         [-1, 16, 128, 128]              32\n",
      "           Conv2d-12         [-1, 16, 128, 128]           6,416\n",
      "      BatchNorm2d-13         [-1, 16, 128, 128]              32\n",
      "           Conv2d-14         [-1, 16, 128, 128]          12,560\n",
      "      BatchNorm2d-15         [-1, 16, 128, 128]              32\n",
      "      BatchNorm2d-16         [-1, 64, 128, 128]             128\n",
      "           Conv2d-17         [-1, 16, 128, 128]           1,040\n",
      "      BatchNorm2d-18         [-1, 16, 128, 128]              32\n",
      "           Conv2d-19         [-1, 16, 128, 128]           1,040\n",
      "      BatchNorm2d-20         [-1, 16, 128, 128]              32\n",
      "           Conv2d-21         [-1, 16, 128, 128]           1,040\n",
      "      BatchNorm2d-22         [-1, 16, 128, 128]              32\n",
      "           Conv2d-23         [-1, 16, 128, 128]           1,040\n",
      "      BatchNorm2d-24         [-1, 16, 128, 128]              32\n",
      "           Conv2d-25         [-1, 16, 128, 128]           2,320\n",
      "      BatchNorm2d-26         [-1, 16, 128, 128]              32\n",
      "           Conv2d-27         [-1, 16, 128, 128]           6,416\n",
      "      BatchNorm2d-28         [-1, 16, 128, 128]              32\n",
      "           Conv2d-29         [-1, 16, 128, 128]          12,560\n",
      "      BatchNorm2d-30         [-1, 16, 128, 128]              32\n",
      "      basic_block-31         [-1, 64, 128, 128]               0\n",
      "           Conv2d-32           [-1, 32, 64, 64]           8,224\n",
      "      BatchNorm2d-33           [-1, 32, 64, 64]              64\n",
      "           Conv2d-34           [-1, 16, 64, 64]             528\n",
      "      BatchNorm2d-35           [-1, 16, 64, 64]              32\n",
      "           Conv2d-36           [-1, 16, 64, 64]             528\n",
      "      BatchNorm2d-37           [-1, 16, 64, 64]              32\n",
      "           Conv2d-38           [-1, 16, 64, 64]             528\n",
      "      BatchNorm2d-39           [-1, 16, 64, 64]              32\n",
      "           Conv2d-40           [-1, 16, 64, 64]             528\n",
      "      BatchNorm2d-41           [-1, 16, 64, 64]              32\n",
      "           Conv2d-42           [-1, 16, 64, 64]           2,320\n",
      "      BatchNorm2d-43           [-1, 16, 64, 64]              32\n",
      "           Conv2d-44           [-1, 16, 64, 64]           6,416\n",
      "      BatchNorm2d-45           [-1, 16, 64, 64]              32\n",
      "           Conv2d-46           [-1, 16, 64, 64]          12,560\n",
      "      BatchNorm2d-47           [-1, 16, 64, 64]              32\n",
      "      BatchNorm2d-48           [-1, 64, 64, 64]             128\n",
      "           Conv2d-49           [-1, 16, 64, 64]           1,040\n",
      "      BatchNorm2d-50           [-1, 16, 64, 64]              32\n",
      "           Conv2d-51           [-1, 16, 64, 64]           1,040\n",
      "      BatchNorm2d-52           [-1, 16, 64, 64]              32\n",
      "           Conv2d-53           [-1, 16, 64, 64]           1,040\n",
      "      BatchNorm2d-54           [-1, 16, 64, 64]              32\n",
      "           Conv2d-55           [-1, 16, 64, 64]           1,040\n",
      "      BatchNorm2d-56           [-1, 16, 64, 64]              32\n",
      "           Conv2d-57           [-1, 16, 64, 64]           2,320\n",
      "      BatchNorm2d-58           [-1, 16, 64, 64]              32\n",
      "           Conv2d-59           [-1, 16, 64, 64]           6,416\n",
      "      BatchNorm2d-60           [-1, 16, 64, 64]              32\n",
      "           Conv2d-61           [-1, 16, 64, 64]          12,560\n",
      "      BatchNorm2d-62           [-1, 16, 64, 64]              32\n",
      "      basic_block-63           [-1, 64, 64, 64]               0\n",
      "           Conv2d-64           [-1, 64, 32, 32]          16,448\n",
      "      BatchNorm2d-65           [-1, 64, 32, 32]             128\n",
      "           Conv2d-66           [-1, 32, 32, 32]           2,080\n",
      "      BatchNorm2d-67           [-1, 32, 32, 32]              64\n",
      "           Conv2d-68           [-1, 32, 32, 32]           2,080\n",
      "      BatchNorm2d-69           [-1, 32, 32, 32]              64\n",
      "           Conv2d-70           [-1, 32, 32, 32]           2,080\n",
      "      BatchNorm2d-71           [-1, 32, 32, 32]              64\n",
      "           Conv2d-72           [-1, 32, 32, 32]           2,080\n",
      "      BatchNorm2d-73           [-1, 32, 32, 32]              64\n",
      "           Conv2d-74           [-1, 32, 32, 32]           9,248\n",
      "      BatchNorm2d-75           [-1, 32, 32, 32]              64\n",
      "           Conv2d-76           [-1, 32, 32, 32]          25,632\n",
      "      BatchNorm2d-77           [-1, 32, 32, 32]              64\n",
      "           Conv2d-78           [-1, 32, 32, 32]          50,208\n",
      "      BatchNorm2d-79           [-1, 32, 32, 32]              64\n",
      "      BatchNorm2d-80          [-1, 128, 32, 32]             256\n",
      "           Conv2d-81           [-1, 32, 32, 32]           4,128\n",
      "      BatchNorm2d-82           [-1, 32, 32, 32]              64\n",
      "           Conv2d-83           [-1, 32, 32, 32]           4,128\n",
      "      BatchNorm2d-84           [-1, 32, 32, 32]              64\n",
      "           Conv2d-85           [-1, 32, 32, 32]           4,128\n",
      "      BatchNorm2d-86           [-1, 32, 32, 32]              64\n",
      "           Conv2d-87           [-1, 32, 32, 32]           4,128\n",
      "      BatchNorm2d-88           [-1, 32, 32, 32]              64\n",
      "           Conv2d-89           [-1, 32, 32, 32]           9,248\n",
      "      BatchNorm2d-90           [-1, 32, 32, 32]              64\n",
      "           Conv2d-91           [-1, 32, 32, 32]          25,632\n",
      "      BatchNorm2d-92           [-1, 32, 32, 32]              64\n",
      "           Conv2d-93           [-1, 32, 32, 32]          50,208\n",
      "      BatchNorm2d-94           [-1, 32, 32, 32]              64\n",
      "      basic_block-95          [-1, 128, 32, 32]               0\n",
      "           Conv2d-96          [-1, 128, 16, 16]          65,664\n",
      "      BatchNorm2d-97          [-1, 128, 16, 16]             256\n",
      "           Conv2d-98           [-1, 64, 16, 16]           8,256\n",
      "      BatchNorm2d-99           [-1, 64, 16, 16]             128\n",
      "          Conv2d-100           [-1, 64, 16, 16]           8,256\n",
      "     BatchNorm2d-101           [-1, 64, 16, 16]             128\n",
      "          Conv2d-102           [-1, 64, 16, 16]           8,256\n",
      "     BatchNorm2d-103           [-1, 64, 16, 16]             128\n",
      "          Conv2d-104           [-1, 64, 16, 16]           8,256\n",
      "     BatchNorm2d-105           [-1, 64, 16, 16]             128\n",
      "          Conv2d-106           [-1, 64, 16, 16]          36,928\n",
      "     BatchNorm2d-107           [-1, 64, 16, 16]             128\n",
      "          Conv2d-108           [-1, 64, 16, 16]         102,464\n",
      "     BatchNorm2d-109           [-1, 64, 16, 16]             128\n",
      "          Conv2d-110           [-1, 64, 16, 16]         200,768\n",
      "     BatchNorm2d-111           [-1, 64, 16, 16]             128\n",
      "     BatchNorm2d-112          [-1, 256, 16, 16]             512\n",
      "          Conv2d-113           [-1, 64, 16, 16]          16,448\n",
      "     BatchNorm2d-114           [-1, 64, 16, 16]             128\n",
      "          Conv2d-115           [-1, 64, 16, 16]          16,448\n",
      "     BatchNorm2d-116           [-1, 64, 16, 16]             128\n",
      "          Conv2d-117           [-1, 64, 16, 16]          16,448\n",
      "     BatchNorm2d-118           [-1, 64, 16, 16]             128\n",
      "          Conv2d-119           [-1, 64, 16, 16]          16,448\n",
      "     BatchNorm2d-120           [-1, 64, 16, 16]             128\n",
      "          Conv2d-121           [-1, 64, 16, 16]          36,928\n",
      "     BatchNorm2d-122           [-1, 64, 16, 16]             128\n",
      "          Conv2d-123           [-1, 64, 16, 16]         102,464\n",
      "     BatchNorm2d-124           [-1, 64, 16, 16]             128\n",
      "          Conv2d-125           [-1, 64, 16, 16]         200,768\n",
      "     BatchNorm2d-126           [-1, 64, 16, 16]             128\n",
      "     basic_block-127          [-1, 256, 16, 16]               0\n",
      "          Conv2d-128            [-1, 256, 8, 8]         262,400\n",
      "     BatchNorm2d-129            [-1, 256, 8, 8]             512\n",
      "          Conv2d-130            [-1, 128, 8, 8]          32,896\n",
      "     BatchNorm2d-131            [-1, 128, 8, 8]             256\n",
      "          Conv2d-132            [-1, 128, 8, 8]          32,896\n",
      "     BatchNorm2d-133            [-1, 128, 8, 8]             256\n",
      "          Conv2d-134            [-1, 128, 8, 8]          32,896\n",
      "     BatchNorm2d-135            [-1, 128, 8, 8]             256\n",
      "          Conv2d-136            [-1, 128, 8, 8]          32,896\n",
      "     BatchNorm2d-137            [-1, 128, 8, 8]             256\n",
      "          Conv2d-138            [-1, 128, 8, 8]         147,584\n",
      "     BatchNorm2d-139            [-1, 128, 8, 8]             256\n",
      "          Conv2d-140            [-1, 128, 8, 8]         409,728\n",
      "     BatchNorm2d-141            [-1, 128, 8, 8]             256\n",
      "          Conv2d-142            [-1, 128, 8, 8]         802,944\n",
      "     BatchNorm2d-143            [-1, 128, 8, 8]             256\n",
      "     BatchNorm2d-144            [-1, 512, 8, 8]           1,024\n",
      "          Conv2d-145            [-1, 128, 8, 8]          65,664\n",
      "     BatchNorm2d-146            [-1, 128, 8, 8]             256\n",
      "          Conv2d-147            [-1, 128, 8, 8]          65,664\n",
      "     BatchNorm2d-148            [-1, 128, 8, 8]             256\n",
      "          Conv2d-149            [-1, 128, 8, 8]          65,664\n",
      "     BatchNorm2d-150            [-1, 128, 8, 8]             256\n",
      "          Conv2d-151            [-1, 128, 8, 8]          65,664\n",
      "     BatchNorm2d-152            [-1, 128, 8, 8]             256\n",
      "          Conv2d-153            [-1, 128, 8, 8]         147,584\n",
      "     BatchNorm2d-154            [-1, 128, 8, 8]             256\n",
      "          Conv2d-155            [-1, 128, 8, 8]         409,728\n",
      "     BatchNorm2d-156            [-1, 128, 8, 8]             256\n",
      "          Conv2d-157            [-1, 128, 8, 8]         802,944\n",
      "     BatchNorm2d-158            [-1, 128, 8, 8]             256\n",
      "     basic_block-159            [-1, 512, 8, 8]               0\n",
      "     BatchNorm2d-160            [-1, 512, 8, 8]           1,024\n",
      " ConvTranspose2d-161          [-1, 256, 16, 16]         524,544\n",
      "     BatchNorm2d-162          [-1, 512, 16, 16]           1,024\n",
      "          Conv2d-163           [-1, 64, 16, 16]          32,832\n",
      "     BatchNorm2d-164           [-1, 64, 16, 16]             128\n",
      "          Conv2d-165           [-1, 64, 16, 16]          32,832\n",
      "     BatchNorm2d-166           [-1, 64, 16, 16]             128\n",
      "          Conv2d-167           [-1, 64, 16, 16]          32,832\n",
      "     BatchNorm2d-168           [-1, 64, 16, 16]             128\n",
      "          Conv2d-169           [-1, 64, 16, 16]          32,832\n",
      "     BatchNorm2d-170           [-1, 64, 16, 16]             128\n",
      "          Conv2d-171           [-1, 64, 16, 16]          36,928\n",
      "     BatchNorm2d-172           [-1, 64, 16, 16]             128\n",
      "          Conv2d-173           [-1, 64, 16, 16]         102,464\n",
      "     BatchNorm2d-174           [-1, 64, 16, 16]             128\n",
      "          Conv2d-175           [-1, 64, 16, 16]         200,768\n",
      "     BatchNorm2d-176           [-1, 64, 16, 16]             128\n",
      "     BatchNorm2d-177          [-1, 256, 16, 16]             512\n",
      "          Conv2d-178           [-1, 64, 16, 16]          16,448\n",
      "     BatchNorm2d-179           [-1, 64, 16, 16]             128\n",
      "          Conv2d-180           [-1, 64, 16, 16]          16,448\n",
      "     BatchNorm2d-181           [-1, 64, 16, 16]             128\n",
      "          Conv2d-182           [-1, 64, 16, 16]          16,448\n",
      "     BatchNorm2d-183           [-1, 64, 16, 16]             128\n",
      "          Conv2d-184           [-1, 64, 16, 16]          16,448\n",
      "     BatchNorm2d-185           [-1, 64, 16, 16]             128\n",
      "          Conv2d-186           [-1, 64, 16, 16]          36,928\n",
      "     BatchNorm2d-187           [-1, 64, 16, 16]             128\n",
      "          Conv2d-188           [-1, 64, 16, 16]         102,464\n",
      "     BatchNorm2d-189           [-1, 64, 16, 16]             128\n",
      "          Conv2d-190           [-1, 64, 16, 16]         200,768\n",
      "     BatchNorm2d-191           [-1, 64, 16, 16]             128\n",
      "     basic_block-192          [-1, 256, 16, 16]               0\n",
      "     BatchNorm2d-193          [-1, 256, 16, 16]             512\n",
      " ConvTranspose2d-194          [-1, 128, 32, 32]         131,200\n",
      "     BatchNorm2d-195          [-1, 256, 32, 32]             512\n",
      "          Conv2d-196           [-1, 32, 32, 32]           8,224\n",
      "     BatchNorm2d-197           [-1, 32, 32, 32]              64\n",
      "          Conv2d-198           [-1, 32, 32, 32]           8,224\n",
      "     BatchNorm2d-199           [-1, 32, 32, 32]              64\n",
      "          Conv2d-200           [-1, 32, 32, 32]           8,224\n",
      "     BatchNorm2d-201           [-1, 32, 32, 32]              64\n",
      "          Conv2d-202           [-1, 32, 32, 32]           8,224\n",
      "     BatchNorm2d-203           [-1, 32, 32, 32]              64\n",
      "          Conv2d-204           [-1, 32, 32, 32]           9,248\n",
      "     BatchNorm2d-205           [-1, 32, 32, 32]              64\n",
      "          Conv2d-206           [-1, 32, 32, 32]          25,632\n",
      "     BatchNorm2d-207           [-1, 32, 32, 32]              64\n",
      "          Conv2d-208           [-1, 32, 32, 32]          50,208\n",
      "     BatchNorm2d-209           [-1, 32, 32, 32]              64\n",
      "     BatchNorm2d-210          [-1, 128, 32, 32]             256\n",
      "          Conv2d-211           [-1, 32, 32, 32]           4,128\n",
      "     BatchNorm2d-212           [-1, 32, 32, 32]              64\n",
      "          Conv2d-213           [-1, 32, 32, 32]           4,128\n",
      "     BatchNorm2d-214           [-1, 32, 32, 32]              64\n",
      "          Conv2d-215           [-1, 32, 32, 32]           4,128\n",
      "     BatchNorm2d-216           [-1, 32, 32, 32]              64\n",
      "          Conv2d-217           [-1, 32, 32, 32]           4,128\n",
      "     BatchNorm2d-218           [-1, 32, 32, 32]              64\n",
      "          Conv2d-219           [-1, 32, 32, 32]           9,248\n",
      "     BatchNorm2d-220           [-1, 32, 32, 32]              64\n",
      "          Conv2d-221           [-1, 32, 32, 32]          25,632\n",
      "     BatchNorm2d-222           [-1, 32, 32, 32]              64\n",
      "          Conv2d-223           [-1, 32, 32, 32]          50,208\n",
      "     BatchNorm2d-224           [-1, 32, 32, 32]              64\n",
      "     basic_block-225          [-1, 128, 32, 32]               0\n",
      "     BatchNorm2d-226          [-1, 128, 32, 32]             256\n",
      " ConvTranspose2d-227           [-1, 64, 64, 64]          32,832\n",
      "     BatchNorm2d-228          [-1, 128, 64, 64]             256\n",
      "          Conv2d-229           [-1, 16, 64, 64]           2,064\n",
      "     BatchNorm2d-230           [-1, 16, 64, 64]              32\n",
      "          Conv2d-231           [-1, 16, 64, 64]           2,064\n",
      "     BatchNorm2d-232           [-1, 16, 64, 64]              32\n",
      "          Conv2d-233           [-1, 16, 64, 64]           2,064\n",
      "     BatchNorm2d-234           [-1, 16, 64, 64]              32\n",
      "          Conv2d-235           [-1, 16, 64, 64]           2,064\n",
      "     BatchNorm2d-236           [-1, 16, 64, 64]              32\n",
      "          Conv2d-237           [-1, 16, 64, 64]           2,320\n",
      "     BatchNorm2d-238           [-1, 16, 64, 64]              32\n",
      "          Conv2d-239           [-1, 16, 64, 64]           6,416\n",
      "     BatchNorm2d-240           [-1, 16, 64, 64]              32\n",
      "          Conv2d-241           [-1, 16, 64, 64]          12,560\n",
      "     BatchNorm2d-242           [-1, 16, 64, 64]              32\n",
      "     BatchNorm2d-243           [-1, 64, 64, 64]             128\n",
      "          Conv2d-244           [-1, 16, 64, 64]           1,040\n",
      "     BatchNorm2d-245           [-1, 16, 64, 64]              32\n",
      "          Conv2d-246           [-1, 16, 64, 64]           1,040\n",
      "     BatchNorm2d-247           [-1, 16, 64, 64]              32\n",
      "          Conv2d-248           [-1, 16, 64, 64]           1,040\n",
      "     BatchNorm2d-249           [-1, 16, 64, 64]              32\n",
      "          Conv2d-250           [-1, 16, 64, 64]           1,040\n",
      "     BatchNorm2d-251           [-1, 16, 64, 64]              32\n",
      "          Conv2d-252           [-1, 16, 64, 64]           2,320\n",
      "     BatchNorm2d-253           [-1, 16, 64, 64]              32\n",
      "          Conv2d-254           [-1, 16, 64, 64]           6,416\n",
      "     BatchNorm2d-255           [-1, 16, 64, 64]              32\n",
      "          Conv2d-256           [-1, 16, 64, 64]          12,560\n",
      "     BatchNorm2d-257           [-1, 16, 64, 64]              32\n",
      "     basic_block-258           [-1, 64, 64, 64]               0\n",
      "     BatchNorm2d-259           [-1, 64, 64, 64]             128\n",
      " ConvTranspose2d-260         [-1, 64, 128, 128]          16,448\n",
      "     BatchNorm2d-261        [-1, 128, 128, 128]             256\n",
      "          Conv2d-262         [-1, 16, 128, 128]           2,064\n",
      "     BatchNorm2d-263         [-1, 16, 128, 128]              32\n",
      "          Conv2d-264         [-1, 16, 128, 128]           2,064\n",
      "     BatchNorm2d-265         [-1, 16, 128, 128]              32\n",
      "          Conv2d-266         [-1, 16, 128, 128]           2,064\n",
      "     BatchNorm2d-267         [-1, 16, 128, 128]              32\n",
      "          Conv2d-268         [-1, 16, 128, 128]           2,064\n",
      "     BatchNorm2d-269         [-1, 16, 128, 128]              32\n",
      "          Conv2d-270         [-1, 16, 128, 128]           2,320\n",
      "     BatchNorm2d-271         [-1, 16, 128, 128]              32\n",
      "          Conv2d-272         [-1, 16, 128, 128]           6,416\n",
      "     BatchNorm2d-273         [-1, 16, 128, 128]              32\n",
      "          Conv2d-274         [-1, 16, 128, 128]          12,560\n",
      "     BatchNorm2d-275         [-1, 16, 128, 128]              32\n",
      "     BatchNorm2d-276         [-1, 64, 128, 128]             128\n",
      "          Conv2d-277         [-1, 16, 128, 128]           1,040\n",
      "     BatchNorm2d-278         [-1, 16, 128, 128]              32\n",
      "          Conv2d-279         [-1, 16, 128, 128]           1,040\n",
      "     BatchNorm2d-280         [-1, 16, 128, 128]              32\n",
      "          Conv2d-281         [-1, 16, 128, 128]           1,040\n",
      "     BatchNorm2d-282         [-1, 16, 128, 128]              32\n",
      "          Conv2d-283         [-1, 16, 128, 128]           1,040\n",
      "     BatchNorm2d-284         [-1, 16, 128, 128]              32\n",
      "          Conv2d-285         [-1, 16, 128, 128]           2,320\n",
      "     BatchNorm2d-286         [-1, 16, 128, 128]              32\n",
      "          Conv2d-287         [-1, 16, 128, 128]           6,416\n",
      "     BatchNorm2d-288         [-1, 16, 128, 128]              32\n",
      "          Conv2d-289         [-1, 16, 128, 128]          12,560\n",
      "     BatchNorm2d-290         [-1, 16, 128, 128]              32\n",
      "     basic_block-291         [-1, 64, 128, 128]               0\n",
      "          Conv2d-292          [-1, 3, 128, 128]             195\n",
      "================================================================\n",
      "Total params: 6,468,521\n",
      "Trainable params: 6,468,521\n",
      "Non-trainable params: 0\n",
      "----------------------------------------------------------------\n",
      "Input size (MB): 0.19\n",
      "Forward/backward pass size (MB): 252.00\n",
      "Params size (MB): 24.68\n",
      "Estimated Total Size (MB): 276.86\n",
      "----------------------------------------------------------------\n"
     ]
    }
   ],
   "source": [
    "\n",
    "\n",
    "model = UNET_multiscale2().to(device)\n",
    "opt = optim.Adam(model.parameters(), lr=0.003)\n",
    "scheduler = optim.lr_scheduler.MultiStepLR(opt, milestones=[100,180], gamma=0.1)\n",
    "\n",
    "summary(model,(3,128,128))\n"
   ]
  },
  {
   "cell_type": "code",
   "execution_count": 91,
   "metadata": {},
   "outputs": [],
   "source": [
    "# with open(r'{}historyFeature32_trainLoss.txt'.format(save_last), 'w') as f:\n",
    "#     print(history['Valid Loss'], file=f)"
   ]
  },
  {
   "cell_type": "code",
   "execution_count": 92,
   "metadata": {},
   "outputs": [
    {
     "name": "stdout",
     "output_type": "stream",
     "text": [
      "Training:9108, Validation:1013\n",
      "Testing: 4053\n"
     ]
    }
   ],
   "source": [
    "batch_size = 32\n",
    "dataloaders = data(trans, trans_test, X_train_labeled, Y_train_labeled, X_val, Y_val, X_test, Y_test, batch_size=batch_size)"
   ]
  },
  {
   "cell_type": "code",
   "execution_count": 93,
   "metadata": {},
   "outputs": [
    {
     "data": {
      "text/plain": [
       "'C:\\\\Saiful_Results\\\\UNET_MC_2_Base_Full\\\\Wed-Apr-26-09-55-55-2023'"
      ]
     },
     "execution_count": 93,
     "metadata": {},
     "output_type": "execute_result"
    }
   ],
   "source": [
    "save_last"
   ]
  },
  {
   "cell_type": "code",
   "execution_count": null,
   "metadata": {
    "scrolled": true
   },
   "outputs": [
    {
     "name": "stdout",
     "output_type": "stream",
     "text": [
      "Epoch 0\n",
      "[0.003]\n",
      "Current step: 285, AllocMem (Mb): 586.028, Loss: 0.481,  F1: 0.000,  AP: nan\n",
      "\n",
      "Training complete in 0m 53s\n",
      "----------\n",
      "\n",
      "\n",
      " Loss val: 0.813, F-Score val:0.000 \n",
      "\n",
      "\n",
      "Training complete in 0m 55s\n",
      "----------\n",
      "Epoch 1\n",
      "[0.003]\n",
      "Current step: 226, AllocMem (Mb): 592.528, Loss: 0.511,  F1: 0.000,  AP: nan\r"
     ]
    }
   ],
   "source": [
    "history = train_round1(model, dataloaders, loss_fn = border_loss, optimizer = opt, acc_fn = f1_score, epochs=50)"
   ]
  },
  {
   "cell_type": "code",
   "execution_count": null,
   "metadata": {},
   "outputs": [],
   "source": []
  },
  {
   "cell_type": "code",
   "execution_count": null,
   "metadata": {},
   "outputs": [],
   "source": []
  },
  {
   "cell_type": "code",
   "execution_count": null,
   "metadata": {},
   "outputs": [],
   "source": [
    "def test(model, dataloaders, loss_fn, acc_fn, random_state=49, epochs=1):\n",
    "    \n",
    "    \n",
    "    torch.manual_seed(random_state)\n",
    "    np.random.seed(random_state)\n",
    "    torch.backends.cudnn.benchmark = False\n",
    "    torch.use_deterministic_algorithms(True)\n",
    "    start = time.time()                                        #Initialize time to calculate time it takes to train model\n",
    "    model.to(device)                                               #Move model to GPU     \n",
    "\n",
    "    model.eval()\n",
    "    \n",
    "    counter=0\n",
    "    #train_loss,\n",
    "    test_loss = []                         #Running training and validation loss\n",
    "    loss_epoch, f1_epoch = [0],[0]\n",
    "    AP_epoch =[0]\n",
    "    loss_list = []\n",
    "    times     = []\n",
    "    \n",
    "    for epoch in range(epochs):\n",
    "        start_epoch = time.time()\n",
    "        print(f'Epoch {epoch}')\n",
    "        #print(scheduler.get_last_lr())\n",
    "    \n",
    "\n",
    " ################ MODEL TESTING  #############################\n",
    "\n",
    "        dataloader = dataloaders['test']         #get the training data\n",
    "\n",
    "        step = 0\n",
    "        loss_test = []\n",
    "        f1=[]\n",
    "        AP = []\n",
    "        with torch.no_grad():\n",
    "            for inputs, labels in dataloader:\n",
    "                x, y = inputs.to(device), labels.to(device)\n",
    "#                 print(y.shape)\n",
    "                #optimizer.zero_grad()                                   # zero the gradients\n",
    "                outputs= model(x)                                      #get model output for a given input\n",
    "                \n",
    "#                 print(outputs.shape)\n",
    "                #################Metrics###################\n",
    "                f1.append(acc_fn(outputs, y).cpu().detach().numpy())\n",
    "                AP.append(average_precision_score(y.reshape(-1).cpu().detach().numpy(),  outputs.reshape(-1).cpu().detach().numpy()))\n",
    "                loss_test.append(loss_fn(outputs, y).cpu().detach().numpy())\n",
    "            ############################################\n",
    "                print(f'Current step: {step}, AllocMem (Mb): {torch.cuda.memory_allocated()/1024/1024:.3f},  F1: {np.mean(f1):.3f},  AP: {np.mean(AP):.3f}') \n",
    "\n",
    "                step+=1\n",
    "                ##################Calculate Loss, backprop, and update###############\n",
    "               \n",
    "                test_loss.append(loss_test[-1])\n",
    "        loss_epoch.append(np.mean(loss_test))\n",
    "        f1_epoch.append(np.mean(f1))\n",
    "        AP_epoch.append(np.mean(AP))\n",
    "        print()\n",
    "        print()\n",
    "        print(f' Loss test: {loss_epoch[-1]:.3f}, F-Score test:{f1_epoch[-1]:.3f}\\n') \n",
    "        ######################################################################\n",
    "#                 , AP val:{AP_epoch[-1]:.3f} \n",
    "\n",
    "            \n",
    "\n",
    "        #scheduler.step()\n",
    "#         torch.save(model, save_last+ '\\\\' + f'Epcoh_{str(epoch).zfill(3)}'+ '.pth')\n",
    "        epoch+=1\n",
    "    #########################################End Model Training######################################################\n",
    "    ###################################################################################################################\n",
    "    \n",
    "    #Total training time including time to test\n",
    "    time_elapsed = time.time() - start\n",
    "    print('\\n Training complete in {:.0f}m {:.0f}s'.format(time_elapsed // 60, time_elapsed % 60))    \n",
    "    \n",
    "#     torch.save(model, save_last+ '\\\\' + f'Feature32_{str(1000)}_images'+ '.pth')\n",
    "    \n",
    "    return {\n",
    "            'f1_epoch':f1_epoch,\n",
    "            'Epochs': epoch}"
   ]
  },
  {
   "cell_type": "code",
   "execution_count": null,
   "metadata": {},
   "outputs": [],
   "source": []
  },
  {
   "cell_type": "code",
   "execution_count": null,
   "metadata": {},
   "outputs": [],
   "source": [
    "testModel = torch.load(r\"C:\\Saiful Tests\\0404\\BestResults\\Epoch_041.pth\")"
   ]
  },
  {
   "cell_type": "code",
   "execution_count": null,
   "metadata": {
    "scrolled": true
   },
   "outputs": [],
   "source": [
    "test_history = test(testModel, dataloaders, loss_fn = border_loss, acc_fn = f1_score,epochs=1)"
   ]
  },
  {
   "cell_type": "code",
   "execution_count": null,
   "metadata": {},
   "outputs": [],
   "source": []
  },
  {
   "cell_type": "code",
   "execution_count": null,
   "metadata": {},
   "outputs": [],
   "source": []
  },
  {
   "cell_type": "code",
   "execution_count": null,
   "metadata": {},
   "outputs": [],
   "source": [
    "#     return {'Train Loss':train_loss,\n",
    "#             'Valid Loss':valid_loss,\n",
    "#             'Times'     :times,\n",
    "#             'Epochs': epoch}"
   ]
  },
  {
   "cell_type": "code",
   "execution_count": null,
   "metadata": {},
   "outputs": [],
   "source": [
    "df = pd.DataFrame(history['f1_epoch'])\n",
    "                  \n",
    "df.to_csv(save_last+ '\\\\'+ \"UNET_MC_2_Base_Full.csv\")"
   ]
  }
 ],
 "metadata": {
  "kernelspec": {
   "display_name": "Python 3 (ipykernel)",
   "language": "python",
   "name": "python3"
  },
  "language_info": {
   "codemirror_mode": {
    "name": "ipython",
    "version": 3
   },
   "file_extension": ".py",
   "mimetype": "text/x-python",
   "name": "python",
   "nbconvert_exporter": "python",
   "pygments_lexer": "ipython3",
   "version": "3.9.7"
  },
  "latex_envs": {
   "LaTeX_envs_menu_present": true,
   "autoclose": false,
   "autocomplete": true,
   "bibliofile": "biblio.bib",
   "cite_by": "apalike",
   "current_citInitial": 1,
   "eqLabelWithNumbers": true,
   "eqNumInitial": 1,
   "hotkeys": {
    "equation": "Ctrl-E",
    "itemize": "Ctrl-I"
   },
   "labels_anchors": false,
   "latex_user_defs": false,
   "report_style_numbering": false,
   "user_envs_cfg": false
  },
  "toc": {
   "base_numbering": 1,
   "nav_menu": {},
   "number_sections": true,
   "sideBar": true,
   "skip_h1_title": false,
   "title_cell": "Table of Contents",
   "title_sidebar": "Contents",
   "toc_cell": false,
   "toc_position": {
    "height": "793px",
    "left": "40px",
    "top": "110px",
    "width": "384px"
   },
   "toc_section_display": true,
   "toc_window_display": true
  },
  "varInspector": {
   "cols": {
    "lenName": 16,
    "lenType": 16,
    "lenVar": 40
   },
   "kernels_config": {
    "python": {
     "delete_cmd_postfix": "",
     "delete_cmd_prefix": "del ",
     "library": "var_list.py",
     "varRefreshCmd": "print(var_dic_list())"
    },
    "r": {
     "delete_cmd_postfix": ") ",
     "delete_cmd_prefix": "rm(",
     "library": "var_list.r",
     "varRefreshCmd": "cat(var_dic_list()) "
    }
   },
   "oldHeight": 496,
   "position": {
    "height": "518px",
    "left": "1676px",
    "right": "20px",
    "top": "120px",
    "width": "224px"
   },
   "types_to_exclude": [
    "module",
    "function",
    "builtin_function_or_method",
    "instance",
    "_Feature"
   ],
   "varInspector_section_display": "block",
   "window_display": false
  }
 },
 "nbformat": 4,
 "nbformat_minor": 4
}
