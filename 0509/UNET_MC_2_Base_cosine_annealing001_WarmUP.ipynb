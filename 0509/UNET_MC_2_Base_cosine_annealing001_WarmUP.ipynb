{
 "cells": [
  {
   "cell_type": "code",
   "execution_count": 1,
   "metadata": {},
   "outputs": [],
   "source": [
    "train_dir_LandSAT = r\"C:\\Users\\HPCL\\OneDrive - University of New Orleans\\Documents\\Research\\Year 1\\Pytorch\\Year1_Research\\New Experimets\\Data\\Landsat 30m Resolution\"\n",
    "train_dir_Sentinel = r\"C:\\Users\\HPCL\\OneDrive - University of New Orleans\\Documents\\Research\\Year 1\\Pytorch\\Year1_Research\\New Experimets\\Data\\Sentinel uint16 Data 0%water and 0%land exclude\"\n",
    "save_last = r\"C:\\Saiful_Results\\UNET_MC_2_Base_cosine_annealing001\"\n"
   ]
  },
  {
   "cell_type": "code",
   "execution_count": 2,
   "metadata": {},
   "outputs": [],
   "source": [
    "train_dir_LandSAT = r\"D:\\Research\\Year 1\\Pytorch\\Year1_Research\\New Experimets\\Data\\Landsat 30m Resolution\"\n",
    "train_dir_Sentinel = r\"D:\\Research\\Year 1\\Pytorch\\Year1_Research\\New Experimets\\Data\\Sentinel uint16 Data 0%water and 0%land exclude\"\n"
   ]
  },
  {
   "cell_type": "code",
   "execution_count": 3,
   "metadata": {},
   "outputs": [
    {
     "name": "stdout",
     "output_type": "stream",
     "text": [
      "Wed-May-10-17-33-26-2023\n",
      "C:\\Saiful_Results\\UNET_MC_2_Base_cosine_annealing001\\Wed-May-10-17-33-26-2023\n"
     ]
    }
   ],
   "source": [
    "import time\n",
    "\n",
    "today=str(time.ctime().replace(\":\",\"-\").replace(\" \",\"-\"))\n",
    "print(today)\n",
    "\n",
    "save_last = save_last+\"\\\\\"+today\n",
    "    \n",
    "print(save_last)"
   ]
  },
  {
   "cell_type": "code",
   "execution_count": 4,
   "metadata": {},
   "outputs": [],
   "source": [
    "import os\n",
    "\n",
    "\n",
    "\n",
    "if not os.path.exists(save_last):\n",
    "    os.makedirs(save_last) \n",
    "    \n",
    "    \n",
    "    "
   ]
  },
  {
   "cell_type": "code",
   "execution_count": 5,
   "metadata": {},
   "outputs": [],
   "source": [
    "import numpy as np\n",
    "import matplotlib.pyplot as plt\n",
    "# import os\n",
    "import copy\n",
    "import sys\n",
    "import random\n",
    "import albumentations as A\n",
    "from albumentations.pytorch import ToTensorV2\n",
    "import cv2\n",
    "from PIL import Image\n",
    "from collections import OrderedDict\n",
    "import pandas as pd\n",
    "from tqdm import tqdm\n",
    "import random\n",
    "from collections import defaultdict \n",
    "import tifffile as tiff\n",
    "import imageio as io\n",
    "import torch\n",
    "import torch.nn as nn\n",
    "import torch.nn.functional as F\n",
    "import torch.optim as optim\n",
    "import torchvision\n",
    "\n",
    "import segmentation_models_pytorch as smp\n",
    "from skimage.morphology import binary_dilation, binary_erosion\n",
    "from torchsummary import summary\n",
    "from torch.utils.data import Dataset, DataLoader, ConcatDataset\n",
    "from sklearn.metrics import average_precision_score"
   ]
  },
  {
   "cell_type": "code",
   "execution_count": 6,
   "metadata": {
    "scrolled": true
   },
   "outputs": [
    {
     "name": "stdout",
     "output_type": "stream",
     "text": [
      "cuda:0\n"
     ]
    }
   ],
   "source": [
    "device = torch.device('cuda:0' if torch.cuda.is_available() else 'cpu')\n",
    "print(device)"
   ]
  },
  {
   "cell_type": "markdown",
   "metadata": {},
   "source": [
    "# Loss Functions"
   ]
  },
  {
   "cell_type": "code",
   "execution_count": 7,
   "metadata": {},
   "outputs": [],
   "source": [
    "def weighted_bce_loss(output,y,weight):\n",
    "    epsilon= 1e-7\n",
    "    output = torch.clamp(output, epsilon, 1.-epsilon)\n",
    "    logit_output = torch.log(output/(1.-output))\n",
    "    \n",
    "    loss = (1.-y)*logit_output + (1.+(weight-1.)*y) * (torch.log(1.+torch.exp(-torch.abs(logit_output))) + torch.maximum(-logit_output,torch.tensor(0.).cuda()))\n",
    "    return torch.sum(loss)/torch.sum(weight)\n",
    "\n",
    "def weighted_dice_loss(output,y,weight):\n",
    "    smooth = 1.\n",
    "    w,m1,m2 = weight*weight, y, output\n",
    "    intersection = (m1*m2)\n",
    "    score = (2.*torch.sum(w*intersection)+smooth)/(torch.sum(w*m1)+torch.sum(w*m2)+smooth)\n",
    "    loss  = 1.-torch.sum(score)\n",
    "    return loss\n",
    "\n",
    "def iou_loss(y_pred, y_true, weight):\n",
    "    weight = weight*weight\n",
    "    intersection = y_true * y_pred\n",
    "    not_true     = 1 - y_true\n",
    "    union        = y_true + (not_true * y_pred)\n",
    "    iou          = (torch.sum(intersection * weight)) / (torch.sum(union * weight))\n",
    "\n",
    "    loss = 1-iou\n",
    "    return loss\n",
    "    \n",
    "\n",
    "def border_loss(output,y,pool_size=(9,9), pad=(4,4)):\n",
    "    y      = y.type(torch.float32)\n",
    "    \n",
    "    output = output.type(torch.float32)\n",
    "    \n",
    "    averaged_mask = F.avg_pool2d(y,kernel_size=pool_size,stride=(1,1), padding=pad)\n",
    "    border = (averaged_mask>0.005).type(torch.float32) * (averaged_mask<0.995).type(torch.float32)\n",
    "    weight = torch.ones_like(averaged_mask)\n",
    "    w0     = torch.sum(weight)\n",
    "    weight+= border*2\n",
    "    w1     = torch.sum(weight)\n",
    "    weight*= (w0/w1)\n",
    "    loss   = weighted_bce_loss(output,y,weight) + weighted_dice_loss(output,y,weight) + iou_loss(output,y,weight)\n",
    "    return loss"
   ]
  },
  {
   "cell_type": "markdown",
   "metadata": {},
   "source": [
    "# Functions"
   ]
  },
  {
   "cell_type": "code",
   "execution_count": 8,
   "metadata": {},
   "outputs": [],
   "source": [
    "################ Metrics #######################\n",
    "def IoU_pr_rec_f1(y_true, y_pred):\n",
    "    \n",
    "    y_true = y_true.reshape(-1)\n",
    "    y_pred = y_pred.reshape(-1)\n",
    "    y_pred = ((y_pred)*1.).type(torch.float32)\n",
    "    \n",
    "    tp = torch.sum(y_true*(y_pred))\n",
    "    tn = torch.sum((1-y_true)*((1-y_pred)))\n",
    "    fp = torch.sum((1-y_true)*(y_pred))\n",
    "    fn = torch.sum((y_true)*((1-y_pred)))\n",
    "    \n",
    "    pr  = (tp/(tp+fp))\n",
    "    rec = (tp/(tp+fn))\n",
    "    f1  = ((2*pr*rec)/(pr+rec))\n",
    "    tnr = (tn/(tn+fp))\n",
    "    fpr = (fp/(fp+tn))\n",
    "    \n",
    "    intersection = y_true*y_pred\n",
    "    not_true     = 1 - y_true\n",
    "    union        = y_true + (not_true * y_pred)\n",
    "    iou         = (torch.sum(intersection)) / (torch.sum(union))\n",
    "    \n",
    "    return iou, pr, rec, f1, tnr, fpr\n",
    "\n",
    "# Saving Metrics\n",
    "def metrics():\n",
    "    x = np.arange(0,1,0.05)\n",
    "    IoU_      = []\n",
    "    threshold = []\n",
    "    precision = []\n",
    "    recall    = []\n",
    "    F_score   = []\n",
    "    mF_score  = []\n",
    "    TNR       = []\n",
    "    FPR       = []\n",
    "    name_list = []\n",
    "\n",
    "    dict_1 = {'Threshold': threshold,\n",
    "              'Name':name_list,\n",
    "              'IoU':IoU_,\n",
    "              'Precision':precision,\n",
    "              'Recall':recall,\n",
    "              'F-Score':F_score,\n",
    "              'mF-Score':mF_score,\n",
    "              'True Negative Rate':TNR,\n",
    "              'False Positive Rate':FPR}\n",
    "    return dict_1\n",
    "\n",
    "def best_f_score(name, test_masks, predictions) :\n",
    "    dict_1 = metrics()\n",
    "    y = 0\n",
    "    outer = 0\n",
    "    check = 0\n",
    "    x = 0 \n",
    "    y = 1\n",
    "    while outer<3:    \n",
    "        if y>1:\n",
    "            m = y-1\n",
    "            y-= m\n",
    "        z = np.linspace(x, y, 21)\n",
    "        for i in z:\n",
    "#             print(i)\n",
    "            y_true = torch.from_numpy(test_masks)\n",
    "            y_pred = torch.from_numpy((predictions>i)*1)\n",
    "\n",
    "            tp = torch.sum(y_true*(y_pred),dim=[1,2,3])\n",
    "            tn = torch.sum((1-y_true)*((1-y_pred)),dim=[1,2,3])\n",
    "            fp = torch.sum((1-y_true)*(y_pred),dim=[1,2,3])\n",
    "            fn = torch.sum((y_true)*((1-y_pred)),dim=[1,2,3])\n",
    "\n",
    "            pr  = (tp/(tp+fp))\n",
    "            rec = (tp/(tp+fn))\n",
    "            score  = ((2*pr*rec)/(pr+rec))\n",
    "            idx    = torch.isnan(score)\n",
    "            score[idx] = 0\n",
    "            score  = torch.sum(score)/len(X_test)\n",
    "            \n",
    "            a,b,c,d,e,f = IoU_pr_rec_f1(torch.from_numpy(test_masks), torch.from_numpy(predictions>i))\n",
    "            dict_1['IoU'].append(a.numpy())\n",
    "            dict_1['Threshold'].append(i)\n",
    "            dict_1['Precision'].append(b.numpy())\n",
    "            dict_1['Recall'].append(c.numpy())\n",
    "            dict_1['F-Score'].append(d.numpy())\n",
    "            dict_1['mF-Score'].append(score.cpu().detach().numpy())\n",
    "            dict_1['True Negative Rate'].append(e.numpy())\n",
    "            dict_1['False Positive Rate'].append(f.numpy())\n",
    "            dict_1['Name'].append(name)\n",
    "            if d>check:\n",
    "                check = d\n",
    "                x = i\n",
    "            else:\n",
    "                pass\n",
    "        if outer == 0:\n",
    "            y = x+0.1\n",
    "        elif outer==1:\n",
    "            y = x+0.01\n",
    "        outer+=1\n",
    "    \n",
    "    df = pd.DataFrame(dict_1)\n",
    "    df = df.sort_values(by=['F-Score'], ascending=False)\n",
    "    df = df.iloc[0:1]\n",
    "    \n",
    "    AP = average_precision_score(test_masks.reshape(-1), predictions.reshape(-1))\n",
    "    df['AP'] = AP\n",
    "        \n",
    "    return df\n",
    "\n",
    "dict_1 = metrics()"
   ]
  },
  {
   "cell_type": "markdown",
   "metadata": {},
   "source": [
    "# Load Labeled Data"
   ]
  },
  {
   "cell_type": "code",
   "execution_count": 9,
   "metadata": {},
   "outputs": [
    {
     "name": "stderr",
     "output_type": "stream",
     "text": [
      "C:\\Users\\HPCL\\AppData\\Local\\Temp/ipykernel_6928/3036067045.py:5: RuntimeWarning: invalid value encountered in true_divide\n",
      "  Y_train_LandSAT = (X_train_LandSAT[...,1]-X_train_LandSAT[...,3])/(X_train_LandSAT[...,1]+X_train_LandSAT[...,3])\n",
      "C:\\Users\\HPCL\\AppData\\Local\\Temp/ipykernel_6928/3036067045.py:7: RuntimeWarning: invalid value encountered in true_divide\n",
      "  Y_test_LandSAT  = (X_test_LandSAT[...,1]-X_test_LandSAT[...,3])/(X_test_LandSAT[...,1]+X_test_LandSAT[...,3])\n"
     ]
    }
   ],
   "source": [
    "X_train_LandSAT = np.load(r\"{}\\X_train_4500_30m_res.npy\".format(train_dir_LandSAT))\n",
    "X_val_LandSAT   = np.load(r\"{}\\X_val_500_30m_res.npy\".format(train_dir_LandSAT))\n",
    "X_test_LandSAT  = np.load(r\"{}\\X_test_2000_30m_res.npy\".format(train_dir_LandSAT))\n",
    "\n",
    "Y_train_LandSAT = (X_train_LandSAT[...,1]-X_train_LandSAT[...,3])/(X_train_LandSAT[...,1]+X_train_LandSAT[...,3])\n",
    "Y_val_LandSAT   = (X_val_LandSAT[...,1]-X_val_LandSAT[...,3])/(X_val_LandSAT[...,1]+X_val_LandSAT[...,3])\n",
    "Y_test_LandSAT  = (X_test_LandSAT[...,1]-X_test_LandSAT[...,3])/(X_test_LandSAT[...,1]+X_test_LandSAT[...,3])\n",
    "\n",
    "Y_train_LandSAT = ((Y_train_LandSAT<1.)*1).astype('float32')\n",
    "Y_val_LandSAT   = ((Y_val_LandSAT<1.)*1).astype('float32')\n",
    "Y_test_LandSAT  = ((Y_test_LandSAT<1.)*1).astype('float32')\n",
    "\n",
    "X_train_LandSAT = X_train_LandSAT[...,2::-1].copy()\n",
    "X_val_LandSAT   = X_val_LandSAT[...,2::-1].copy()\n",
    "X_test_LandSAT  = X_test_LandSAT[...,2::-1].copy()\n",
    "\n",
    "X_train_LandSAT = X_train_LandSAT - X_train_LandSAT.min(axis=(1,2), keepdims=True) \n",
    "X_val_LandSAT   = X_val_LandSAT  - X_val_LandSAT.min(axis=(1,2), keepdims=True)\n",
    "X_test_LandSAT  = X_test_LandSAT - X_test_LandSAT.min(axis=(1,2), keepdims=True) \n",
    "\n",
    "X_train_LandSAT = X_train_LandSAT / X_train_LandSAT.max(axis=(1,2), keepdims=True) \n",
    "X_val_LandSAT   = X_val_LandSAT  / X_val_LandSAT.max(axis=(1,2), keepdims=True)\n",
    "X_test_LandSAT  = X_test_LandSAT / X_test_LandSAT.max(axis=(1,2), keepdims=True) "
   ]
  },
  {
   "cell_type": "code",
   "execution_count": 10,
   "metadata": {},
   "outputs": [],
   "source": [
    "## SENTINEL DATA"
   ]
  },
  {
   "cell_type": "code",
   "execution_count": 11,
   "metadata": {},
   "outputs": [
    {
     "data": {
      "text/plain": [
       "(4608, 513)"
      ]
     },
     "execution_count": 11,
     "metadata": {},
     "output_type": "execute_result"
    }
   ],
   "source": [
    "np.random.seed(49)\n",
    "pop = np.arange(5121)\n",
    "sample_train = np.random.choice(pop, 4608, replace=False)\n",
    "sample_val  = np.delete(pop, sample_train)\n",
    "len(sample_train), len(sample_val)"
   ]
  },
  {
   "cell_type": "code",
   "execution_count": 12,
   "metadata": {},
   "outputs": [
    {
     "data": {
      "text/plain": [
       "(4608, 128, 128)"
      ]
     },
     "execution_count": 12,
     "metadata": {},
     "output_type": "execute_result"
    }
   ],
   "source": [
    "X_sen      = np.load(r\"{}\\X_train_sentinel_6_channles_5121.npy\".format(train_dir_Sentinel))\n",
    "X_test_sen = np.load(r\"{}\\X_test_sentinel_6_channles_2053.npy\".format(train_dir_Sentinel))\n",
    "X_train_sen= X_sen[sample_train]\n",
    "X_val_sen  = X_sen[sample_val]\n",
    "\n",
    "Y_train_sen         = (X_train_sen[...,1]-X_train_sen[...,3])/(X_train_sen[...,1]+X_train_sen[...,3])\n",
    "Y_val_sen           = (X_val_sen[...,1]-X_val_sen[...,3])/(X_val_sen[...,1]+X_val_sen[...,3])\n",
    "Y_test_sen         = (X_test_sen[...,1]-X_test_sen[...,3])/(X_test_sen[...,1]+X_test_sen[...,3])\n",
    "\n",
    "Y_train_sen         = ((Y_train_sen<1.)*1).astype('float32')\n",
    "Y_val_sen           = ((Y_val_sen<1.)*1).astype('float32')\n",
    "Y_test_sen          = ((Y_test_sen<1.)*1).astype('float32')\n",
    "\n",
    "X_train_sen         = X_train_sen[...,2::-1].copy()\n",
    "X_val_sen           = X_val_sen[...,2::-1].copy()\n",
    "X_test_sen          = X_test_sen[...,2::-1].copy()\n",
    "\n",
    "X_train_sen         = np.clip(X_train_sen, 0, 3558) \n",
    "X_val_sen           = np.clip(X_val_sen, 0, 3558)\n",
    "X_test_sen          = np.clip(X_test_sen, 0, 3558) \n",
    "\n",
    "X_train_sen         = (X_train_sen / 3558).astype(np.float32) \n",
    "X_val_sen           = (X_val_sen  / 3558).astype(np.float32)\n",
    "X_test_sen          = (X_test_sen / 3558).astype(np.float32) \n",
    "\n",
    "Y_train_sen.shape"
   ]
  },
  {
   "cell_type": "code",
   "execution_count": 13,
   "metadata": {},
   "outputs": [
    {
     "data": {
      "text/plain": [
       "(2053, 128, 128)"
      ]
     },
     "execution_count": 13,
     "metadata": {},
     "output_type": "execute_result"
    }
   ],
   "source": [
    "Y_test= Y_test_sen # np.concatenate((Y_test_LandSAT,Y_test_sen),axis = 0)\n",
    "Y_test.shape"
   ]
  },
  {
   "cell_type": "code",
   "execution_count": 14,
   "metadata": {},
   "outputs": [],
   "source": [
    "# Contours for Sentinel"
   ]
  },
  {
   "cell_type": "code",
   "execution_count": 15,
   "metadata": {},
   "outputs": [],
   "source": [
    "Y_train_sen  = np.array([binary_dilation(binary_dilation(mask))-mask for mask in Y_train_sen], dtype='float64')\n",
    "Y_val_sen   = np.array([binary_dilation(binary_dilation(mask))-mask for mask in Y_val_sen], dtype='float64')\n",
    "Y_test_sen  = np.array([binary_dilation(binary_dilation(mask))-mask for mask in Y_test_sen], dtype='float64')"
   ]
  },
  {
   "cell_type": "code",
   "execution_count": 16,
   "metadata": {},
   "outputs": [],
   "source": [
    "from sklearn.utils import shuffle\n",
    "X_sen, Y_sen = shuffle(X_train_sen, Y_train_sen, random_state=0)"
   ]
  },
  {
   "cell_type": "code",
   "execution_count": 17,
   "metadata": {},
   "outputs": [
    {
     "name": "stderr",
     "output_type": "stream",
     "text": [
      "Clipping input data to the valid range for imshow with RGB data ([0..1] for floats or [0..255] for integers).\n"
     ]
    },
    {
     "data": {
      "text/plain": [
       "<matplotlib.image.AxesImage at 0x242787580d0>"
      ]
     },
     "execution_count": 17,
     "metadata": {},
     "output_type": "execute_result"
    },
    {
     "data": {
      "image/png": "[encoded data removed]",
      "text/plain": [
       "<Figure size 432x288 with 1 Axes>"
      ]
     },
     "metadata": {
      "needs_background": "light"
     },
     "output_type": "display_data"
    }
   ],
   "source": [
    "plt.imshow(X_sen[0]+Y_sen[0,...,np.newaxis])"
   ]
  },
  {
   "cell_type": "raw",
   "metadata": {},
   "source": [
    "X_train_LandSAT\n",
    "X_val_LandSAT   \n",
    "X_test_LandSAT  \n",
    "\n",
    "Y_train_LandSAT\n",
    "Y_val_LandSAT   \n",
    "Y_test_LandSAT "
   ]
  },
  {
   "cell_type": "code",
   "execution_count": 18,
   "metadata": {},
   "outputs": [],
   "source": [
    "# Contours for LandSAT"
   ]
  },
  {
   "cell_type": "code",
   "execution_count": 19,
   "metadata": {},
   "outputs": [],
   "source": [
    "Y_train_LandSAT  = np.array([binary_dilation(mask)-mask for mask in Y_train_LandSAT], dtype='float64')\n",
    "Y_val_LandSAT   = np.array([binary_dilation(mask)-mask for mask in Y_val_LandSAT], dtype='float64')\n",
    "Y_test_LandSAT  = np.array([binary_dilation(mask)-mask for mask in Y_test_LandSAT], dtype='float64')"
   ]
  },
  {
   "cell_type": "code",
   "execution_count": 20,
   "metadata": {},
   "outputs": [],
   "source": [
    "X_LS, Y_LS = shuffle(X_train_LandSAT, Y_train_LandSAT, random_state=0)"
   ]
  },
  {
   "cell_type": "code",
   "execution_count": 21,
   "metadata": {},
   "outputs": [
    {
     "name": "stderr",
     "output_type": "stream",
     "text": [
      "Clipping input data to the valid range for imshow with RGB data ([0..1] for floats or [0..255] for integers).\n"
     ]
    },
    {
     "data": {
      "text/plain": [
       "<matplotlib.image.AxesImage at 0x2428a499e20>"
      ]
     },
     "execution_count": 21,
     "metadata": {},
     "output_type": "execute_result"
    },
    {
     "data": {
      "image/png": "[encoded data removed]",
      "text/plain": [
       "<Figure size 432x288 with 1 Axes>"
      ]
     },
     "metadata": {
      "needs_background": "light"
     },
     "output_type": "display_data"
    }
   ],
   "source": [
    "plt.imshow(X_LS[0]+Y_LS[0,...,np.newaxis])"
   ]
  },
  {
   "cell_type": "code",
   "execution_count": 22,
   "metadata": {},
   "outputs": [],
   "source": [
    "# Concatenate the inputs and labels#"
   ]
  },
  {
   "cell_type": "code",
   "execution_count": 23,
   "metadata": {},
   "outputs": [
    {
     "name": "stdout",
     "output_type": "stream",
     "text": [
      "(9108, 128, 128, 3)\n",
      "(1013, 128, 128, 3)\n",
      "(4053, 128, 128, 3)\n"
     ]
    }
   ],
   "source": [
    "X_train = np.concatenate((X_LS,X_sen),axis = 0)\n",
    "print(X_train.shape)\n",
    "\n",
    "X_val = np.concatenate((X_val_LandSAT,X_val_sen),axis = 0)\n",
    "print(X_val.shape)\n",
    "\n",
    "X_test = np.concatenate((X_test_LandSAT,X_test_sen),axis = 0)\n",
    "print(X_test.shape)"
   ]
  },
  {
   "cell_type": "code",
   "execution_count": 24,
   "metadata": {},
   "outputs": [
    {
     "name": "stdout",
     "output_type": "stream",
     "text": [
      "(9108, 128, 128)\n",
      "(1013, 128, 128)\n",
      "(4053, 128, 128)\n"
     ]
    }
   ],
   "source": [
    "Y_train=  np.concatenate((Y_LS,Y_sen),axis = 0)\n",
    "print(Y_train.shape)\n",
    "\n",
    "Y_val=  np.concatenate((Y_val_LandSAT,Y_val_sen),axis = 0)\n",
    "print(Y_val.shape)\n",
    "\n",
    "Y_test=  np.concatenate((Y_test_LandSAT,Y_test_sen),axis = 0)\n",
    "print(Y_test.shape)"
   ]
  },
  {
   "cell_type": "code",
   "execution_count": 25,
   "metadata": {},
   "outputs": [],
   "source": [
    "# shuffle the training data"
   ]
  },
  {
   "cell_type": "code",
   "execution_count": 26,
   "metadata": {},
   "outputs": [],
   "source": [
    "X, Y = shuffle(X_train, Y_train, random_state=0)"
   ]
  },
  {
   "cell_type": "code",
   "execution_count": 27,
   "metadata": {},
   "outputs": [
    {
     "name": "stderr",
     "output_type": "stream",
     "text": [
      "Clipping input data to the valid range for imshow with RGB data ([0..1] for floats or [0..255] for integers).\n"
     ]
    },
    {
     "data": {
      "text/plain": [
       "<matplotlib.image.AxesImage at 0x242c0ffed60>"
      ]
     },
     "execution_count": 27,
     "metadata": {},
     "output_type": "execute_result"
    },
    {
     "data": {
      "image/png": "[encoded data removed]",
      "text/plain": [
       "<Figure size 432x288 with 1 Axes>"
      ]
     },
     "metadata": {
      "needs_background": "light"
     },
     "output_type": "display_data"
    }
   ],
   "source": [
    "plt.imshow(X[0]+Y[0,...,np.newaxis])"
   ]
  },
  {
   "cell_type": "code",
   "execution_count": 28,
   "metadata": {},
   "outputs": [
    {
     "name": "stderr",
     "output_type": "stream",
     "text": [
      "Clipping input data to the valid range for imshow with RGB data ([0..1] for floats or [0..255] for integers).\n"
     ]
    },
    {
     "data": {
      "text/plain": [
       "<matplotlib.image.AxesImage at 0x242c1081730>"
      ]
     },
     "execution_count": 28,
     "metadata": {},
     "output_type": "execute_result"
    },
    {
     "data": {
      "image/png": "[encoded data removed]",
      "text/plain": [
       "<Figure size 432x288 with 1 Axes>"
      ]
     },
     "metadata": {
      "needs_background": "light"
     },
     "output_type": "display_data"
    }
   ],
   "source": [
    "plt.imshow(X_val[1002]+Y_val[1002,...,np.newaxis])"
   ]
  },
  {
   "cell_type": "code",
   "execution_count": 29,
   "metadata": {},
   "outputs": [
    {
     "name": "stderr",
     "output_type": "stream",
     "text": [
      "Clipping input data to the valid range for imshow with RGB data ([0..1] for floats or [0..255] for integers).\n"
     ]
    },
    {
     "data": {
      "text/plain": [
       "<matplotlib.image.AxesImage at 0x242c10e5b50>"
      ]
     },
     "execution_count": 29,
     "metadata": {},
     "output_type": "execute_result"
    },
    {
     "data": {
      "image/png": "[encoded data removed]",
      "text/plain": [
       "<Figure size 432x288 with 1 Axes>"
      ]
     },
     "metadata": {
      "needs_background": "light"
     },
     "output_type": "display_data"
    }
   ],
   "source": [
    "plt.imshow(X_test[4002]+Y_test[4002,...,np.newaxis])"
   ]
  },
  {
   "cell_type": "code",
   "execution_count": null,
   "metadata": {},
   "outputs": [],
   "source": []
  },
  {
   "cell_type": "code",
   "execution_count": null,
   "metadata": {},
   "outputs": [],
   "source": []
  },
  {
   "cell_type": "markdown",
   "metadata": {},
   "source": [
    "# Pytorch DataLoaders"
   ]
  },
  {
   "cell_type": "code",
   "execution_count": 30,
   "metadata": {
    "code_folding": []
   },
   "outputs": [],
   "source": [
    "class NDWIDataset(Dataset):\n",
    "\n",
    "    def __init__(self, images, masks, transform=None, test_transform=None):\n",
    "        self.images     = images\n",
    "        self.masks      = masks\n",
    "        self.transforms = transform\n",
    "\n",
    "    def __len__(self):\n",
    "        return len(self.images)\n",
    "    \n",
    "    def __getitem__(self, idx):\n",
    "        \n",
    "        image = self.images[idx]\n",
    "        mask = self.masks[idx]\n",
    "\n",
    "        if self.transforms:\n",
    "            augmentations = self.transforms(image=image, mask=mask)\n",
    "        \n",
    "        image = augmentations['image']\n",
    "        mask  = augmentations['mask']\n",
    "        mask  = mask[np.newaxis,:,:]\n",
    "        \n",
    "        return [image.type(torch.float32), \n",
    "                mask.type(torch.float32)]\n",
    "        "
   ]
  },
  {
   "cell_type": "code",
   "execution_count": 31,
   "metadata": {},
   "outputs": [],
   "source": [
    "class NDWIDataset_pseudo(Dataset):\n",
    "\n",
    "    def __init__(self, imgs, model_pred, threshold=None, transform=None, test_transform=None):\n",
    "        self.image   = imgs\n",
    "        self.model   = model_pred\n",
    "        self.transforms = transform\n",
    "        self.threshold  = threshold\n",
    "\n",
    "    def __len__(self):\n",
    "        return len(self.image)\n",
    "    \n",
    "    def __getitem__(self, idx):\n",
    "        image = self.image[idx].astype('float32')\n",
    "        model = self.model\n",
    "        image= image[...,2::-1].copy()\n",
    "        image= image - image.min(axis=(0,1))\n",
    "        image= image / image.max(axis=(0,1))\n",
    "        \n",
    "        if self.transforms:\n",
    "            augmentations = self.transforms(image=image)\n",
    "        \n",
    "        image = augmentations['image']\n",
    "        mask  = ((model(image[np.newaxis].cuda()).cpu().detach())>self.threshold)*1.\n",
    "        mask  = mask.squeeze()\n",
    "        mask  = mask[np.newaxis,:,:]\n",
    "        \n",
    "        return [image.type(torch.float32), \n",
    "                mask.type(torch.float32)]\n",
    "        "
   ]
  },
  {
   "cell_type": "code",
   "execution_count": 32,
   "metadata": {},
   "outputs": [],
   "source": [
    "class NDWIDataset_from_dir(Dataset):\n",
    "\n",
    "    def __init__(self, img_dir, model_pred, threshold=None, transform=None, test_transform=None):\n",
    "        self.dir     = img_dir\n",
    "        self.model   = model_pred\n",
    "        self.transforms = transform\n",
    "        self.threshold  = threshold\n",
    "\n",
    "    def __len__(self):\n",
    "        return len(self.dir)\n",
    "    \n",
    "    def __getitem__(self, idx):\n",
    "        path = self.dir[idx]\n",
    "        model = self.model\n",
    "        image= (tiff.imread(path)).astype('float32')\n",
    "        image= image[...,2::-1].copy()\n",
    "        image= image - image.min(axis=(0,1))\n",
    "        image= image / image.max(axis=(0,1))\n",
    "        \n",
    "        if self.transforms:\n",
    "            augmentations = self.transforms(image=image)\n",
    "        \n",
    "        image = augmentations['image']\n",
    "        mask  = ((model(image[np.newaxis].cuda()).cpu().detach())>self.threshold)*1.\n",
    "        mask  = mask.squeeze()\n",
    "        mask  = mask[np.newaxis,:,:]\n",
    "        \n",
    "        return [image.type(torch.float32), \n",
    "                mask.type(torch.float32)]"
   ]
  },
  {
   "cell_type": "code",
   "execution_count": 33,
   "metadata": {},
   "outputs": [],
   "source": [
    "class NDWIDataset_from_dir_reg(Dataset):\n",
    "\n",
    "    def __init__(self, img_dir, transform=None, test_transform=None):\n",
    "        self.dir     = img_dir\n",
    "        self.transforms = transform\n",
    "\n",
    "    def __len__(self):\n",
    "        return len(self.dir)\n",
    "    \n",
    "    def __getitem__(self, idx):\n",
    "        eps  = 1e-7\n",
    "        path = self.dir[idx]\n",
    "        image= (tiff.imread(path)).astype('float32')\n",
    "        mask = (((image[...,1]-image[...,3] +eps)/(image[...,1]+image[...,3] +eps))>0).astype('float32')\n",
    "        mask = binary_dilation(mask)-mask\n",
    "        \n",
    "        image= image[...,2::-1].copy()\n",
    "        image= (image) - (image.min(axis=(0,1)))\n",
    "        image= (image+eps) / (image.max(axis=(0,1))+eps)\n",
    "        \n",
    "        if self.transforms:\n",
    "            augmentations = self.transforms(image=image, mask=mask)\n",
    "        \n",
    "        image = augmentations['image']\n",
    "        mask = augmentations['mask']\n",
    "        mask = mask[np.newaxis,:,:]\n",
    "        \n",
    "        \n",
    "        return [image.type(torch.float32), \n",
    "                mask.type(torch.float32)]        "
   ]
  },
  {
   "cell_type": "code",
   "execution_count": 34,
   "metadata": {},
   "outputs": [],
   "source": [
    "def data(trans, trans_test, X_train, Y_train, X_val, Y_val, X_test, Y_test, split=0.9, val=True, batch_size=16):\n",
    "    torch.manual_seed(49)\n",
    "    random.seed(49)\n",
    "    trainset= NDWIDataset(X_train, Y_train, transform=trans)\n",
    "\n",
    "    if val:\n",
    "        print(f'Training:{len(X_train)}, Validation:{len(X_val)}')\n",
    "        print(f'Testing: {len(X_test)}')\n",
    "        \n",
    "        valset  = NDWIDataset(X_val, Y_val, transform=trans_test)\n",
    "        testset = NDWIDataset(X_test, Y_test, transform=trans_test)\n",
    "        image_datasets = {'train': trainset, 'val': valset, 'test': testset}\n",
    "        batch_size = batch_size\n",
    "\n",
    "        dataloaders = {\n",
    "          'train': DataLoader(trainset, batch_size=batch_size, shuffle=True, pin_memory = True),#, num_workers=8),\n",
    "          'val': DataLoader(valset, batch_size=batch_size, shuffle=True, pin_memory = True),#, num_workers=8),\n",
    "          'test': DataLoader(testset, batch_size=batch_size, shuffle=False, pin_memory = True)#, num_workers=8)\n",
    "        }\n",
    "        \n",
    "    else:\n",
    "        print(f'Training:{len(X_train)}')\n",
    "        print(f'Testing: {len(X_test)}')\n",
    "        testset = NDWIDataset(X_test, Y_test, transform=trans_test)\n",
    "        image_datasets = {'train': trainset, 'test': testset}\n",
    "        batch_size = batch_size\n",
    "\n",
    "        dataloaders = {\n",
    "          'train': DataLoader(trainset, batch_size=batch_size, shuffle=True, pin_memory = True),#, num_workers=8),\n",
    "          'test': DataLoader(testset, batch_size=batch_size, shuffle=False, pin_memory = True)#, num_workers=8)\n",
    "        }\n",
    "        \n",
    "    \n",
    "    return dataloaders"
   ]
  },
  {
   "cell_type": "code",
   "execution_count": 35,
   "metadata": {},
   "outputs": [],
   "source": [
    "def data_from_dir_reg(trans, trans_test, list_train, list_val, list_test, split=0.9, factor=1, val=True, batch_size=16):\n",
    "    torch.manual_seed(49)\n",
    "    random.seed(49)\n",
    "    trainset = NDWIDataset_from_dir_reg(list_train, transform=trans)\n",
    "\n",
    "    if val:\n",
    "#         lengths = [int(len(dataset)*split), int(len(dataset)*(1-split))+factor]\n",
    "        \n",
    "        valset  = NDWIDataset_from_dir_reg(list_val, transform=trans)\n",
    "        testset = NDWIDataset_from_dir_reg(list_test, transform=trans_test)\n",
    "        print(f'Training:{len(list_train)}, Validation:{len(list_val)}')\n",
    "        print(f'Testing: {len(list_test)}')\n",
    "        image_datasets = {'train': trainset, 'val': valset, 'test': testset}\n",
    "        batch_size = batch_size\n",
    "\n",
    "        dataloaders = {\n",
    "          'train': DataLoader(trainset, batch_size=batch_size, shuffle=True, pin_memory = True),#, num_workers=8),\n",
    "          'val': DataLoader(valset, batch_size=batch_size, shuffle=True, pin_memory = True),#, num_workers=8),\n",
    "          'test': DataLoader(testset, batch_size=batch_size, shuffle=False, pin_memory = True)#, num_workers=8)\n",
    "        }\n",
    "        \n",
    "    else:\n",
    "        lengths = [int(len(dataset))]\n",
    "        print(f'Training:{len(list_train)}')\n",
    "        print(f'Testing: {len(list_test)}')\n",
    "        testset = NDWIDataset_from_dir_reg(list_test, transform=trans_test)\n",
    "        image_datasets = {'train': dataset, 'test': testset}\n",
    "        batch_size = batch_size\n",
    "\n",
    "        dataloaders = {\n",
    "          'train': DataLoader(dataset, batch_size=batch_size, shuffle=True, pin_memory = True),#, num_workers=8),\n",
    "          'test': DataLoader(testset, batch_size=batch_size, shuffle=False, pin_memory = True)#, num_workers=8)\n",
    "        }\n",
    "        \n",
    "    \n",
    "    return dataloaders"
   ]
  },
  {
   "cell_type": "code",
   "execution_count": 36,
   "metadata": {},
   "outputs": [],
   "source": [
    "def data_pseudo(trans, img_paths, model, batch_size=32, split=None):\n",
    "    torch.manual_seed(49)\n",
    "    random.seed(49)\n",
    "    if split==None:\n",
    "        dataset = NDWIDataset_from_dir(img_paths, model, transform=trans)\n",
    "        lengths = [int(len(dataset))]\n",
    "        print(f'Pseudo-Training:{lengths[0]}')\n",
    "        dataloader = DataLoader(dataset, batch_size=batch_size, shuffle=True, pin_memory = True)#, num_workers=8)\n",
    "    else:\n",
    "        dataset = NDWIDataset_from_dir(img_paths, model, transform=trans)\n",
    "        lengths = [int(len(dataset)*split), int(len(dataset)*(1-split))+1]\n",
    "        trainset, valset = torch.utils.data.random_split(dataset, lengths)\n",
    "        \n",
    "        print(f'Pseudo-Training, Train: {len(trainset)}, Validation: {len(valset)}')\n",
    "        dataloader = {'train':DataLoader(trainset, batch_size=batch_size, shuffle=True, pin_memory = True),\n",
    "                      'val'  :DataLoader(valset, batch_size=batch_size, shuffle=True, pin_memory = True)}\n",
    "\n",
    "    \n",
    "    return dataloader"
   ]
  },
  {
   "cell_type": "code",
   "execution_count": 37,
   "metadata": {},
   "outputs": [],
   "source": [
    "trans = A.Compose([\n",
    "#     A.RandomCrop(128,128),\n",
    "#     A.VerticalFlip(),\n",
    "#     A.HorizontalFlip(),\n",
    "    ToTensorV2()])\n",
    "trans_test = A.Compose([\n",
    "#              A.RandomCrop(128,128),\n",
    "             ToTensorV2()])"
   ]
  },
  {
   "cell_type": "code",
   "execution_count": 38,
   "metadata": {},
   "outputs": [],
   "source": [
    "def plot_rand(dataloader, set_='train'):\n",
    "    if set_==None:\n",
    "        for x,y in dataloader:\n",
    "            x,y = x.numpy().transpose([0,2,3,1]), y.numpy().squeeze()\n",
    "            break\n",
    "    else:\n",
    "        for x,y in dataloader[set_]:\n",
    "            x,y = x.numpy().transpose([0,2,3,1]), y.numpy().squeeze()\n",
    "            break\n",
    "    rand = np.random.randint(0,x.shape[0])\n",
    "    plt.subplot(121)\n",
    "    plt.imshow(x[rand])\n",
    "    plt.title('Image')\n",
    "    plt.axis('off')\n",
    "    plt.subplot(122)\n",
    "    plt.imshow(y[rand])\n",
    "    plt.title('Contour')\n",
    "    plt.axis('off')\n",
    "    plt.show()\n",
    "#     return x,y"
   ]
  },
  {
   "cell_type": "code",
   "execution_count": 39,
   "metadata": {},
   "outputs": [],
   "source": [
    "# dataloaders  = data_from_dir_reg(trans, trans_test, list_train, list_val, list_test, split=0.9)\n",
    "# # dataloader_p = data_pseudo(trans, list_paths, model_pred)"
   ]
  },
  {
   "cell_type": "markdown",
   "metadata": {},
   "source": [
    "# Evaluation Metrics"
   ]
  },
  {
   "cell_type": "code",
   "execution_count": 40,
   "metadata": {},
   "outputs": [],
   "source": [
    "def f1_score(y_pred, y_true, threshold=0.5):\n",
    "    \n",
    "    y_true = y_true.view(-1)\n",
    "    y_pred = y_pred.view(-1)\n",
    "    y_pred = ((y_pred>threshold)*1.).type(torch.float32)\n",
    "    \n",
    "    tp = torch.sum(y_true*(y_pred))\n",
    "    tn = torch.sum((1-y_true)*((1-y_pred)))\n",
    "    fp = torch.sum((1-y_true)*(y_pred))\n",
    "    fn = torch.sum((y_true)*((1-y_pred)))\n",
    "    \n",
    "    pr  = ((tp+1.)/(tp+fp+1.))\n",
    "    rec = ((tp+1.)/(tp+fn+1.))\n",
    "    f1  = ((2*pr*rec)/(pr+rec))\n",
    "    return f1"
   ]
  },
  {
   "cell_type": "markdown",
   "metadata": {},
   "source": [
    " Exponential MA = $V_{t} = \\beta V_{t-1} + (1-\\beta)(current)$"
   ]
  },
  {
   "cell_type": "code",
   "execution_count": 41,
   "metadata": {
    "code_folding": []
   },
   "outputs": [],
   "source": [
    "class basic_block(nn.Module):\n",
    "#    def __init__(self,in_channels,out_channels, random_state=0):\n",
    "    def __init__(self,in_channels,out_chan, random_state=0):\n",
    "        super(basic_block,self).__init__()\n",
    "        \n",
    "        #out_channels = out_chan\n",
    "        out_channels = out_chan//2\n",
    "        \n",
    "        torch.manual_seed(random_state)\n",
    "        self.bn1         = nn.BatchNorm2d(in_channels)\n",
    "        \n",
    "        self.conv1x1_1_1 = nn.Conv2d(in_channels, out_channels, 1)\n",
    "        self.bn2         = nn.BatchNorm2d(out_channels)\n",
    "        \n",
    "        self.conv1x1_1_3 = nn.Conv2d(in_channels, out_channels, 1)\n",
    "        self.bn3         = nn.BatchNorm2d(out_channels)\n",
    "        \n",
    "        self.conv3x3_1   = nn.Conv2d(out_channels, out_channels, 3, padding=1)\n",
    "        self.bn4         = nn.BatchNorm2d(out_channels)\n",
    "        \n",
    "        self.conv1x1_1_5 = nn.Conv2d(in_channels, out_channels, 1)\n",
    "        self.bn5         = nn.BatchNorm2d(out_channels)\n",
    "        \n",
    "        self.conv5x5_1   = nn.Conv2d(out_channels,out_channels,5,padding=2)\n",
    "        self.bn6         = nn.BatchNorm2d(out_channels)\n",
    "        \n",
    "        self.conv1x1_1_7 = nn.Conv2d(in_channels, out_channels, 1)\n",
    "        self.bn7         = nn.BatchNorm2d(out_channels)\n",
    "        \n",
    "        self.conv7x7_1   = nn.Conv2d(out_channels,out_channels,7,padding=3)\n",
    "        self.bn8         = nn.BatchNorm2d(out_channels)\n",
    "        \n",
    "        self.bn9         = nn.BatchNorm2d(out_channels*4)\n",
    "        self.conv1x1_2_1 = nn.Conv2d(out_channels*4, out_channels, 1)\n",
    "        self.bn10        = nn.BatchNorm2d(out_channels)\n",
    "        self.conv1x1_2_3 = nn.Conv2d(out_channels*4, out_channels, 1)\n",
    "        self.bn11        = nn.BatchNorm2d(out_channels)\n",
    "        self.conv3x3_2   = nn.Conv2d(out_channels, out_channels, 3, padding=1)\n",
    "        self.bn12        = nn.BatchNorm2d(out_channels)\n",
    "        self.conv1x1_2_5 = nn.Conv2d(out_channels*4, out_channels, 1)\n",
    "        self.bn13        = nn.BatchNorm2d(out_channels)\n",
    "        self.conv5x5_2   = nn.Conv2d(out_channels,out_channels,5,padding=2)\n",
    "        self.bn14        = nn.BatchNorm2d(out_channels)\n",
    "        self.conv1x1_2_7 = nn.Conv2d(out_channels*4, out_channels, 1)\n",
    "        self.bn15        = nn.BatchNorm2d(out_channels)\n",
    "        self.conv7x7_2   = nn.Conv2d(out_channels,out_channels,7,padding=3)\n",
    "        self.bn16        = nn.BatchNorm2d(out_channels)\n",
    "        \n",
    "    def forward(self, x):\n",
    "        \n",
    "        bn1         = self.bn1(x)\n",
    "        conv1x1_1_3 = self.bn3(self.conv1x1_1_3(bn1))\n",
    "        conv1x1_1_5 = self.bn4(self.conv1x1_1_5(bn1))\n",
    "        conv1x1_1_7 = self.bn5(self.conv1x1_1_7(bn1))\n",
    "        conv1x1_1_1 = F.relu(self.bn2(self.conv1x1_1_1(bn1)))\n",
    "        conv3x3_1   = F.relu(self.bn6(self.conv3x3_1(conv1x1_1_3)))\n",
    "        conv5x5_1   = F.relu(self.bn7(self.conv5x5_1(conv1x1_1_5)))\n",
    "        conv7x7_1   = F.relu(self.bn8(self.conv7x7_1(conv1x1_1_7)))\n",
    "        cat1        = torch.cat([conv1x1_1_1,conv3x3_1,conv5x5_1,conv7x7_1],dim=1)\n",
    "        \n",
    "        bn9         = self.bn9(cat1)\n",
    "        conv1x1_2_3 = self.bn11(self.conv1x1_2_3(bn9))\n",
    "        conv1x1_2_5 = self.bn12(self.conv1x1_2_5(bn9))\n",
    "        conv1x1_2_7 = self.bn13(self.conv1x1_2_7(bn9))\n",
    "        conv1x1_2_1 = F.relu(self.bn10(self.conv1x1_2_1(bn9)))\n",
    "        conv3x3_2   = F.relu(self.bn14(self.conv3x3_2(conv1x1_2_3)))\n",
    "        conv5x5_2   = F.relu(self.bn15(self.conv5x5_2(conv1x1_2_5)))\n",
    "        conv7x7_2   = F.relu(self.bn16(self.conv7x7_2(conv1x1_2_7)))\n",
    "        cat2        = torch.cat([conv1x1_2_1,conv3x3_2,conv5x5_2,conv7x7_2],dim=1)\n",
    "\n",
    "  \n",
    "        return cat2\n",
    "        \n",
    "\n",
    "class UNET_multiscale2(nn.Module):\n",
    "###    def __init__(self, in_channels=3, out_channels= 1, init_features=16, random_state=0):\n",
    "    def __init__(self, in_channels=3, out_channels= 1, init_features=32, random_state=0):\n",
    "        super(UNET_multiscale2, self).__init__()\n",
    "        torch.manual_seed(random_state)\n",
    "        features = init_features\n",
    "        self.layer1 =  basic_block(3,features)\n",
    "        self.down1  = nn.Conv2d(features*2,features,2,stride=2)\n",
    "        \n",
    "        self.layer2 = basic_block(features,features) \n",
    "        self.down2  = nn.Conv2d(features*2,features*2,2,stride=2)\n",
    "\n",
    "        self.layer3 = basic_block(features*2,features*2) \n",
    "        self.down3  = nn.Conv2d(features*4,features*4,2,stride=2)\n",
    "\n",
    "        self.layer4 = basic_block(features*4,features*4)\n",
    "        self.down4  = nn.Conv2d(features*8,features*8,2,stride=2)\n",
    "        \n",
    "        self.bottleneck = basic_block(features*8,features*8)\n",
    "        self.bn6     = nn.BatchNorm2d(features*8*2)\n",
    "        self.up1     = nn.ConvTranspose2d(features*16, features*8, 2, stride=2)\n",
    "               \n",
    "        self.layer6  = basic_block(features*16,features*4)      \n",
    "        self.bn7     = nn.BatchNorm2d(features*4*2)\n",
    "        self.up2     = nn.ConvTranspose2d(features*8, features*4, 2, stride=2)\n",
    "\n",
    "        self.layer7  = basic_block(features*8,features*2) \n",
    "        self.bn8     = nn.BatchNorm2d(features*2*2)\n",
    "        self.up3     = nn.ConvTranspose2d(features*4, features*2, 2, stride=2)   \n",
    "        \n",
    "        self.layer8  = basic_block(features*4,features) \n",
    "        self.bn9     = nn.BatchNorm2d(features*2)\n",
    "        self.up4     = nn.ConvTranspose2d(features*2, features*2, 2, stride=2)\n",
    "        \n",
    "        self.layer9  = basic_block(features*4,features)\n",
    "        self.out     = nn.Conv2d(features*2, 1, 1)\n",
    "        \n",
    "    def forward(self, x):\n",
    "        \n",
    "        layer1 = self.layer1(x)\n",
    "        down1  = F.relu(self.down1(layer1))\n",
    "\n",
    "        layer2 = self.layer2(down1) \n",
    "        down2  = F.relu(self.down2(layer2))\n",
    "        \n",
    "        layer3 = self.layer3(down2) \n",
    "        down3  = F.relu(self.down3(layer3))\n",
    "        \n",
    "        layer4 = self.layer4(down3) \n",
    "        down4  = F.relu(self.down4(layer4))\n",
    "\n",
    "        \n",
    "        bottleneck = self.bottleneck(down4)\n",
    "        up1     = F.relu(self.up1(self.bn6(bottleneck), output_size=layer4.size()))\n",
    "\n",
    "        merge1  = torch.cat([up1, layer4], dim=1)      \n",
    "        layer6  = self.layer6(merge1)\n",
    "        up2        = F.relu(self.up2(self.bn7(layer6), output_size=layer3.size()))\n",
    "\n",
    "        merge2     = torch.cat([up2, layer3], dim=1)\n",
    "        layer7     = self.layer7(merge2)\n",
    "        up3        = F.relu(self.up3(self.bn8(layer7), output_size=layer2.size()))\n",
    "\n",
    "        merge3     = torch.cat([up3, layer2], dim=1)\n",
    "        layer8  = self.layer8(merge3)\n",
    "        up4        = F.relu(self.up4(self.bn9(layer8), output_size=layer1.size()))\n",
    "        \n",
    "        merge4     = torch.cat([up4, layer1], dim=1)\n",
    "        layer9  = self.layer9(merge4)                    \n",
    "        out        = torch.sigmoid(self.out(layer9))\n",
    "                        \n",
    "        return out\n",
    "\n"
   ]
  },
  {
   "cell_type": "code",
   "execution_count": 42,
   "metadata": {},
   "outputs": [],
   "source": [
    "import time\n",
    "def warmUp(model, dataloaders, loss_fn, optimizer, acc_fn, random_state=49, epochs=1):\n",
    "    \n",
    "    \n",
    "    torch.manual_seed(random_state)\n",
    "    np.random.seed(random_state)\n",
    "    torch.backends.cudnn.benchmark = False\n",
    "    torch.use_deterministic_algorithms(True)\n",
    "    start = time.time()                                        #Initialize time to calculate time it takes to train model\n",
    "    model.to(device)                                               #Move model to GPU     \n",
    "\n",
    "    counter=0\n",
    "    train_loss, valid_loss = [], []                            #Running training and validation loss\n",
    "    val_epoch, f1_epoch = [0],[0]\n",
    "    loss_list = []\n",
    "    times     = []\n",
    "    \n",
    "    for epoch in range(epochs):\n",
    "        start_epoch = time.time()\n",
    "        print(f'Epoch {epoch}')\n",
    "        print(scheduler.get_last_lr())\n",
    "        \n",
    "    \n",
    "\n",
    "    #########################################Begin Model Training######################################################\n",
    "    ###################################################################################################################\n",
    "        \n",
    "        for phase in ['train', 'valid']:\n",
    "            if phase == 'train':\n",
    "                model.train()                             # Set training mode all the layers including batchnorm and dropout work in this\n",
    "                dataloader = dataloaders['train']         #get the training data\n",
    "            else:\n",
    "                model.eval()                              # Set model to evaluate mode deactivates the batchnorm and dropout layers\n",
    "                dataloader = dataloaders['val']           #get the validation data\n",
    "\n",
    "            running_loss = 0.0                            #running loss to be used for visualization later\n",
    "            step = 0                                      #Batch number\n",
    "            \n",
    "            \n",
    "            \n",
    "            \n",
    "            if phase == 'train':  \n",
    "                f1 = []\n",
    "                for inputs, labels in dataloader:\n",
    "                    x, y = inputs.to(device), labels.to(device)\n",
    "                    step += 1\n",
    "\n",
    "                    optimizer.zero_grad()                                   # zero the gradients\n",
    "                    outputs = model(x)                                      #get model output for a given input\n",
    "\n",
    "                    #################Metrics###################\n",
    "                    f1.append(acc_fn(outputs, y).cpu().detach().numpy())\n",
    "                    ############################################\n",
    "\n",
    "                    ##################Calculate Loss, backprop, and update###############\n",
    "                    loss           = loss_fn(outputs, y)\n",
    "                    train_loss.append(loss.cpu().detach().numpy())\n",
    "                    loss.backward()\n",
    "                    optimizer.step()\n",
    "                    \n",
    "                    print(\"scheduler2_last_lr\",scheduler2.get_last_lr())\n",
    "                    scheduler2.step()\n",
    "                    \n",
    "                    \n",
    "                    print(f'Current step: {step}, AllocMem (Mb): {torch.cuda.memory_allocated()/1024/1024:.3f}, Loss: {loss:.3f},  F1: {np.mean(f1):.3f}', end='\\r') \n",
    "                    ######################################################################\n",
    "        \n",
    "            else:  \n",
    "                loss_val = []\n",
    "                f1=[]\n",
    "                with torch.no_grad():\n",
    "                    for inputs, labels in dataloader:\n",
    "                        x, y = inputs.to(device), labels.to(device)\n",
    "                        optimizer.zero_grad()                                   # zero the gradients\n",
    "                        outputs = model(x)                                      #get model output for a given input\n",
    "\n",
    "                        #################Metrics###################\n",
    "                        f1.append(acc_fn(outputs, y).cpu().detach().numpy())\n",
    "                        ############################################\n",
    "\n",
    "                        ##################Calculate Loss, backprop, and update###############\n",
    "                        valid_loss.append(loss_fn(outputs, y).cpu().detach().numpy())\n",
    "                        loss_val.append(valid_loss[-1])\n",
    "                val_epoch.append(np.mean(loss_val))\n",
    "                f1_epoch.append(np.mean(f1))\n",
    "                print()\n",
    "                print()\n",
    "                print(f' Loss val: {val_epoch[-1]:.3f}, F-Score val:{f1_epoch[-1]:.3f} \\n') \n",
    "                ######################################################################\n",
    "                \n",
    "\n",
    "            print()\n",
    "            time_elapsed = time.time() - start_epoch\n",
    "            times.append(time_elapsed)\n",
    "            print('Training complete in {:.0f}m {:.0f}s'.format(time_elapsed // 60, time_elapsed % 60))    \n",
    "            print('-' * 10)      \n",
    "\n",
    "        scheduler.step()\n",
    "        torch.save(model, save_last+ '\\\\' + f'Epoch_{str(epoch).zfill(3)}'+ '.pth')\n",
    "        epoch+=1\n",
    "    #########################################End Model Training######################################################\n",
    "    ###################################################################################################################\n",
    "    \n",
    "    #Total training time including time to test\n",
    "    time_elapsed = time.time() - start\n",
    "    print('\\n Training complete in {:.0f}m {:.0f}s'.format(time_elapsed // 60, time_elapsed % 60))    \n",
    "    \n",
    "#     torch.save(model, save_last+ '\\\\' + f'Feature32_{str(1000)}_images'+ '.pth')\n",
    "    \n",
    "    return {'Train Loss':train_loss,\n",
    "            'Valid Loss':valid_loss,\n",
    "            'Times'     :times,\n",
    "            'f1_epoch':f1_epoch,\n",
    "            'Epochs': epoch}"
   ]
  },
  {
   "cell_type": "code",
   "execution_count": 43,
   "metadata": {},
   "outputs": [],
   "source": [
    "import time\n",
    "def train_round1(model, dataloaders, loss_fn, optimizer, acc_fn, random_state=49, epochs=1):\n",
    "    \n",
    "    \n",
    "    torch.manual_seed(random_state)\n",
    "    np.random.seed(random_state)\n",
    "    torch.backends.cudnn.benchmark = False\n",
    "    torch.use_deterministic_algorithms(True)\n",
    "    start = time.time()                                        #Initialize time to calculate time it takes to train model\n",
    "    model.to(device)                                               #Move model to GPU     \n",
    "\n",
    "    counter=0\n",
    "    train_loss, valid_loss = [], []                            #Running training and validation loss\n",
    "    val_epoch, f1_epoch = [0],[0]\n",
    "    loss_list = []\n",
    "    times     = []\n",
    "    \n",
    "    for epoch in range(epochs):\n",
    "        start_epoch = time.time()\n",
    "        print(f'Epoch {epoch}')\n",
    "        print(scheduler.get_last_lr())\n",
    "    \n",
    "\n",
    "    #########################################Begin Model Training######################################################\n",
    "    ###################################################################################################################\n",
    "        \n",
    "        for phase in ['train', 'val']:\n",
    "            if phase == 'train':\n",
    "                model.train()                             # Set training mode all the layers including batchnorm and dropout work in this\n",
    "                dataloader = dataloaders['train']         #get the training data\n",
    "            else:\n",
    "                model.eval()                              # Set model to evaluate mode deactivates the batchnorm and dropout layers\n",
    "                dataloader = dataloaders['val']           #get the validation data\n",
    "\n",
    "            running_loss = 0.0                            #running loss to be used for visualization later\n",
    "            step = 0                                      #Batch number\n",
    "            \n",
    "            if phase == 'train':  \n",
    "                f1 = []\n",
    "                AP = []\n",
    "                for inputs, labels in dataloader:\n",
    "                    x, y = inputs.to(device), labels.to(device)\n",
    "                    step += 1\n",
    "\n",
    "                    optimizer.zero_grad()                                   # zero the gradients\n",
    "                    outputs = model(x)                                      #get model output for a given input\n",
    "\n",
    "                    #################Metrics###################\n",
    "                    f1.append(acc_fn(outputs, y).cpu().detach().numpy())\n",
    "                    AP.append(average_precision_score(y.reshape(-1).cpu().detach().numpy(),  outputs.reshape(-1).cpu().detach().numpy()))\n",
    "\n",
    "                    ############################################\n",
    "\n",
    "                    ##################Calculate Loss, backprop, and update###############\n",
    "                    loss           = loss_fn(outputs, y)\n",
    "                    train_loss.append(loss.cpu().detach().numpy())\n",
    "                    loss.backward()\n",
    "                    optimizer.step()\n",
    "                    print(f'Current step: {step}, AllocMem (Mb): {torch.cuda.memory_allocated()/1024/1024:.3f}, Loss: {loss:.3f},  F1: {np.mean(f1):.3f},  AP: {np.mean(AP):.3f}', end='\\r') \n",
    "                    ######################################################################\n",
    "        \n",
    "            else:  \n",
    "                loss_val = []\n",
    "                f1=[]\n",
    "                AP = []\n",
    "                with torch.no_grad():\n",
    "                    for inputs, labels in dataloader:\n",
    "                        x, y = inputs.to(device), labels.to(device)\n",
    "                        optimizer.zero_grad()                                   # zero the gradients\n",
    "                        outputs = model(x)                                      #get model output for a given input\n",
    "\n",
    "                        #################Metrics###################\n",
    "                        f1.append(acc_fn(outputs, y).cpu().detach().numpy())\n",
    "                        AP.append(average_precision_score(y.reshape(-1).cpu().detach().numpy(),  outputs.reshape(-1).cpu().detach().numpy()))\n",
    "\n",
    "                    ############################################\n",
    "\n",
    "                        ##################Calculate Loss, backprop, and update###############\n",
    "                        valid_loss.append(loss_fn(outputs, y).cpu().detach().numpy())\n",
    "                        loss_val.append(valid_loss[-1])\n",
    "                val_epoch.append(np.mean(loss_val))\n",
    "                f1_epoch.append(np.mean(f1))\n",
    "                print()\n",
    "                print()\n",
    "                print(f' Loss val: {val_epoch[-1]:.3f}, F-Score val:{f1_epoch[-1]:.3f}, AP val:{AP[-1]:.3f} \\n') \n",
    "                ######################################################################\n",
    "                \n",
    "\n",
    "            print()\n",
    "            time_elapsed = time.time() - start_epoch\n",
    "            times.append(time_elapsed)\n",
    "            print('Training complete in {:.0f}m {:.0f}s'.format(time_elapsed // 60, time_elapsed % 60))    \n",
    "            print('-' * 10)      \n",
    "\n",
    "        scheduler.step()\n",
    "        torch.save(model, save_last+ '\\\\' + f'Epoch_{str(epoch).zfill(3)}'+ '.pth')\n",
    "        epoch+=1\n",
    "    #########################################End Model Training######################################################\n",
    "    ###################################################################################################################\n",
    "    \n",
    "    #Total training time including time to test\n",
    "    time_elapsed = time.time() - start\n",
    "    print('\\n Training complete in {:.0f}m {:.0f}s'.format(time_elapsed // 60, time_elapsed % 60))    \n",
    "    \n",
    "#     torch.save(model, save_last+ '\\\\' + f'Feature32_{str(1000)}_images'+ '.pth')\n",
    "    \n",
    "    return {'Train Loss':train_loss,\n",
    "            'Valid Loss':valid_loss,\n",
    "            'Times'     :times,\n",
    "            'f1_epoch':f1_epoch,\n",
    "            'Epochs': epoch}"
   ]
  },
  {
   "cell_type": "markdown",
   "metadata": {},
   "source": [
    "## Round1(Train Using Labeled Data Only)"
   ]
  },
  {
   "cell_type": "code",
   "execution_count": 44,
   "metadata": {},
   "outputs": [
    {
     "name": "stdout",
     "output_type": "stream",
     "text": [
      "(9108, 128, 128, 3)\n"
     ]
    }
   ],
   "source": [
    "X_train_labeled = X#[:1000]\n",
    "Y_train_labeled = Y#[:1000]\n",
    "\n",
    "print(X_train_labeled.shape)"
   ]
  },
  {
   "cell_type": "code",
   "execution_count": 45,
   "metadata": {},
   "outputs": [
    {
     "name": "stdout",
     "output_type": "stream",
     "text": [
      "Training:9108, Validation:1013\n",
      "Testing: 4053\n"
     ]
    }
   ],
   "source": [
    "trans = A.Compose([\n",
    "#    A.VerticalFlip(),\n",
    "#    A.HorizontalFlip(),    \n",
    "    ToTensorV2()])\n",
    "trans_test = A.Compose([\n",
    "                ToTensorV2()])\n",
    "\n",
    "batch_size = 32\n",
    "dataloaders = data(trans, trans_test, X_train_labeled, Y_train_labeled, X_val, Y_val, X_test, Y_test, batch_size=batch_size)"
   ]
  },
  {
   "cell_type": "raw",
   "metadata": {},
   "source": [
    "# df = pd.DataFrame(history['f1_epoch'])\n",
    "                  \n",
    "df.to_csv(\"history_feature32_19_7.csv\")"
   ]
  },
  {
   "cell_type": "code",
   "execution_count": 46,
   "metadata": {},
   "outputs": [],
   "source": [
    "# with open(r'{}historyFeature32_trainLoss.txt'.format(save_last), 'w') as f:\n",
    "#     print(history['Valid Loss'], file=f)"
   ]
  },
  {
   "cell_type": "code",
   "execution_count": 47,
   "metadata": {},
   "outputs": [],
   "source": [
    "def test(model, dataloaders, loss_fn, acc_fn, random_state=49, epochs=1):\n",
    "    \n",
    "    \n",
    "    torch.manual_seed(random_state)\n",
    "    np.random.seed(random_state)\n",
    "    torch.backends.cudnn.benchmark = False\n",
    "    torch.use_deterministic_algorithms(True)\n",
    "    start = time.time()                                        #Initialize time to calculate time it takes to train model\n",
    "    model.to(device)                                               #Move model to GPU     \n",
    "\n",
    "    model.eval()\n",
    "    \n",
    "    counter=0\n",
    "    #train_loss,\n",
    "    test_loss = []                         #Running training and validation loss\n",
    "    loss_epoch, f1_epoch = [0],[0]\n",
    "    AP_epoch =[0]\n",
    "    loss_list = []\n",
    "    times     = []\n",
    "    \n",
    "    for epoch in range(epochs):\n",
    "        start_epoch = time.time()\n",
    "        print(f'Epoch {epoch}')\n",
    "        #print(scheduler.get_last_lr())\n",
    "    \n",
    "\n",
    " ################ MODEL TESTING  #############################\n",
    "\n",
    "        dataloader = dataloaders['test']         #get the training data\n",
    "\n",
    "        step = 0\n",
    "        loss_test = []\n",
    "        f1=[]\n",
    "        AP = []\n",
    "        with torch.no_grad():\n",
    "            for inputs, labels in dataloader:\n",
    "                x, y = inputs.to(device), labels.to(device)\n",
    "#                 print(y.shape)\n",
    "                #optimizer.zero_grad()                                   # zero the gradients\n",
    "                outputs= model(x)                                      #get model output for a given input\n",
    "                \n",
    "#                 print(outputs.shape)\n",
    "                #################Metrics###################\n",
    "                f1.append(acc_fn(outputs, y).cpu().detach().numpy())\n",
    "                AP.append(average_precision_score(y.reshape(-1).cpu().detach().numpy(),  outputs.reshape(-1).cpu().detach().numpy()))\n",
    "                loss_test.append(loss_fn(outputs, y).cpu().detach().numpy())\n",
    "            ############################################\n",
    "                print(f'Current step: {step}, AllocMem (Mb): {torch.cuda.memory_allocated()/1024/1024:.3f},  F1: {np.mean(f1):.3f},  AP: {np.mean(AP):.3f}') \n",
    "\n",
    "                step+=1\n",
    "                ##################Calculate Loss, backprop, and update###############\n",
    "               \n",
    "                test_loss.append(loss_test[-1])\n",
    "        loss_epoch.append(np.mean(loss_test))\n",
    "        f1_epoch.append(np.mean(f1))\n",
    "        AP_epoch.append(np.mean(AP))\n",
    "        print()\n",
    "        print()\n",
    "        print(f' Loss test: {loss_epoch[-1]:.3f}, F-Score test:{f1_epoch[-1]:.3f}, AP val:{AP_epoch[-1]:.3f} \\n') \n",
    "        ######################################################################\n",
    "                \n",
    "\n",
    "            \n",
    "\n",
    "        #scheduler.step()\n",
    "#         torch.save(model, save_last+ '\\\\' + f'Epcoh_{str(epoch).zfill(3)}'+ '.pth')\n",
    "        epoch+=1\n",
    "    #########################################End Model Training######################################################\n",
    "    ###################################################################################################################\n",
    "    \n",
    "    #Total training time including time to test\n",
    "    time_elapsed = time.time() - start\n",
    "    print('\\n Training complete in {:.0f}m {:.0f}s'.format(time_elapsed // 60, time_elapsed % 60))    \n",
    "    \n",
    "#     torch.save(model, save_last+ '\\\\' + f'Feature32_{str(1000)}_images'+ '.pth')\n",
    "    \n",
    "    return {\n",
    "            'f1_epoch':f1_epoch,\n",
    "            'Epochs': epoch}"
   ]
  },
  {
   "cell_type": "code",
   "execution_count": 48,
   "metadata": {},
   "outputs": [
    {
     "name": "stdout",
     "output_type": "stream",
     "text": [
      "Training:9108, Validation:1013\n",
      "Testing: 4053\n"
     ]
    }
   ],
   "source": [
    "batch_size = 32\n",
    "dataloaders = data(trans, trans_test, X_train_labeled, Y_train_labeled, X_val, Y_val, X_test, Y_test, batch_size=batch_size)"
   ]
  },
  {
   "cell_type": "code",
   "execution_count": 49,
   "metadata": {},
   "outputs": [
    {
     "name": "stdout",
     "output_type": "stream",
     "text": [
      "Epoch 0\n",
      "[3.125e-05]\n",
      "scheduler2_last_lr [3.125e-05]\n",
      "scheduler2_last_lr [3.1632841685408793e-05]ss: 2.471,  F1: 0.035\n",
      "scheduler2_last_lr [3.202037353901236e-05]oss: 2.452,  F1: 0.037\n",
      "scheduler2_last_lr [3.2412653019751386e-05]ss: 2.473,  F1: 0.036\n",
      "scheduler2_last_lr [3.280973829049225e-05]oss: 2.463,  F1: 0.037\n",
      "scheduler2_last_lr [3.321168822665076e-05]oss: 2.451,  F1: 0.039\n",
      "scheduler2_last_lr [3.361856242492156e-05]oss: 2.421,  F1: 0.042\n",
      "scheduler2_last_lr [3.403042121211445e-05]oss: 2.454,  F1: 0.042\n",
      "scheduler2_last_lr [3.4447325654098994e-05]ss: 2.435,  F1: 0.043\n",
      "scheduler2_last_lr [3.48693375648587e-05]Loss: 2.436,  F1: 0.043\n",
      "scheduler2_last_lr [3.52965195156561e-05] Loss: 2.456,  F1: 0.044\n",
      "scheduler2_last_lr [3.5728934844310125e-05]oss: 2.440,  F1: 0.044\n",
      "scheduler2_last_lr [3.616664766458714e-05]Loss: 2.435,  F1: 0.045\n",
      "scheduler2_last_lr [3.6609722875707035e-05]oss: 2.404,  F1: 0.047\n",
      "scheduler2_last_lr [3.705822617196574e-05]Loss: 2.395,  F1: 0.048\n",
      "scheduler2_last_lr [3.7512224052475685e-05]oss: 2.435,  F1: 0.049\n",
      "scheduler2_last_lr [3.797178383102551e-05]Loss: 2.417,  F1: 0.050\n",
      "scheduler2_last_lr [3.843697364606065e-05]Loss: 2.437,  F1: 0.050\n",
      "scheduler2_last_lr [3.8907862470786126e-05]oss: 2.440,  F1: 0.051\n",
      "scheduler2_last_lr [3.938452012339315e-05]Loss: 2.412,  F1: 0.052\n",
      "scheduler2_last_lr [3.986701727741095e-05]Loss: 2.423,  F1: 0.052\n",
      "scheduler2_last_lr [4.035542547218553e-05]Loss: 2.415,  F1: 0.053\n",
      "scheduler2_last_lr [4.0849817123486666e-05]oss: 2.395,  F1: 0.054\n",
      "scheduler2_last_lr [4.135026553424496e-05]Loss: 2.388,  F1: 0.055\n",
      "scheduler2_last_lr [4.185684490542037e-05]Loss: 2.436,  F1: 0.055\n",
      "scheduler2_last_lr [4.236963034700391e-05]Loss: 2.422,  F1: 0.056\n",
      "scheduler2_last_lr [4.2888697889154134e-05]oss: 2.403,  F1: 0.056\n",
      "scheduler2_last_lr [4.341412449347005e-05]Loss: 2.391,  F1: 0.057\n",
      "scheduler2_last_lr [4.394598806440213e-05]Loss: 2.399,  F1: 0.058\n",
      "scheduler2_last_lr [4.44843674608031e-05] Loss: 2.401,  F1: 0.058\n",
      "scheduler2_last_lr [4.5029342507620314e-05]oss: 2.405,  F1: 0.059\n",
      "scheduler2_last_lr [4.558099400773126e-05]Loss: 2.413,  F1: 0.059\n",
      "scheduler2_last_lr [4.613940375392416e-05]Loss: 2.422,  F1: 0.059\n",
      "scheduler2_last_lr [4.6704654541025254e-05]oss: 2.405,  F1: 0.059\n",
      "scheduler2_last_lr [4.7276830178174746e-05]oss: 2.377,  F1: 0.060\n",
      "scheduler2_last_lr [4.7856015501253076e-05]oss: 2.389,  F1: 0.061\n",
      "scheduler2_last_lr [4.844229638545945e-05]Loss: 2.370,  F1: 0.062\n",
      "scheduler2_last_lr [4.903575975804446e-05]Loss: 2.394,  F1: 0.062\n",
      "scheduler2_last_lr [4.963649361119872e-05]Loss: 2.357,  F1: 0.063\n",
      "scheduler2_last_lr [5.024458701509933e-05]Loss: 2.408,  F1: 0.063\n",
      "scheduler2_last_lr [5.0860130131116275e-05]oss: 2.374,  F1: 0.064\n",
      "scheduler2_last_lr [5.1483214225180504e-05]oss: 2.384,  F1: 0.064\n",
      "scheduler2_last_lr [5.2113931681315865e-05]oss: 2.378,  F1: 0.065\n",
      "scheduler2_last_lr [5.2752376015336786e-05]oss: 2.386,  F1: 0.065\n",
      "scheduler2_last_lr [5.3398641888713744e-05]oss: 2.377,  F1: 0.065\n",
      "scheduler2_last_lr [5.405282512260865e-05]Loss: 2.393,  F1: 0.066\n",
      "scheduler2_last_lr [5.4715022712082134e-05]oss: 2.388,  F1: 0.066\n",
      "scheduler2_last_lr [5.53853328404749e-05] Loss: 2.371,  F1: 0.067\n",
      "scheduler2_last_lr [5.6063854893965286e-05]oss: 2.371,  F1: 0.067\n",
      "scheduler2_last_lr [5.675068947630512e-05]Loss: 2.373,  F1: 0.067\n",
      "scheduler2_last_lr [5.7445938423736156e-05]oss: 2.353,  F1: 0.068\n",
      "scheduler2_last_lr [5.814970482008921e-05]Loss: 2.352,  F1: 0.069\n",
      "scheduler2_last_lr [5.886209301206831e-05]Loss: 2.353,  F1: 0.069\n",
      "scheduler2_last_lr [5.958320862472205e-05]Loss: 2.360,  F1: 0.069\n",
      "scheduler2_last_lr [6.031315857710453e-05]Loss: 2.311,  F1: 0.070\n",
      "scheduler2_last_lr [6.10520510981281e-05] Loss: 2.337,  F1: 0.071\n",
      "scheduler2_last_lr [6.179999574261038e-05]Loss: 2.361,  F1: 0.072\n",
      "scheduler2_last_lr [6.255710340751781e-05]Loss: 2.362,  F1: 0.072\n",
      "scheduler2_last_lr [6.332348634840825e-05]Loss: 2.376,  F1: 0.073\n",
      "scheduler2_last_lr [6.409925819607498e-05]Loss: 2.330,  F1: 0.073\n",
      "scheduler2_last_lr [6.488453397339462e-05]Loss: 2.346,  F1: 0.074\n",
      "scheduler2_last_lr [6.567943011238145e-05]Loss: 2.319,  F1: 0.074\n",
      "scheduler2_last_lr [6.648406447145068e-05]Loss: 2.363,  F1: 0.074\n",
      "scheduler2_last_lr [6.729855635289314e-05]Loss: 2.338,  F1: 0.075\n",
      "scheduler2_last_lr [6.812302652056419e-05]Loss: 2.329,  F1: 0.075\n",
      "scheduler2_last_lr [6.895759721778918e-05]Loss: 2.292,  F1: 0.076\n",
      "scheduler2_last_lr [6.980239218548836e-05]Loss: 2.314,  F1: 0.077\n",
      "scheduler2_last_lr [7.065753668052382e-05]Loss: 2.305,  F1: 0.078\n",
      "scheduler2_last_lr [7.152315749427119e-05]Loss: 2.318,  F1: 0.079\n",
      "scheduler2_last_lr [7.239938297141888e-05]Loss: 2.315,  F1: 0.079\n",
      "scheduler2_last_lr [7.32863430289976e-05] Loss: 2.310,  F1: 0.080\n",
      "scheduler2_last_lr [7.418416917564298e-05]Loss: 2.312,  F1: 0.080\n",
      "scheduler2_last_lr [7.509299453109432e-05]Loss: 2.307,  F1: 0.081\n",
      "scheduler2_last_lr [7.601295384593201e-05]Loss: 2.323,  F1: 0.081\n",
      "scheduler2_last_lr [7.694418352155689e-05]Loss: 2.263,  F1: 0.082\n",
      "scheduler2_last_lr [7.788682163041437e-05]Loss: 2.275,  F1: 0.083\n",
      "scheduler2_last_lr [7.884100793646628e-05]Loss: 2.266,  F1: 0.084\n",
      "scheduler2_last_lr [7.980688391591347e-05]Loss: 2.293,  F1: 0.084\n",
      "scheduler2_last_lr [8.078459277817243e-05]Loss: 2.249,  F1: 0.085\n",
      "scheduler2_last_lr [8.17742794871087e-05] Loss: 2.245,  F1: 0.087\n",
      "scheduler2_last_lr [8.27760907825306e-05] Loss: 2.260,  F1: 0.087\n",
      "scheduler2_last_lr [8.379017520194614e-05]Loss: 2.264,  F1: 0.088\n",
      "scheduler2_last_lr [8.48166831025865e-05] Loss: 2.265,  F1: 0.089\n",
      "scheduler2_last_lr [8.585576668369938e-05]Loss: 2.257,  F1: 0.090\n",
      "scheduler2_last_lr [8.690758000911543e-05]Loss: 2.225,  F1: 0.091\n",
      "scheduler2_last_lr [8.797227903009108e-05]Loss: 2.220,  F1: 0.093\n",
      "scheduler2_last_lr [8.905002160843134e-05]Loss: 2.233,  F1: 0.093\n",
      "scheduler2_last_lr [9.01409675398957e-05] Loss: 2.204,  F1: 0.094\n",
      "scheduler2_last_lr [9.124527857789099e-05]Loss: 2.208,  F1: 0.095\n",
      "scheduler2_last_lr [9.236311845745435e-05]Loss: 2.249,  F1: 0.096\n",
      "scheduler2_last_lr [9.349465291952999e-05]Loss: 2.180,  F1: 0.098\n",
      "scheduler2_last_lr [9.464004973554353e-05]Loss: 2.223,  F1: 0.099\n",
      "scheduler2_last_lr [9.57994787322772e-05] Loss: 2.203,  F1: 0.099\n",
      "scheduler2_last_lr [9.697311181704997e-05]Loss: 2.214,  F1: 0.100\n",
      "scheduler2_last_lr [9.816112300320597e-05]Loss: 2.190,  F1: 0.102\n",
      "scheduler2_last_lr [9.936368843591532e-05]Loss: 2.153,  F1: 0.103\n",
      "scheduler2_last_lr [0.000100580986418291] Loss: 2.222,  F1: 0.104\n",
      "scheduler2_last_lr [0.00010181319743782565]oss: 2.156,  F1: 0.105\n",
      "scheduler2_last_lr [0.00010306050419315223]oss: 2.167,  F1: 0.106\n",
      "scheduler2_last_lr [0.0001043230916211326]Loss: 2.180,  F1: 0.107\n",
      "scheduler2_last_lr [0.00010560114692427789]Loss: 2.177,  F1: 0.108\n",
      "scheduler2_last_lr [0.00010689485959850484]Loss: 2.169,  F1: 0.109\n",
      "scheduler2_last_lr [0.00010820442146123213]Loss: 2.149,  F1: 0.110\n",
      "scheduler2_last_lr [0.00010953002667982098]Loss: 2.173,  F1: 0.111\n",
      "scheduler2_last_lr [0.00011087187180036411]Loss: 2.175,  F1: 0.112\n",
      "scheduler2_last_lr [0.00011223015577682743]Loss: 2.184,  F1: 0.112\n",
      "scheduler2_last_lr [0.00011360508000054878]Loss: 2.140,  F1: 0.113\n",
      "scheduler2_last_lr [0.00011499684833009794]Loss: 2.140,  F1: 0.114\n",
      "scheduler2_last_lr [0.00011640566712150255]Loss: 2.140,  F1: 0.115\n",
      "scheduler2_last_lr [0.00011783174525884435]Loss: 2.126,  F1: 0.117\n",
      "scheduler2_last_lr [0.00011927529418523013]Loss: 2.147,  F1: 0.118\n",
      "scheduler2_last_lr [0.00012073652793414223]Loss: 2.131,  F1: 0.118\n",
      "scheduler2_last_lr [0.00012221566316117304]Loss: 2.161,  F1: 0.119\n",
      "scheduler2_last_lr [0.0001237129191761483] Loss: 2.143,  F1: 0.120\n",
      "scheduler2_last_lr [0.00012522851797564395]Loss: 2.117,  F1: 0.121\n",
      "scheduler2_last_lr [0.00012676268427590126]Loss: 2.094,  F1: 0.122\n",
      "scheduler2_last_lr [0.0001283156455461454] Loss: 2.115,  F1: 0.123\n",
      "scheduler2_last_lr [0.0001298876320423119] Loss: 2.113,  F1: 0.124\n",
      "scheduler2_last_lr [0.00013147887684118666]Loss: 2.150,  F1: 0.125\n",
      "scheduler2_last_lr [0.0001330896158749638] Loss: 2.140,  F1: 0.126\n",
      "scheduler2_last_lr [0.00013472008796622717]Loss: 2.123,  F1: 0.126\n",
      "scheduler2_last_lr [0.00013637053486336033]Loss: 2.086,  F1: 0.127\n",
      "scheduler2_last_lr [0.00013804120127639035]Loss: 2.099,  F1: 0.128\n",
      "scheduler2_last_lr [0.0001397323349132706] Loss: 2.089,  F1: 0.129\n",
      "scheduler2_last_lr [0.00014144418651660827]Loss: 2.093,  F1: 0.130\n",
      "scheduler2_last_lr [0.00014317700990084168]Loss: 2.110,  F1: 0.131\n",
      "scheduler2_last_lr [0.00014493106198987303]Loss: 2.078,  F1: 0.131\n",
      "scheduler2_last_lr [0.0001467066028551623] Loss: 2.043,  F1: 0.133\n",
      "scheduler2_last_lr [0.00014850389575428772]Loss: 2.092,  F1: 0.133\n",
      "scheduler2_last_lr [0.0001503232071699787] Loss: 2.102,  F1: 0.134\n",
      "scheduler2_last_lr [0.00015216480684962703]Loss: 2.061,  F1: 0.135\n",
      "scheduler2_last_lr [0.0001540289678452819] Loss: 2.113,  F1: 0.136\n",
      "scheduler2_last_lr [0.00015591596655413516]Loss: 2.040,  F1: 0.137\n",
      "scheduler2_last_lr [0.0001578260827595024] Loss: 2.061,  F1: 0.138\n",
      "scheduler2_last_lr [0.0001597595996723061] Loss: 2.061,  F1: 0.139\n",
      "scheduler2_last_lr [0.00016171680397306706]Loss: 2.075,  F1: 0.140\n",
      "scheduler2_last_lr [0.00016369798585441018]Loss: 2.044,  F1: 0.141\n",
      "scheduler2_last_lr [0.00016570343906409106]Loss: 2.034,  F1: 0.142\n",
      "scheduler2_last_lr [0.0001677334609485496] Loss: 2.096,  F1: 0.143\n",
      "scheduler2_last_lr [0.0001697883524969974] Loss: 2.053,  F1: 0.143\n",
      "scheduler2_last_lr [0.00017186841838604485]Loss: 2.023,  F1: 0.144\n",
      "scheduler2_last_lr [0.00017397396702487547]Loss: 2.054,  F1: 0.145\n",
      "scheduler2_last_lr [0.0001761053106009733] Loss: 2.029,  F1: 0.146\n",
      "scheduler2_last_lr [0.0001782627651264106] Loss: 2.004,  F1: 0.147\n",
      "scheduler2_last_lr [0.00018044665048470266]Loss: 2.020,  F1: 0.148\n",
      "scheduler2_last_lr [0.00018265729047823657]Loss: 2.008,  F1: 0.149\n",
      "scheduler2_last_lr [0.0001848950128762811] Loss: 2.050,  F1: 0.150\n",
      "scheduler2_last_lr [0.00018716014946358465]Loss: 2.033,  F1: 0.151\n",
      "scheduler2_last_lr [0.00018945303608956866]Loss: 2.042,  F1: 0.152\n",
      "scheduler2_last_lr [0.00019177401271812364]Loss: 1.995,  F1: 0.153\n",
      "scheduler2_last_lr [0.00019412342347801528]Loss: 2.043,  F1: 0.153\n",
      "scheduler2_last_lr [0.00019650161671390802]Loss: 1.998,  F1: 0.154\n",
      "scheduler2_last_lr [0.0001989089450380138] Loss: 1.993,  F1: 0.155\n",
      "scheduler2_last_lr [0.00020134576538237344]Loss: 1.959,  F1: 0.156\n",
      "scheduler2_last_lr [0.0002038124390517786] Loss: 2.066,  F1: 0.156\n",
      "scheduler2_last_lr [0.00020630933177734212]Loss: 2.028,  F1: 0.157\n",
      "scheduler2_last_lr [0.0002088368137707245] Loss: 2.004,  F1: 0.158\n",
      "scheduler2_last_lr [0.00021139525977902486]Loss: 1.986,  F1: 0.159\n",
      "scheduler2_last_lr [0.00021398504914034428]Loss: 1.966,  F1: 0.160\n",
      "scheduler2_last_lr [0.00021660656584002983]Loss: 1.973,  F1: 0.161\n",
      "scheduler2_last_lr [0.00021926019856760768]Loss: 1.972,  F1: 0.162\n",
      "scheduler2_last_lr [0.00022194634077441375]Loss: 1.966,  F1: 0.162\n",
      "scheduler2_last_lr [0.00022466539073193027]Loss: 1.949,  F1: 0.163\n",
      "scheduler2_last_lr [0.00022741775159083706]Loss: 1.946,  F1: 0.164\n",
      "scheduler2_last_lr [0.00023020383144078631]Loss: 1.978,  F1: 0.165\n",
      "scheduler2_last_lr [0.0002330240433709096] Loss: 1.994,  F1: 0.166\n",
      "scheduler2_last_lr [0.0002358788055310661] Loss: 1.941,  F1: 0.167\n",
      "scheduler2_last_lr [0.00023876854119384136]Loss: 1.967,  F1: 0.168\n",
      "scheduler2_last_lr [0.00024169367881730534]Loss: 1.910,  F1: 0.169\n",
      "scheduler2_last_lr [0.00024465465210853955]Loss: 1.969,  F1: 0.170\n",
      "scheduler2_last_lr [0.00024765190008794227]Loss: 1.870,  F1: 0.171\n",
      "scheduler2_last_lr [0.0002506858671543217] Loss: 1.928,  F1: 0.172\n",
      "scheduler2_last_lr [0.0002537570031507865] Loss: 1.947,  F1: 0.173\n",
      "scheduler2_last_lr [0.0002568657634314435] Loss: 1.931,  F1: 0.173\n",
      "scheduler2_last_lr [0.0002600126089289126] Loss: 1.989,  F1: 0.174\n",
      "scheduler2_last_lr [0.00026319800622266883]Loss: 1.951,  F1: 0.175\n",
      "scheduler2_last_lr [0.0002664224276082215] Loss: 1.971,  F1: 0.175\n",
      "scheduler2_last_lr [0.000269686351167141], Loss: 1.887,  F1: 0.176\n",
      "scheduler2_last_lr [0.00027299026083794345]Loss: 1.907,  F1: 0.177\n",
      "scheduler2_last_lr [0.00027633464648784377]Loss: 1.951,  F1: 0.178\n",
      "scheduler2_last_lr [0.00027972000398538777]Loss: 1.903,  F1: 0.179\n",
      "scheduler2_last_lr [0.000283146835273974], Loss: 1.990,  F1: 0.180\n",
      "scheduler2_last_lr [0.0002866156484462766] Loss: 1.920,  F1: 0.180\n",
      "scheduler2_last_lr [0.0002901269578195792] Loss: 1.881,  F1: 0.181\n",
      "scheduler2_last_lr [0.00029368128401203276]Loss: 1.929,  F1: 0.182\n",
      "scheduler2_last_lr [0.0002972791540198467] Loss: 1.883,  F1: 0.183\n",
      "scheduler2_last_lr [0.00030092110129542615]Loss: 1.942,  F1: 0.183\n",
      "scheduler2_last_lr [0.00030460766582646653]Loss: 1.900,  F1: 0.184\n",
      "scheduler2_last_lr [0.0003083393942160167] Loss: 1.933,  F1: 0.185\n",
      "scheduler2_last_lr [0.00031211683976352345]Loss: 1.903,  F1: 0.186\n",
      "scheduler2_last_lr [0.00031594056254686853]Loss: 1.833,  F1: 0.187\n",
      "scheduler2_last_lr [0.00031981112950541077]Loss: 1.913,  F1: 0.187\n",
      "scheduler2_last_lr [0.0003237291145240457] Loss: 1.900,  F1: 0.188\n",
      "scheduler2_last_lr [0.00032769509851829473]Loss: 1.901,  F1: 0.188\n",
      "scheduler2_last_lr [0.00033170966952043694]Loss: 1.873,  F1: 0.189\n",
      "scheduler2_last_lr [0.0003357734227666961] Loss: 2.003,  F1: 0.189\n",
      "scheduler2_last_lr [0.0003398869607854955] Loss: 1.884,  F1: 0.190\n",
      "scheduler2_last_lr [0.00034405089348679447]Loss: 1.847,  F1: 0.191\n",
      "scheduler2_last_lr [0.00034826583825251883]Loss: 1.854,  F1: 0.192\n",
      "scheduler2_last_lr [0.00035253242002809967]Loss: 1.833,  F1: 0.192\n",
      "scheduler2_last_lr [0.0003568512714151332] Loss: 1.841,  F1: 0.193\n",
      "scheduler2_last_lr [0.0003612230327651761] Loss: 1.829,  F1: 0.194\n",
      "scheduler2_last_lr [0.00036564835227468956]Loss: 1.832,  F1: 0.195\n",
      "scheduler2_last_lr [0.00037012788608114687]Loss: 1.841,  F1: 0.196\n",
      "scheduler2_last_lr [0.00037466229836031806]Loss: 1.861,  F1: 0.196\n",
      "scheduler2_last_lr [0.00037925226142474677]Loss: 1.851,  F1: 0.197\n",
      "scheduler2_last_lr [0.00038389845582343307]Loss: 1.795,  F1: 0.198\n",
      "scheduler2_last_lr [0.00038860157044273794]Loss: 1.838,  F1: 0.198\n",
      "scheduler2_last_lr [0.0003933623026085236] Loss: 1.845,  F1: 0.199\n",
      "scheduler2_last_lr [0.0003981813581895454] Loss: 1.914,  F1: 0.199\n",
      "scheduler2_last_lr [0.00040305945170211017]Loss: 1.917,  F1: 0.200\n",
      "scheduler2_last_lr [0.00040799730641601675]Loss: 1.822,  F1: 0.200\n",
      "scheduler2_last_lr [0.00041299565446179453]Loss: 1.801,  F1: 0.201\n",
      "scheduler2_last_lr [0.00041805523693925567]Loss: 1.781,  F1: 0.202\n",
      "scheduler2_last_lr [0.00042317680402737716]Loss: 1.775,  F1: 0.203\n",
      "scheduler2_last_lr [0.0004283611150955291] Loss: 1.789,  F1: 0.204\n",
      "scheduler2_last_lr [0.0004336089388160655] Loss: 1.822,  F1: 0.205\n",
      "scheduler2_last_lr [0.0004389210532782947] Loss: 1.791,  F1: 0.205\n",
      "scheduler2_last_lr [0.00044429824610384556]Loss: 1.773,  F1: 0.206\n",
      "scheduler2_last_lr [0.0004497413145634477] Loss: 1.711,  F1: 0.207\n",
      "scheduler2_last_lr [0.00045525106569514165]Loss: 1.771,  F1: 0.208\n",
      "scheduler2_last_lr [0.0004608283164239377] Loss: 1.791,  F1: 0.208\n",
      "scheduler2_last_lr [0.0004664738936829405] Loss: 1.739,  F1: 0.209\n",
      "scheduler2_last_lr [0.00047218863453595743]Loss: 1.740,  F1: 0.210\n",
      "scheduler2_last_lr [0.0004779733863016094] Loss: 1.700,  F1: 0.211\n",
      "scheduler2_last_lr [0.0004838290066789616] Loss: 1.759,  F1: 0.212\n",
      "scheduler2_last_lr [0.000489756363874694], Loss: 1.750,  F1: 0.213\n",
      "scheduler2_last_lr [0.000495756336731829], Loss: 1.709,  F1: 0.214\n",
      "scheduler2_last_lr [0.0005018298148600372] Loss: 1.770,  F1: 0.215\n",
      "scheduler2_last_lr [0.0005079776987675379] Loss: 1.692,  F1: 0.216\n",
      "scheduler2_last_lr [0.0005142008999946177] Loss: 1.745,  F1: 0.216\n",
      "scheduler2_last_lr [0.0005205003412487827] Loss: 1.801,  F1: 0.217\n",
      "scheduler2_last_lr [0.0005268769565415679] Loss: 1.619,  F1: 0.218\n",
      "scheduler2_last_lr [0.0005333316913270216] Loss: 1.750,  F1: 0.219\n",
      "scheduler2_last_lr [0.0005398655026418876] Loss: 1.768,  F1: 0.219\n",
      "scheduler2_last_lr [0.0005464793592475032] Loss: 1.668,  F1: 0.220\n",
      "scheduler2_last_lr [0.000553174241773437], Loss: 1.762,  F1: 0.220\n",
      "scheduler2_last_lr [0.0005599511428628858] Loss: 1.629,  F1: 0.221\n",
      "scheduler2_last_lr [0.0005668110673198525] Loss: 1.704,  F1: 0.222\n",
      "scheduler2_last_lr [0.0005737550322581273] Loss: 1.760,  F1: 0.222\n",
      "scheduler2_last_lr [0.0005807840672520946] Loss: 1.703,  F1: 0.223\n",
      "scheduler2_last_lr [0.0005878992144893863] Loss: 1.637,  F1: 0.224\n",
      "scheduler2_last_lr [0.0005951015289254063] Loss: 1.759,  F1: 0.225\n",
      "scheduler2_last_lr [0.0006023920784397472] Loss: 1.623,  F1: 0.226\n",
      "scheduler2_last_lr [0.0006097719439945241] Loss: 1.634,  F1: 0.226\n",
      "scheduler2_last_lr [0.0006172422197946476] Loss: 1.654,  F1: 0.227\n",
      "scheduler2_last_lr [0.0006248040134500604] Loss: 1.700,  F1: 0.228\n",
      "scheduler2_last_lr [0.0006324584461399612] Loss: 1.680,  F1: 0.228\n",
      "scheduler2_last_lr [0.0006402066527790412] Loss: 1.600,  F1: 0.229\n",
      "scheduler2_last_lr [0.0006480497821857564] Loss: 1.649,  F1: 0.230\n",
      "scheduler2_last_lr [0.0006559889972526619] Loss: 1.648,  F1: 0.231\n",
      "scheduler2_last_lr [0.0006640254751188326] Loss: 1.740,  F1: 0.231\n",
      "scheduler2_last_lr [0.0006721604073443964] Loss: 1.715,  F1: 0.232\n",
      "scheduler2_last_lr [0.0006803950000872056] Loss: 1.646,  F1: 0.232\n",
      "scheduler2_last_lr [0.0006887304742816729] Loss: 1.633,  F1: 0.233\n",
      "scheduler2_last_lr [0.0006971680658197975] Loss: 1.573,  F1: 0.234\n",
      "scheduler2_last_lr [0.0007057090257344099] Loss: 1.790,  F1: 0.234\n",
      "scheduler2_last_lr [0.0007143546203846614] Loss: 1.559,  F1: 0.235\n",
      "scheduler2_last_lr [0.0007231061316437853] Loss: 1.563,  F1: 0.236\n",
      "scheduler2_last_lr [0.0007319648570891594] Loss: 1.633,  F1: 0.236\n",
      "scheduler2_last_lr [0.0007409321101946961] Loss: 1.566,  F1: 0.237\n",
      "scheduler2_last_lr [0.0007500092205255899] Loss: 1.577,  F1: 0.237\n",
      "scheduler2_last_lr [0.0007591975339354508] Loss: 1.758,  F1: 0.238\n",
      "scheduler2_last_lr [0.0007684984127658524] Loss: 1.636,  F1: 0.238\n",
      "scheduler2_last_lr [0.0007779132360483247] Loss: 1.597,  F1: 0.239\n",
      "scheduler2_last_lr [0.0007874433997088223] Loss: 1.582,  F1: 0.240\n",
      "scheduler2_last_lr [0.0007970903167746962] Loss: 1.695,  F1: 0.240\n",
      "scheduler2_last_lr [0.0008068554175842019] Loss: 1.683,  F1: 0.240\n",
      "scheduler2_last_lr [0.0008167401499985748] Loss: 1.562,  F1: 0.241\n",
      "scheduler2_last_lr [0.0008267459796167024] Loss: 1.472,  F1: 0.242\n",
      "scheduler2_last_lr [0.0008368743899924273] Loss: 1.628,  F1: 0.242\n",
      "scheduler2_last_lr [0.0008471268828545123] Loss: 1.631,  F1: 0.243\n",
      "scheduler2_last_lr [0.0008575049783293001] Loss: 1.545,  F1: 0.244\n",
      "scheduler2_last_lr [0.0008680102151661008] Loss: 1.533,  F1: 0.244\n",
      "scheduler2_last_lr [0.0008786441509653404] Loss: 1.424,  F1: 0.245\n",
      "scheduler2_last_lr [0.0008894083624095052] Loss: 1.440,  F1: 0.246\n",
      "scheduler2_last_lr [0.0009003044454969142] Loss: 1.576,  F1: 0.246\n",
      "scheduler2_last_lr [0.0009113340157783563] Loss: 1.430,  F1: 0.247\n",
      "scheduler2_last_lr [0.0009224987085966268] Loss: 1.688,  F1: 0.247\n",
      "scheduler2_last_lr [0.000933800179328997], Loss: 1.574,  F1: 0.248\n",
      "scheduler2_last_lr [0.0009452401036326561] Loss: 1.522,  F1: 0.249\n",
      "scheduler2_last_lr [0.0009568201776931588] Loss: 1.525,  F1: 0.249\n",
      "scheduler2_last_lr [0.000968542118475917], Loss: 1.494,  F1: 0.250\n",
      "scheduler2_last_lr [0.0009804076639807723] Loss: 1.591,  F1: 0.250\n",
      "scheduler2_last_lr [0.0009924185734996873] Loss: 1.497,  F1: 0.251\n",
      "Current step: 285, AllocMem (Mb): 111.391, Loss: 1.519,  F1: 0.252\n",
      "Training complete in 1m 14s\n",
      "----------\n",
      "\n",
      "\n",
      " Loss val: 1.467, F-Score val:0.440 \n",
      "\n",
      "\n",
      "Training complete in 1m 16s\n",
      "----------\n",
      "\n",
      " Training complete in 1m 16s\n"
     ]
    }
   ],
   "source": [
    "# Warm Up\n",
    "\n",
    "model = UNET_multiscale2().to(device)\n",
    "\n",
    "m = X_train_labeled.shape[0]\n",
    "T = m/batch_size\n",
    "\n",
    "alpha = 0.001/batch_size\n",
    "beta  = 32**(1/T)\n",
    "\n",
    "\n",
    "opt = optim.Adam(model.parameters(), lr=alpha)\n",
    "scheduler  = optim.lr_scheduler.MultiStepLR(opt, milestones=[100,180], gamma=0.001)\n",
    "scheduler2 = optim.lr_scheduler.StepLR(opt,step_size=1, gamma=beta)\n",
    "\n",
    "\n",
    "history = warmUp(model, dataloaders, loss_fn = border_loss, optimizer = opt, acc_fn = f1_score, epochs=1)"
   ]
  },
  {
   "cell_type": "code",
   "execution_count": null,
   "metadata": {},
   "outputs": [],
   "source": []
  },
  {
   "cell_type": "code",
   "execution_count": null,
   "metadata": {},
   "outputs": [],
   "source": []
  },
  {
   "cell_type": "code",
   "execution_count": 50,
   "metadata": {
    "scrolled": true
   },
   "outputs": [
    {
     "name": "stdout",
     "output_type": "stream",
     "text": [
      "----------------------------------------------------------------\n",
      "        Layer (type)               Output Shape         Param #\n",
      "================================================================\n",
      "       BatchNorm2d-1          [-1, 3, 128, 128]               6\n",
      "            Conv2d-2         [-1, 16, 128, 128]              64\n",
      "       BatchNorm2d-3         [-1, 16, 128, 128]              32\n",
      "            Conv2d-4         [-1, 16, 128, 128]              64\n",
      "       BatchNorm2d-5         [-1, 16, 128, 128]              32\n",
      "            Conv2d-6         [-1, 16, 128, 128]              64\n",
      "       BatchNorm2d-7         [-1, 16, 128, 128]              32\n",
      "            Conv2d-8         [-1, 16, 128, 128]              64\n",
      "       BatchNorm2d-9         [-1, 16, 128, 128]              32\n",
      "           Conv2d-10         [-1, 16, 128, 128]           2,320\n",
      "      BatchNorm2d-11         [-1, 16, 128, 128]              32\n",
      "           Conv2d-12         [-1, 16, 128, 128]           6,416\n",
      "      BatchNorm2d-13         [-1, 16, 128, 128]              32\n",
      "           Conv2d-14         [-1, 16, 128, 128]          12,560\n",
      "      BatchNorm2d-15         [-1, 16, 128, 128]              32\n",
      "      BatchNorm2d-16         [-1, 64, 128, 128]             128\n",
      "           Conv2d-17         [-1, 16, 128, 128]           1,040\n",
      "      BatchNorm2d-18         [-1, 16, 128, 128]              32\n",
      "           Conv2d-19         [-1, 16, 128, 128]           1,040\n",
      "      BatchNorm2d-20         [-1, 16, 128, 128]              32\n",
      "           Conv2d-21         [-1, 16, 128, 128]           1,040\n",
      "      BatchNorm2d-22         [-1, 16, 128, 128]              32\n",
      "           Conv2d-23         [-1, 16, 128, 128]           1,040\n",
      "      BatchNorm2d-24         [-1, 16, 128, 128]              32\n",
      "           Conv2d-25         [-1, 16, 128, 128]           2,320\n",
      "      BatchNorm2d-26         [-1, 16, 128, 128]              32\n",
      "           Conv2d-27         [-1, 16, 128, 128]           6,416\n",
      "      BatchNorm2d-28         [-1, 16, 128, 128]              32\n",
      "           Conv2d-29         [-1, 16, 128, 128]          12,560\n",
      "      BatchNorm2d-30         [-1, 16, 128, 128]              32\n",
      "      basic_block-31         [-1, 64, 128, 128]               0\n",
      "           Conv2d-32           [-1, 32, 64, 64]           8,224\n",
      "      BatchNorm2d-33           [-1, 32, 64, 64]              64\n",
      "           Conv2d-34           [-1, 16, 64, 64]             528\n",
      "      BatchNorm2d-35           [-1, 16, 64, 64]              32\n",
      "           Conv2d-36           [-1, 16, 64, 64]             528\n",
      "      BatchNorm2d-37           [-1, 16, 64, 64]              32\n",
      "           Conv2d-38           [-1, 16, 64, 64]             528\n",
      "      BatchNorm2d-39           [-1, 16, 64, 64]              32\n",
      "           Conv2d-40           [-1, 16, 64, 64]             528\n",
      "      BatchNorm2d-41           [-1, 16, 64, 64]              32\n",
      "           Conv2d-42           [-1, 16, 64, 64]           2,320\n",
      "      BatchNorm2d-43           [-1, 16, 64, 64]              32\n",
      "           Conv2d-44           [-1, 16, 64, 64]           6,416\n",
      "      BatchNorm2d-45           [-1, 16, 64, 64]              32\n",
      "           Conv2d-46           [-1, 16, 64, 64]          12,560\n",
      "      BatchNorm2d-47           [-1, 16, 64, 64]              32\n",
      "      BatchNorm2d-48           [-1, 64, 64, 64]             128\n",
      "           Conv2d-49           [-1, 16, 64, 64]           1,040\n",
      "      BatchNorm2d-50           [-1, 16, 64, 64]              32\n",
      "           Conv2d-51           [-1, 16, 64, 64]           1,040\n",
      "      BatchNorm2d-52           [-1, 16, 64, 64]              32\n",
      "           Conv2d-53           [-1, 16, 64, 64]           1,040\n",
      "      BatchNorm2d-54           [-1, 16, 64, 64]              32\n",
      "           Conv2d-55           [-1, 16, 64, 64]           1,040\n",
      "      BatchNorm2d-56           [-1, 16, 64, 64]              32\n",
      "           Conv2d-57           [-1, 16, 64, 64]           2,320\n",
      "      BatchNorm2d-58           [-1, 16, 64, 64]              32\n",
      "           Conv2d-59           [-1, 16, 64, 64]           6,416\n",
      "      BatchNorm2d-60           [-1, 16, 64, 64]              32\n",
      "           Conv2d-61           [-1, 16, 64, 64]          12,560\n",
      "      BatchNorm2d-62           [-1, 16, 64, 64]              32\n",
      "      basic_block-63           [-1, 64, 64, 64]               0\n",
      "           Conv2d-64           [-1, 64, 32, 32]          16,448\n",
      "      BatchNorm2d-65           [-1, 64, 32, 32]             128\n",
      "           Conv2d-66           [-1, 32, 32, 32]           2,080\n",
      "      BatchNorm2d-67           [-1, 32, 32, 32]              64\n",
      "           Conv2d-68           [-1, 32, 32, 32]           2,080\n",
      "      BatchNorm2d-69           [-1, 32, 32, 32]              64\n",
      "           Conv2d-70           [-1, 32, 32, 32]           2,080\n",
      "      BatchNorm2d-71           [-1, 32, 32, 32]              64\n",
      "           Conv2d-72           [-1, 32, 32, 32]           2,080\n",
      "      BatchNorm2d-73           [-1, 32, 32, 32]              64\n",
      "           Conv2d-74           [-1, 32, 32, 32]           9,248\n",
      "      BatchNorm2d-75           [-1, 32, 32, 32]              64\n",
      "           Conv2d-76           [-1, 32, 32, 32]          25,632\n",
      "      BatchNorm2d-77           [-1, 32, 32, 32]              64\n",
      "           Conv2d-78           [-1, 32, 32, 32]          50,208\n",
      "      BatchNorm2d-79           [-1, 32, 32, 32]              64\n",
      "      BatchNorm2d-80          [-1, 128, 32, 32]             256\n",
      "           Conv2d-81           [-1, 32, 32, 32]           4,128\n",
      "      BatchNorm2d-82           [-1, 32, 32, 32]              64\n",
      "           Conv2d-83           [-1, 32, 32, 32]           4,128\n",
      "      BatchNorm2d-84           [-1, 32, 32, 32]              64\n",
      "           Conv2d-85           [-1, 32, 32, 32]           4,128\n",
      "      BatchNorm2d-86           [-1, 32, 32, 32]              64\n",
      "           Conv2d-87           [-1, 32, 32, 32]           4,128\n",
      "      BatchNorm2d-88           [-1, 32, 32, 32]              64\n",
      "           Conv2d-89           [-1, 32, 32, 32]           9,248\n",
      "      BatchNorm2d-90           [-1, 32, 32, 32]              64\n",
      "           Conv2d-91           [-1, 32, 32, 32]          25,632\n",
      "      BatchNorm2d-92           [-1, 32, 32, 32]              64\n",
      "           Conv2d-93           [-1, 32, 32, 32]          50,208\n",
      "      BatchNorm2d-94           [-1, 32, 32, 32]              64\n",
      "      basic_block-95          [-1, 128, 32, 32]               0\n",
      "           Conv2d-96          [-1, 128, 16, 16]          65,664\n",
      "      BatchNorm2d-97          [-1, 128, 16, 16]             256\n",
      "           Conv2d-98           [-1, 64, 16, 16]           8,256\n",
      "      BatchNorm2d-99           [-1, 64, 16, 16]             128\n",
      "          Conv2d-100           [-1, 64, 16, 16]           8,256\n",
      "     BatchNorm2d-101           [-1, 64, 16, 16]             128\n",
      "          Conv2d-102           [-1, 64, 16, 16]           8,256\n",
      "     BatchNorm2d-103           [-1, 64, 16, 16]             128\n",
      "          Conv2d-104           [-1, 64, 16, 16]           8,256\n",
      "     BatchNorm2d-105           [-1, 64, 16, 16]             128\n",
      "          Conv2d-106           [-1, 64, 16, 16]          36,928\n",
      "     BatchNorm2d-107           [-1, 64, 16, 16]             128\n",
      "          Conv2d-108           [-1, 64, 16, 16]         102,464\n",
      "     BatchNorm2d-109           [-1, 64, 16, 16]             128\n",
      "          Conv2d-110           [-1, 64, 16, 16]         200,768\n",
      "     BatchNorm2d-111           [-1, 64, 16, 16]             128\n",
      "     BatchNorm2d-112          [-1, 256, 16, 16]             512\n",
      "          Conv2d-113           [-1, 64, 16, 16]          16,448\n",
      "     BatchNorm2d-114           [-1, 64, 16, 16]             128\n",
      "          Conv2d-115           [-1, 64, 16, 16]          16,448\n",
      "     BatchNorm2d-116           [-1, 64, 16, 16]             128\n",
      "          Conv2d-117           [-1, 64, 16, 16]          16,448\n",
      "     BatchNorm2d-118           [-1, 64, 16, 16]             128\n",
      "          Conv2d-119           [-1, 64, 16, 16]          16,448\n",
      "     BatchNorm2d-120           [-1, 64, 16, 16]             128\n",
      "          Conv2d-121           [-1, 64, 16, 16]          36,928\n",
      "     BatchNorm2d-122           [-1, 64, 16, 16]             128\n",
      "          Conv2d-123           [-1, 64, 16, 16]         102,464\n",
      "     BatchNorm2d-124           [-1, 64, 16, 16]             128\n",
      "          Conv2d-125           [-1, 64, 16, 16]         200,768\n",
      "     BatchNorm2d-126           [-1, 64, 16, 16]             128\n",
      "     basic_block-127          [-1, 256, 16, 16]               0\n",
      "          Conv2d-128            [-1, 256, 8, 8]         262,400\n",
      "     BatchNorm2d-129            [-1, 256, 8, 8]             512\n",
      "          Conv2d-130            [-1, 128, 8, 8]          32,896\n",
      "     BatchNorm2d-131            [-1, 128, 8, 8]             256\n",
      "          Conv2d-132            [-1, 128, 8, 8]          32,896\n",
      "     BatchNorm2d-133            [-1, 128, 8, 8]             256\n",
      "          Conv2d-134            [-1, 128, 8, 8]          32,896\n",
      "     BatchNorm2d-135            [-1, 128, 8, 8]             256\n",
      "          Conv2d-136            [-1, 128, 8, 8]          32,896\n",
      "     BatchNorm2d-137            [-1, 128, 8, 8]             256\n",
      "          Conv2d-138            [-1, 128, 8, 8]         147,584\n",
      "     BatchNorm2d-139            [-1, 128, 8, 8]             256\n",
      "          Conv2d-140            [-1, 128, 8, 8]         409,728\n",
      "     BatchNorm2d-141            [-1, 128, 8, 8]             256\n",
      "          Conv2d-142            [-1, 128, 8, 8]         802,944\n",
      "     BatchNorm2d-143            [-1, 128, 8, 8]             256\n",
      "     BatchNorm2d-144            [-1, 512, 8, 8]           1,024\n",
      "          Conv2d-145            [-1, 128, 8, 8]          65,664\n",
      "     BatchNorm2d-146            [-1, 128, 8, 8]             256\n",
      "          Conv2d-147            [-1, 128, 8, 8]          65,664\n",
      "     BatchNorm2d-148            [-1, 128, 8, 8]             256\n",
      "          Conv2d-149            [-1, 128, 8, 8]          65,664\n",
      "     BatchNorm2d-150            [-1, 128, 8, 8]             256\n",
      "          Conv2d-151            [-1, 128, 8, 8]          65,664\n",
      "     BatchNorm2d-152            [-1, 128, 8, 8]             256\n",
      "          Conv2d-153            [-1, 128, 8, 8]         147,584\n",
      "     BatchNorm2d-154            [-1, 128, 8, 8]             256\n",
      "          Conv2d-155            [-1, 128, 8, 8]         409,728\n",
      "     BatchNorm2d-156            [-1, 128, 8, 8]             256\n",
      "          Conv2d-157            [-1, 128, 8, 8]         802,944\n",
      "     BatchNorm2d-158            [-1, 128, 8, 8]             256\n",
      "     basic_block-159            [-1, 512, 8, 8]               0\n",
      "     BatchNorm2d-160            [-1, 512, 8, 8]           1,024\n",
      " ConvTranspose2d-161          [-1, 256, 16, 16]         524,544\n",
      "     BatchNorm2d-162          [-1, 512, 16, 16]           1,024\n",
      "          Conv2d-163           [-1, 64, 16, 16]          32,832\n",
      "     BatchNorm2d-164           [-1, 64, 16, 16]             128\n",
      "          Conv2d-165           [-1, 64, 16, 16]          32,832\n",
      "     BatchNorm2d-166           [-1, 64, 16, 16]             128\n",
      "          Conv2d-167           [-1, 64, 16, 16]          32,832\n",
      "     BatchNorm2d-168           [-1, 64, 16, 16]             128\n",
      "          Conv2d-169           [-1, 64, 16, 16]          32,832\n",
      "     BatchNorm2d-170           [-1, 64, 16, 16]             128\n",
      "          Conv2d-171           [-1, 64, 16, 16]          36,928\n",
      "     BatchNorm2d-172           [-1, 64, 16, 16]             128\n",
      "          Conv2d-173           [-1, 64, 16, 16]         102,464\n",
      "     BatchNorm2d-174           [-1, 64, 16, 16]             128\n",
      "          Conv2d-175           [-1, 64, 16, 16]         200,768\n",
      "     BatchNorm2d-176           [-1, 64, 16, 16]             128\n",
      "     BatchNorm2d-177          [-1, 256, 16, 16]             512\n",
      "          Conv2d-178           [-1, 64, 16, 16]          16,448\n",
      "     BatchNorm2d-179           [-1, 64, 16, 16]             128\n",
      "          Conv2d-180           [-1, 64, 16, 16]          16,448\n",
      "     BatchNorm2d-181           [-1, 64, 16, 16]             128\n",
      "          Conv2d-182           [-1, 64, 16, 16]          16,448\n",
      "     BatchNorm2d-183           [-1, 64, 16, 16]             128\n",
      "          Conv2d-184           [-1, 64, 16, 16]          16,448\n",
      "     BatchNorm2d-185           [-1, 64, 16, 16]             128\n",
      "          Conv2d-186           [-1, 64, 16, 16]          36,928\n",
      "     BatchNorm2d-187           [-1, 64, 16, 16]             128\n",
      "          Conv2d-188           [-1, 64, 16, 16]         102,464\n",
      "     BatchNorm2d-189           [-1, 64, 16, 16]             128\n",
      "          Conv2d-190           [-1, 64, 16, 16]         200,768\n",
      "     BatchNorm2d-191           [-1, 64, 16, 16]             128\n",
      "     basic_block-192          [-1, 256, 16, 16]               0\n",
      "     BatchNorm2d-193          [-1, 256, 16, 16]             512\n",
      " ConvTranspose2d-194          [-1, 128, 32, 32]         131,200\n",
      "     BatchNorm2d-195          [-1, 256, 32, 32]             512\n",
      "          Conv2d-196           [-1, 32, 32, 32]           8,224\n",
      "     BatchNorm2d-197           [-1, 32, 32, 32]              64\n",
      "          Conv2d-198           [-1, 32, 32, 32]           8,224\n",
      "     BatchNorm2d-199           [-1, 32, 32, 32]              64\n",
      "          Conv2d-200           [-1, 32, 32, 32]           8,224\n",
      "     BatchNorm2d-201           [-1, 32, 32, 32]              64\n",
      "          Conv2d-202           [-1, 32, 32, 32]           8,224\n",
      "     BatchNorm2d-203           [-1, 32, 32, 32]              64\n",
      "          Conv2d-204           [-1, 32, 32, 32]           9,248\n",
      "     BatchNorm2d-205           [-1, 32, 32, 32]              64\n",
      "          Conv2d-206           [-1, 32, 32, 32]          25,632\n",
      "     BatchNorm2d-207           [-1, 32, 32, 32]              64\n",
      "          Conv2d-208           [-1, 32, 32, 32]          50,208\n",
      "     BatchNorm2d-209           [-1, 32, 32, 32]              64\n",
      "     BatchNorm2d-210          [-1, 128, 32, 32]             256\n",
      "          Conv2d-211           [-1, 32, 32, 32]           4,128\n",
      "     BatchNorm2d-212           [-1, 32, 32, 32]              64\n",
      "          Conv2d-213           [-1, 32, 32, 32]           4,128\n",
      "     BatchNorm2d-214           [-1, 32, 32, 32]              64\n",
      "          Conv2d-215           [-1, 32, 32, 32]           4,128\n",
      "     BatchNorm2d-216           [-1, 32, 32, 32]              64\n",
      "          Conv2d-217           [-1, 32, 32, 32]           4,128\n",
      "     BatchNorm2d-218           [-1, 32, 32, 32]              64\n",
      "          Conv2d-219           [-1, 32, 32, 32]           9,248\n",
      "     BatchNorm2d-220           [-1, 32, 32, 32]              64\n",
      "          Conv2d-221           [-1, 32, 32, 32]          25,632\n",
      "     BatchNorm2d-222           [-1, 32, 32, 32]              64\n",
      "          Conv2d-223           [-1, 32, 32, 32]          50,208\n",
      "     BatchNorm2d-224           [-1, 32, 32, 32]              64\n",
      "     basic_block-225          [-1, 128, 32, 32]               0\n",
      "     BatchNorm2d-226          [-1, 128, 32, 32]             256\n",
      " ConvTranspose2d-227           [-1, 64, 64, 64]          32,832\n",
      "     BatchNorm2d-228          [-1, 128, 64, 64]             256\n",
      "          Conv2d-229           [-1, 16, 64, 64]           2,064\n",
      "     BatchNorm2d-230           [-1, 16, 64, 64]              32\n",
      "          Conv2d-231           [-1, 16, 64, 64]           2,064\n",
      "     BatchNorm2d-232           [-1, 16, 64, 64]              32\n",
      "          Conv2d-233           [-1, 16, 64, 64]           2,064\n",
      "     BatchNorm2d-234           [-1, 16, 64, 64]              32\n",
      "          Conv2d-235           [-1, 16, 64, 64]           2,064\n",
      "     BatchNorm2d-236           [-1, 16, 64, 64]              32\n",
      "          Conv2d-237           [-1, 16, 64, 64]           2,320\n",
      "     BatchNorm2d-238           [-1, 16, 64, 64]              32\n",
      "          Conv2d-239           [-1, 16, 64, 64]           6,416\n",
      "     BatchNorm2d-240           [-1, 16, 64, 64]              32\n",
      "          Conv2d-241           [-1, 16, 64, 64]          12,560\n",
      "     BatchNorm2d-242           [-1, 16, 64, 64]              32\n",
      "     BatchNorm2d-243           [-1, 64, 64, 64]             128\n",
      "          Conv2d-244           [-1, 16, 64, 64]           1,040\n",
      "     BatchNorm2d-245           [-1, 16, 64, 64]              32\n",
      "          Conv2d-246           [-1, 16, 64, 64]           1,040\n",
      "     BatchNorm2d-247           [-1, 16, 64, 64]              32\n",
      "          Conv2d-248           [-1, 16, 64, 64]           1,040\n",
      "     BatchNorm2d-249           [-1, 16, 64, 64]              32\n",
      "          Conv2d-250           [-1, 16, 64, 64]           1,040\n",
      "     BatchNorm2d-251           [-1, 16, 64, 64]              32\n",
      "          Conv2d-252           [-1, 16, 64, 64]           2,320\n",
      "     BatchNorm2d-253           [-1, 16, 64, 64]              32\n",
      "          Conv2d-254           [-1, 16, 64, 64]           6,416\n",
      "     BatchNorm2d-255           [-1, 16, 64, 64]              32\n",
      "          Conv2d-256           [-1, 16, 64, 64]          12,560\n",
      "     BatchNorm2d-257           [-1, 16, 64, 64]              32\n",
      "     basic_block-258           [-1, 64, 64, 64]               0\n",
      "     BatchNorm2d-259           [-1, 64, 64, 64]             128\n",
      " ConvTranspose2d-260         [-1, 64, 128, 128]          16,448\n",
      "     BatchNorm2d-261        [-1, 128, 128, 128]             256\n",
      "          Conv2d-262         [-1, 16, 128, 128]           2,064\n",
      "     BatchNorm2d-263         [-1, 16, 128, 128]              32\n",
      "          Conv2d-264         [-1, 16, 128, 128]           2,064\n",
      "     BatchNorm2d-265         [-1, 16, 128, 128]              32\n",
      "          Conv2d-266         [-1, 16, 128, 128]           2,064\n",
      "     BatchNorm2d-267         [-1, 16, 128, 128]              32\n",
      "          Conv2d-268         [-1, 16, 128, 128]           2,064\n",
      "     BatchNorm2d-269         [-1, 16, 128, 128]              32\n",
      "          Conv2d-270         [-1, 16, 128, 128]           2,320\n",
      "     BatchNorm2d-271         [-1, 16, 128, 128]              32\n",
      "          Conv2d-272         [-1, 16, 128, 128]           6,416\n",
      "     BatchNorm2d-273         [-1, 16, 128, 128]              32\n",
      "          Conv2d-274         [-1, 16, 128, 128]          12,560\n",
      "     BatchNorm2d-275         [-1, 16, 128, 128]              32\n",
      "     BatchNorm2d-276         [-1, 64, 128, 128]             128\n",
      "          Conv2d-277         [-1, 16, 128, 128]           1,040\n",
      "     BatchNorm2d-278         [-1, 16, 128, 128]              32\n",
      "          Conv2d-279         [-1, 16, 128, 128]           1,040\n",
      "     BatchNorm2d-280         [-1, 16, 128, 128]              32\n",
      "          Conv2d-281         [-1, 16, 128, 128]           1,040\n",
      "     BatchNorm2d-282         [-1, 16, 128, 128]              32\n",
      "          Conv2d-283         [-1, 16, 128, 128]           1,040\n",
      "     BatchNorm2d-284         [-1, 16, 128, 128]              32\n",
      "          Conv2d-285         [-1, 16, 128, 128]           2,320\n",
      "     BatchNorm2d-286         [-1, 16, 128, 128]              32\n",
      "          Conv2d-287         [-1, 16, 128, 128]           6,416\n",
      "     BatchNorm2d-288         [-1, 16, 128, 128]              32\n",
      "          Conv2d-289         [-1, 16, 128, 128]          12,560\n",
      "     BatchNorm2d-290         [-1, 16, 128, 128]              32\n",
      "     basic_block-291         [-1, 64, 128, 128]               0\n",
      "          Conv2d-292          [-1, 1, 128, 128]              65\n",
      "================================================================\n",
      "Total params: 6,468,391\n",
      "Trainable params: 6,468,391\n",
      "Non-trainable params: 0\n",
      "----------------------------------------------------------------\n",
      "Input size (MB): 0.19\n",
      "Forward/backward pass size (MB): 251.75\n",
      "Params size (MB): 24.67\n",
      "Estimated Total Size (MB): 276.61\n",
      "----------------------------------------------------------------\n"
     ]
    }
   ],
   "source": [
    "alpha = 0.001 # 0.003\n",
    "\n",
    "opt = optim.Adam(model.parameters(), lr=alpha)\n",
    "# scheduler = optim.lr_scheduler.MultiStepLR(opt, milestones=[100,180], gamma=0.1)\n",
    "scheduler = optim.lr_scheduler.CosineAnnealingLR(opt, 50, eta_min=0, last_epoch=- 1, verbose=False)\n",
    "\n",
    "summary(model,(3,128,128))\n"
   ]
  },
  {
   "cell_type": "code",
   "execution_count": 51,
   "metadata": {},
   "outputs": [
    {
     "data": {
      "text/plain": [
       "'C:\\\\Saiful_Results\\\\UNET_MC_2_Base_cosine_annealing001\\\\Wed-May-10-17-33-26-2023'"
      ]
     },
     "execution_count": 51,
     "metadata": {},
     "output_type": "execute_result"
    }
   ],
   "source": [
    "save_last"
   ]
  },
  {
   "cell_type": "code",
   "execution_count": null,
   "metadata": {
    "scrolled": true
   },
   "outputs": [
    {
     "name": "stdout",
     "output_type": "stream",
     "text": [
      "Epoch 0\n",
      "[0.001]\n",
      "Current step: 285, AllocMem (Mb): 160.877, Loss: 1.104,  F1: 0.516,  AP: 0.509\n",
      "Training complete in 1m 45s\n",
      "----------\n",
      "\n",
      "\n",
      " Loss val: 1.089, F-Score val:0.559, AP val:0.592 \n",
      "\n",
      "\n",
      "Training complete in 1m 51s\n",
      "----------\n",
      "Epoch 1\n",
      "[0.0009990133642141358]\n",
      "Current step: 35, AllocMem (Mb): 163.127, Loss: 1.122,  F1: 0.555,  AP: 0.570\r"
     ]
    }
   ],
   "source": [
    "history = train_round1(model, dataloaders, loss_fn = border_loss, optimizer = opt, acc_fn = f1_score, epochs=50)"
   ]
  },
  {
   "cell_type": "code",
   "execution_count": null,
   "metadata": {},
   "outputs": [],
   "source": [
    "df = pd.DataFrame(history['f1_epoch'])\n",
    "                  \n",
    "df.to_csv(save_last+ '\\\\'+ \"UNET_MC_2_Base_feature_SingleDepth.csv\")"
   ]
  },
  {
   "cell_type": "code",
   "execution_count": null,
   "metadata": {},
   "outputs": [],
   "source": [
    "testModel = torch.load(f\"{save_last}\\\\Epoch_041.pth\")"
   ]
  },
  {
   "cell_type": "code",
   "execution_count": null,
   "metadata": {
    "scrolled": true
   },
   "outputs": [],
   "source": [
    "test_history = test(testModel, dataloaders, loss_fn = border_loss, acc_fn = f1_score,epochs=1)"
   ]
  },
  {
   "cell_type": "code",
   "execution_count": null,
   "metadata": {},
   "outputs": [],
   "source": [
    "dataloaderSentinel = data(trans, trans_test, X_sen, Y_sen, X_val_sen, Y_val_sen, X_test_sen, Y_test_sen, batch_size=batch_size)\n",
    "\n",
    "\n",
    "dataloaderLandSAT = data(trans, trans_test, X_LS, Y_LS, X_val_LandSAT, Y_val_LandSAT, X_test_LandSAT, Y_test_LandSAT, batch_size=batch_size)\n",
    "\n",
    "\n"
   ]
  },
  {
   "cell_type": "code",
   "execution_count": null,
   "metadata": {
    "scrolled": true
   },
   "outputs": [],
   "source": [
    "test_Sen = test(testModel, dataloaderSentinel, loss_fn = border_loss, acc_fn = f1_score, epochs=1)"
   ]
  },
  {
   "cell_type": "code",
   "execution_count": null,
   "metadata": {
    "scrolled": true
   },
   "outputs": [],
   "source": [
    "test_LS = test(testModel, dataloaderLandSAT, loss_fn = border_loss, acc_fn = f1_score, epochs=1)"
   ]
  },
  {
   "cell_type": "code",
   "execution_count": null,
   "metadata": {},
   "outputs": [],
   "source": []
  },
  {
   "cell_type": "code",
   "execution_count": null,
   "metadata": {},
   "outputs": [],
   "source": [
    "#     return {'Train Loss':train_loss,\n",
    "#             'Valid Loss':valid_loss,\n",
    "#             'Times'     :times,\n",
    "#             'Epochs': epoch}"
   ]
  },
  {
   "cell_type": "code",
   "execution_count": null,
   "metadata": {},
   "outputs": [],
   "source": []
  },
  {
   "cell_type": "code",
   "execution_count": null,
   "metadata": {},
   "outputs": [],
   "source": []
  }
 ],
 "metadata": {
  "kernelspec": {
   "display_name": "Python 3 (ipykernel)",
   "language": "python",
   "name": "python3"
  },
  "language_info": {
   "codemirror_mode": {
    "name": "ipython",
    "version": 3
   },
   "file_extension": ".py",
   "mimetype": "text/x-python",
   "name": "python",
   "nbconvert_exporter": "python",
   "pygments_lexer": "ipython3",
   "version": "3.9.7"
  },
  "latex_envs": {
   "LaTeX_envs_menu_present": true,
   "autoclose": false,
   "autocomplete": true,
   "bibliofile": "biblio.bib",
   "cite_by": "apalike",
   "current_citInitial": 1,
   "eqLabelWithNumbers": true,
   "eqNumInitial": 1,
   "hotkeys": {
    "equation": "Ctrl-E",
    "itemize": "Ctrl-I"
   },
   "labels_anchors": false,
   "latex_user_defs": false,
   "report_style_numbering": false,
   "user_envs_cfg": false
  },
  "toc": {
   "base_numbering": 1,
   "nav_menu": {},
   "number_sections": true,
   "sideBar": true,
   "skip_h1_title": false,
   "title_cell": "Table of Contents",
   "title_sidebar": "Contents",
   "toc_cell": false,
   "toc_position": {
    "height": "793px",
    "left": "40px",
    "top": "110px",
    "width": "165px"
   },
   "toc_section_display": true,
   "toc_window_display": true
  },
  "varInspector": {
   "cols": {
    "lenName": 16,
    "lenType": 16,
    "lenVar": 40
   },
   "kernels_config": {
    "python": {
     "delete_cmd_postfix": "",
     "delete_cmd_prefix": "del ",
     "library": "var_list.py",
     "varRefreshCmd": "print(var_dic_list())"
    },
    "r": {
     "delete_cmd_postfix": ") ",
     "delete_cmd_prefix": "rm(",
     "library": "var_list.r",
     "varRefreshCmd": "cat(var_dic_list()) "
    }
   },
   "oldHeight": 496,
   "position": {
    "height": "518px",
    "left": "1676px",
    "right": "20px",
    "top": "120px",
    "width": "224px"
   },
   "types_to_exclude": [
    "module",
    "function",
    "builtin_function_or_method",
    "instance",
    "_Feature"
   ],
   "varInspector_section_display": "block",
   "window_display": false
  }
 },
 "nbformat": 4,
 "nbformat_minor": 4
}
